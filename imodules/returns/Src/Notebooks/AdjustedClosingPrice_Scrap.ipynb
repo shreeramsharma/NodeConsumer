{
 "cells": [
  {
   "cell_type": "code",
   "execution_count": 2,
   "metadata": {
    "ExecuteTime": {
     "end_time": "2019-04-09T06:59:46.307718Z",
     "start_time": "2019-04-09T06:59:46.292216Z"
    }
   },
   "outputs": [
    {
     "name": "stdout",
     "output_type": "stream",
     "text": [
      "Wall time: 0 ns\n"
     ]
    }
   ],
   "source": [
    "%%time\n",
    "import numpy as np\n",
    "import pandas as pd\n",
    "import csv\n",
    "import time\n",
    "# %load_ext line_profiler"
   ]
  },
  {
   "cell_type": "code",
   "execution_count": 3,
   "metadata": {
    "ExecuteTime": {
     "end_time": "2019-04-09T06:59:48.031937Z",
     "start_time": "2019-04-09T06:59:47.932425Z"
    }
   },
   "outputs": [
    {
     "ename": "FileNotFoundError",
     "evalue": "[Errno 2] File b'excel/input/priceData/CA_DATA_11.csv' does not exist: b'excel/input/priceData/CA_DATA_11.csv'",
     "output_type": "error",
     "traceback": [
      "\u001b[1;31m---------------------------------------------------------------------------\u001b[0m",
      "\u001b[1;31mFileNotFoundError\u001b[0m                         Traceback (most recent call last)",
      "\u001b[1;32m<timed exec>\u001b[0m in \u001b[0;36m<module>\u001b[1;34m\u001b[0m\n",
      "\u001b[1;32mc:\\users\\admin\\appdata\\local\\programs\\python\\python37\\lib\\site-packages\\pandas\\io\\parsers.py\u001b[0m in \u001b[0;36mparser_f\u001b[1;34m(filepath_or_buffer, sep, delimiter, header, names, index_col, usecols, squeeze, prefix, mangle_dupe_cols, dtype, engine, converters, true_values, false_values, skipinitialspace, skiprows, skipfooter, nrows, na_values, keep_default_na, na_filter, verbose, skip_blank_lines, parse_dates, infer_datetime_format, keep_date_col, date_parser, dayfirst, iterator, chunksize, compression, thousands, decimal, lineterminator, quotechar, quoting, doublequote, escapechar, comment, encoding, dialect, tupleize_cols, error_bad_lines, warn_bad_lines, delim_whitespace, low_memory, memory_map, float_precision)\u001b[0m\n\u001b[0;32m    700\u001b[0m                     skip_blank_lines=skip_blank_lines)\n\u001b[0;32m    701\u001b[0m \u001b[1;33m\u001b[0m\u001b[0m\n\u001b[1;32m--> 702\u001b[1;33m         \u001b[1;32mreturn\u001b[0m \u001b[0m_read\u001b[0m\u001b[1;33m(\u001b[0m\u001b[0mfilepath_or_buffer\u001b[0m\u001b[1;33m,\u001b[0m \u001b[0mkwds\u001b[0m\u001b[1;33m)\u001b[0m\u001b[1;33m\u001b[0m\u001b[1;33m\u001b[0m\u001b[0m\n\u001b[0m\u001b[0;32m    703\u001b[0m \u001b[1;33m\u001b[0m\u001b[0m\n\u001b[0;32m    704\u001b[0m     \u001b[0mparser_f\u001b[0m\u001b[1;33m.\u001b[0m\u001b[0m__name__\u001b[0m \u001b[1;33m=\u001b[0m \u001b[0mname\u001b[0m\u001b[1;33m\u001b[0m\u001b[1;33m\u001b[0m\u001b[0m\n",
      "\u001b[1;32mc:\\users\\admin\\appdata\\local\\programs\\python\\python37\\lib\\site-packages\\pandas\\io\\parsers.py\u001b[0m in \u001b[0;36m_read\u001b[1;34m(filepath_or_buffer, kwds)\u001b[0m\n\u001b[0;32m    427\u001b[0m \u001b[1;33m\u001b[0m\u001b[0m\n\u001b[0;32m    428\u001b[0m     \u001b[1;31m# Create the parser.\u001b[0m\u001b[1;33m\u001b[0m\u001b[1;33m\u001b[0m\u001b[1;33m\u001b[0m\u001b[0m\n\u001b[1;32m--> 429\u001b[1;33m     \u001b[0mparser\u001b[0m \u001b[1;33m=\u001b[0m \u001b[0mTextFileReader\u001b[0m\u001b[1;33m(\u001b[0m\u001b[0mfilepath_or_buffer\u001b[0m\u001b[1;33m,\u001b[0m \u001b[1;33m**\u001b[0m\u001b[0mkwds\u001b[0m\u001b[1;33m)\u001b[0m\u001b[1;33m\u001b[0m\u001b[1;33m\u001b[0m\u001b[0m\n\u001b[0m\u001b[0;32m    430\u001b[0m \u001b[1;33m\u001b[0m\u001b[0m\n\u001b[0;32m    431\u001b[0m     \u001b[1;32mif\u001b[0m \u001b[0mchunksize\u001b[0m \u001b[1;32mor\u001b[0m \u001b[0miterator\u001b[0m\u001b[1;33m:\u001b[0m\u001b[1;33m\u001b[0m\u001b[1;33m\u001b[0m\u001b[0m\n",
      "\u001b[1;32mc:\\users\\admin\\appdata\\local\\programs\\python\\python37\\lib\\site-packages\\pandas\\io\\parsers.py\u001b[0m in \u001b[0;36m__init__\u001b[1;34m(self, f, engine, **kwds)\u001b[0m\n\u001b[0;32m    893\u001b[0m             \u001b[0mself\u001b[0m\u001b[1;33m.\u001b[0m\u001b[0moptions\u001b[0m\u001b[1;33m[\u001b[0m\u001b[1;34m'has_index_names'\u001b[0m\u001b[1;33m]\u001b[0m \u001b[1;33m=\u001b[0m \u001b[0mkwds\u001b[0m\u001b[1;33m[\u001b[0m\u001b[1;34m'has_index_names'\u001b[0m\u001b[1;33m]\u001b[0m\u001b[1;33m\u001b[0m\u001b[1;33m\u001b[0m\u001b[0m\n\u001b[0;32m    894\u001b[0m \u001b[1;33m\u001b[0m\u001b[0m\n\u001b[1;32m--> 895\u001b[1;33m         \u001b[0mself\u001b[0m\u001b[1;33m.\u001b[0m\u001b[0m_make_engine\u001b[0m\u001b[1;33m(\u001b[0m\u001b[0mself\u001b[0m\u001b[1;33m.\u001b[0m\u001b[0mengine\u001b[0m\u001b[1;33m)\u001b[0m\u001b[1;33m\u001b[0m\u001b[1;33m\u001b[0m\u001b[0m\n\u001b[0m\u001b[0;32m    896\u001b[0m \u001b[1;33m\u001b[0m\u001b[0m\n\u001b[0;32m    897\u001b[0m     \u001b[1;32mdef\u001b[0m \u001b[0mclose\u001b[0m\u001b[1;33m(\u001b[0m\u001b[0mself\u001b[0m\u001b[1;33m)\u001b[0m\u001b[1;33m:\u001b[0m\u001b[1;33m\u001b[0m\u001b[1;33m\u001b[0m\u001b[0m\n",
      "\u001b[1;32mc:\\users\\admin\\appdata\\local\\programs\\python\\python37\\lib\\site-packages\\pandas\\io\\parsers.py\u001b[0m in \u001b[0;36m_make_engine\u001b[1;34m(self, engine)\u001b[0m\n\u001b[0;32m   1120\u001b[0m     \u001b[1;32mdef\u001b[0m \u001b[0m_make_engine\u001b[0m\u001b[1;33m(\u001b[0m\u001b[0mself\u001b[0m\u001b[1;33m,\u001b[0m \u001b[0mengine\u001b[0m\u001b[1;33m=\u001b[0m\u001b[1;34m'c'\u001b[0m\u001b[1;33m)\u001b[0m\u001b[1;33m:\u001b[0m\u001b[1;33m\u001b[0m\u001b[1;33m\u001b[0m\u001b[0m\n\u001b[0;32m   1121\u001b[0m         \u001b[1;32mif\u001b[0m \u001b[0mengine\u001b[0m \u001b[1;33m==\u001b[0m \u001b[1;34m'c'\u001b[0m\u001b[1;33m:\u001b[0m\u001b[1;33m\u001b[0m\u001b[1;33m\u001b[0m\u001b[0m\n\u001b[1;32m-> 1122\u001b[1;33m             \u001b[0mself\u001b[0m\u001b[1;33m.\u001b[0m\u001b[0m_engine\u001b[0m \u001b[1;33m=\u001b[0m \u001b[0mCParserWrapper\u001b[0m\u001b[1;33m(\u001b[0m\u001b[0mself\u001b[0m\u001b[1;33m.\u001b[0m\u001b[0mf\u001b[0m\u001b[1;33m,\u001b[0m \u001b[1;33m**\u001b[0m\u001b[0mself\u001b[0m\u001b[1;33m.\u001b[0m\u001b[0moptions\u001b[0m\u001b[1;33m)\u001b[0m\u001b[1;33m\u001b[0m\u001b[1;33m\u001b[0m\u001b[0m\n\u001b[0m\u001b[0;32m   1123\u001b[0m         \u001b[1;32melse\u001b[0m\u001b[1;33m:\u001b[0m\u001b[1;33m\u001b[0m\u001b[1;33m\u001b[0m\u001b[0m\n\u001b[0;32m   1124\u001b[0m             \u001b[1;32mif\u001b[0m \u001b[0mengine\u001b[0m \u001b[1;33m==\u001b[0m \u001b[1;34m'python'\u001b[0m\u001b[1;33m:\u001b[0m\u001b[1;33m\u001b[0m\u001b[1;33m\u001b[0m\u001b[0m\n",
      "\u001b[1;32mc:\\users\\admin\\appdata\\local\\programs\\python\\python37\\lib\\site-packages\\pandas\\io\\parsers.py\u001b[0m in \u001b[0;36m__init__\u001b[1;34m(self, src, **kwds)\u001b[0m\n\u001b[0;32m   1851\u001b[0m         \u001b[0mkwds\u001b[0m\u001b[1;33m[\u001b[0m\u001b[1;34m'usecols'\u001b[0m\u001b[1;33m]\u001b[0m \u001b[1;33m=\u001b[0m \u001b[0mself\u001b[0m\u001b[1;33m.\u001b[0m\u001b[0musecols\u001b[0m\u001b[1;33m\u001b[0m\u001b[1;33m\u001b[0m\u001b[0m\n\u001b[0;32m   1852\u001b[0m \u001b[1;33m\u001b[0m\u001b[0m\n\u001b[1;32m-> 1853\u001b[1;33m         \u001b[0mself\u001b[0m\u001b[1;33m.\u001b[0m\u001b[0m_reader\u001b[0m \u001b[1;33m=\u001b[0m \u001b[0mparsers\u001b[0m\u001b[1;33m.\u001b[0m\u001b[0mTextReader\u001b[0m\u001b[1;33m(\u001b[0m\u001b[0msrc\u001b[0m\u001b[1;33m,\u001b[0m \u001b[1;33m**\u001b[0m\u001b[0mkwds\u001b[0m\u001b[1;33m)\u001b[0m\u001b[1;33m\u001b[0m\u001b[1;33m\u001b[0m\u001b[0m\n\u001b[0m\u001b[0;32m   1854\u001b[0m         \u001b[0mself\u001b[0m\u001b[1;33m.\u001b[0m\u001b[0munnamed_cols\u001b[0m \u001b[1;33m=\u001b[0m \u001b[0mself\u001b[0m\u001b[1;33m.\u001b[0m\u001b[0m_reader\u001b[0m\u001b[1;33m.\u001b[0m\u001b[0munnamed_cols\u001b[0m\u001b[1;33m\u001b[0m\u001b[1;33m\u001b[0m\u001b[0m\n\u001b[0;32m   1855\u001b[0m \u001b[1;33m\u001b[0m\u001b[0m\n",
      "\u001b[1;32mpandas\\_libs\\parsers.pyx\u001b[0m in \u001b[0;36mpandas._libs.parsers.TextReader.__cinit__\u001b[1;34m()\u001b[0m\n",
      "\u001b[1;32mpandas\\_libs\\parsers.pyx\u001b[0m in \u001b[0;36mpandas._libs.parsers.TextReader._setup_parser_source\u001b[1;34m()\u001b[0m\n",
      "\u001b[1;31mFileNotFoundError\u001b[0m: [Errno 2] File b'excel/input/priceData/CA_DATA_11.csv' does not exist: b'excel/input/priceData/CA_DATA_11.csv'"
     ]
    }
   ],
   "source": [
    "%%time\n",
    "####\n",
    "# inputDf = pd.read_excel('inputTestData.xlsx',index_col=0)\n",
    "caData = pd.read_csv('excel/input/priceData/CA_DATA_11.csv')\n",
    "priceJanJune17 = pd.read_csv('excel/input/priceData/Price Data Jan to Jun 17.csv')\n",
    "priceJulDec17 = pd.read_csv('excel/input/priceData/Price Data Jul to Dec 17.csv')\n",
    "\n",
    "# replace null values of BC_TO_DATE <-- BSE_NSE_EX_DATE\n",
    "caData = caData.fillna({\n",
    "    \"BC_TO_DATE\":caData[\"BSE_NSE_EX_DATE\"]\n",
    "})\n",
    "caData['BC_TO_DATE'] = pd.to_datetime(caData['BC_TO_DATE'],format='%d/%m/%Y')\n",
    "price = pd.DataFrame(priceJanJune17.append(priceJulDec17)).reset_index().drop(columns=\"index\")"
   ]
  },
  {
   "cell_type": "code",
   "execution_count": 3,
   "metadata": {},
   "outputs": [
    {
     "name": "stdout",
     "output_type": "stream",
     "text": [
      "Wall time: 4.37 s\n"
     ]
    }
   ],
   "source": [
    "%%time\n",
    "####\n",
    "price['ISIN'] = price['ISIN'].fillna(0)\n",
    "price['MTMDATE'] = pd.to_datetime(price['MTMDATE'],format='%d-%m-%Y')\n",
    "distPrice = price.drop_duplicates(subset=[\"ISIN\",\"MTMDATE\"]).reset_index().drop(columns='index')\n",
    "\n",
    "dateDf = pd.DataFrame(data = {\"Date\": pd.date_range(price['MTMDATE'].min(),price['MTMDATE'].max())})\n",
    "dateDistPrice = pd.merge(dateDf,distPrice,left_on=\"Date\",right_on=[\"MTMDATE\"],how=\"left\")"
   ]
  },
  {
   "cell_type": "code",
   "execution_count": 4,
   "metadata": {},
   "outputs": [
    {
     "name": "stdout",
     "output_type": "stream",
     "text": [
      "Wall time: 1.11 s\n"
     ]
    }
   ],
   "source": [
    "%%time\n",
    "####\n",
    "cols = dateDistPrice['ISIN'].unique()\n",
    "cols = cols[~pd.isna(cols)]\n",
    "\n",
    "pivotDf = dateDistPrice.pivot_table(index =['Date'],columns=['ISIN']).fillna(method='ffill').fillna(method='bfill')\n",
    "# pivotDf = dateDistPrice.pivot_table(index =['Date'],columns=['ISIN'])\n",
    "\n",
    "pivotDf.columns=pivotDf.columns.droplevel(0)\n",
    "pivotDf"
   ]
  },
  {
   "cell_type": "code",
   "execution_count": 5,
   "metadata": {},
   "outputs": [
    {
     "name": "stdout",
     "output_type": "stream",
     "text": [
      "Wall time: 29.9 ms\n"
     ]
    }
   ],
   "source": [
    "%%time\n",
    "####\n",
    "pivotDf = pivotDf.rename_axis(None, axis=1)\n",
    "pivotDf\n",
    "\n",
    "####\n",
    "pivotDf = pivotDf[cols]\n",
    "pivotDf"
   ]
  },
  {
   "cell_type": "code",
   "execution_count": 6,
   "metadata": {},
   "outputs": [
    {
     "name": "stdout",
     "output_type": "stream",
     "text": [
      "Wall time: 438 ms\n"
     ]
    }
   ],
   "source": [
    "%%time\n",
    "####\n",
    "pivotDf = pivotDf.rename_axis(None, axis=1).stack().reset_index().rename(columns={'level_1':\"ISIN\",0:\"MTMPRICE\"})\n",
    "\n",
    "distCaData = caData.drop_duplicates(subset=[\"ISIN\",\"BC_TO_DATE\"]).reset_index().drop(columns='index')"
   ]
  },
  {
   "cell_type": "code",
   "execution_count": 7,
   "metadata": {},
   "outputs": [
    {
     "name": "stdout",
     "output_type": "stream",
     "text": [
      "Wall time: 3.36 s\n"
     ]
    }
   ],
   "source": [
    "%%time\n",
    "mergeDF = pd.merge(pivotDf,distCaData,left_on=[\"ISIN\",\"Date\"],right_on=[\"ISIN\",\"BC_TO_DATE\"],how='left')\n",
    "mergeDF"
   ]
  },
  {
   "cell_type": "code",
   "execution_count": 8,
   "metadata": {},
   "outputs": [
    {
     "name": "stdout",
     "output_type": "stream",
     "text": [
      "Wall time: 323 ms\n"
     ]
    }
   ],
   "source": [
    "%%time\n",
    "####\n",
    "mergeDF['OLD_RATIO'].fillna(1,inplace=True)\n",
    "mergeDF['NEW_RATIO'].fillna(1,inplace=True)\n",
    "finalDf = pd.DataFrame()\n",
    "finalDf['Date'] = mergeDF['Date']\n",
    "finalDf['ISIN'] =mergeDF['ISIN']\n",
    "finalDf['close'] = mergeDF['MTMPRICE']\n",
    "finalDf['dividend'] = mergeDF['DIVIDEND_RATE'].fillna(0)\n",
    "# finalDf['dividend'] = finalDf['dividend'].fillna(0)\n",
    "finalDf['split_ratio'] = (mergeDF['OLD_RATIO']/mergeDF['NEW_RATIO']).fillna(1)\n",
    "finalDf.set_index('Date',inplace=True)\n",
    "finalDf.sort_index(inplace=True)"
   ]
  },
  {
   "cell_type": "code",
   "execution_count": 9,
   "metadata": {},
   "outputs": [
    {
     "name": "stdout",
     "output_type": "stream",
     "text": [
      "Wall time: 9.47 s\n"
     ]
    }
   ],
   "source": [
    "%%time\n",
    "####\n",
    "rawPrices = finalDf.pivot_table(index='Date',columns='ISIN',values='close')[cols]\n",
    "dividend = finalDf.pivot_table(index='Date',columns='ISIN',values='dividend')[cols]\n",
    "splitRatio = finalDf.pivot_table(index='Date',columns='ISIN',values='split_ratio')[cols]"
   ]
  },
  {
   "cell_type": "code",
   "execution_count": 10,
   "metadata": {},
   "outputs": [],
   "source": [
    "####\n",
    "# rawPrices.to_excel('excel/output/rawPrices.xlsx')\n",
    "# dividend.to_excel('excel/output/dividend.xlsx')\n",
    "# splitRatio.to_excel('excel/output/splitRatio.xlsx')"
   ]
  },
  {
   "cell_type": "code",
   "execution_count": 11,
   "metadata": {},
   "outputs": [],
   "source": [
    "# %%time\n",
    "####\n",
    "def calcAdjustedPrices(rawPrices,dividend,splitRatio):\n",
    "    rawPrices.sort_index(ascending=False, inplace=True)\n",
    "    dividend.sort_index(ascending=False, inplace=True)\n",
    "    splitRatio.sort_index(ascending=False, inplace=True)\n",
    "\n",
    "    adj_price_df = pd.DataFrame(index=rawPrices.index,data = np.zeros(rawPrices.shape),columns=rawPrices.columns)\n",
    "    adj_price_df.iloc[0] = round(rawPrices.iloc[0],4)\n",
    "\n",
    "# simplified formula\n",
    "    for i in range(1,len(rawPrices)):\n",
    "        adj_price_df.iloc[i] = (adj_price_df.iloc[i - 1].values *\n",
    "                       (((rawPrices.iloc[i].values * splitRatio.iloc[i - 1].values) - dividend.iloc[i - 1].values) / rawPrices.iloc[i - 1].values))\n",
    "    \n",
    "#     pivotAdjPrice = adj_price_df.stack().reset_index().rename(columns={0:'adjPrice'}).set_index('Date')\n",
    "#     pivotPrices =  rawPrices.stack().reset_index().rename(columns={0:'close'}).set_index('Date')\n",
    "#     pivotDividend = dividend.stack().reset_index().rename(columns={0:'dividend'}).set_index('Date')\n",
    "#     pivotSplit =  splitRatio.stack().reset_index().rename(columns={0:'splitRatio'}).set_index('Date')\n",
    "    \n",
    "#     pivotAdjPrice['close'] = pivotPrices['close']\n",
    "#     pivotAdjPrice['dividend'] = pivotDividend['dividend']\n",
    "#     pivotAdjPrice['splitRatio'] = pivotSplit['splitRatio']\n",
    "    \n",
    "#     pivotAdjPrice.sort_index(ascending=True, inplace=True)\n",
    "\n",
    "    # pivotAdjPrice[pivotAdjPrice['ISIN']==\"INE848E01016\"]\n",
    "\n",
    "    return adj_price_df"
   ]
  },
  {
   "cell_type": "code",
   "execution_count": 26,
   "metadata": {
    "ExecuteTime": {
     "end_time": "2018-11-20T07:07:44.263384Z",
     "start_time": "2018-11-20T07:07:44.259366Z"
    }
   },
   "outputs": [
    {
     "data": {
      "text/plain": [
       "(365, 5106)"
      ]
     },
     "execution_count": 26,
     "metadata": {},
     "output_type": "execute_result"
    }
   ],
   "source": [
    "rawPrices.shape"
   ]
  },
  {
   "cell_type": "code",
   "execution_count": 33,
   "metadata": {
    "ExecuteTime": {
     "end_time": "2018-11-20T07:08:14.280794Z",
     "start_time": "2018-11-20T07:08:14.055365Z"
    }
   },
   "outputs": [],
   "source": [
    "# %\n",
    "####\n",
    "# %lprun -f calcAdjustedPrices calcAdjustedPrices(rawPrices,dividend,splitRatio)\n",
    "adjPriceDf = calcAdjustedPrices(rawPrices,dividend,splitRatio)"
   ]
  },
  {
   "cell_type": "code",
   "execution_count": null,
   "metadata": {},
   "outputs": [],
   "source": [
    "####\n",
    "adjPriceDf.to_excel('excel/output/adjustedPrices.xlsx')"
   ]
  },
  {
   "cell_type": "code",
   "execution_count": 14,
   "metadata": {
    "scrolled": true
   },
   "outputs": [
    {
     "name": "stdout",
     "output_type": "stream",
     "text": [
      "                   adj     raw  dividend\n",
      "Date                                    \n",
      "2017-10-21  733.250000  733.25       0.0\n",
      "2017-10-20  733.250000  733.25       0.0\n",
      "2017-10-19  733.250000  733.25       0.0\n",
      "2017-10-18  733.250000  733.25       0.0\n",
      "2017-10-17  727.400000  727.40       0.0\n",
      "2017-10-16  722.150000  722.15       0.0\n",
      "2017-10-15  710.350000  710.35       0.0\n",
      "2017-10-14  710.350000  710.35       0.0\n",
      "2017-10-13  710.350000  710.35       0.0\n",
      "2017-10-12  700.500000  700.50       0.0\n",
      "2017-10-11  691.200000  691.20       0.0\n",
      "2017-10-10  698.100000  698.10       0.0\n",
      "2017-10-09  694.550000  694.55       0.0\n",
      "2017-10-08  697.200000  697.20       0.0\n",
      "2017-10-07  697.200000  697.20       0.0\n",
      "2017-10-06  697.200000  697.20       0.0\n",
      "2017-10-05  665.650000  665.65       0.0\n",
      "2017-10-04  656.750000  656.75       0.0\n",
      "2017-10-03  658.750000  658.75       0.0\n",
      "2017-10-02  659.650000  659.65       0.0\n",
      "2017-10-01  659.650000  659.65       0.0\n",
      "2017-09-30  659.650000  659.65       0.0\n",
      "2017-09-29  659.650000  659.65       0.0\n",
      "2017-09-28  635.900000  635.90       0.0\n",
      "2017-09-27  637.000000  637.00       0.0\n",
      "2017-09-26  644.450000  644.45       0.0\n",
      "2017-09-25  620.650000  620.65       0.0\n",
      "2017-09-24  636.200000  636.20       0.0\n",
      "2017-09-23  636.200000  636.20       0.0\n",
      "2017-09-22  636.200000  636.20       0.0\n",
      "2017-09-21  668.250000  668.25      15.0\n",
      "2017-09-20  657.100000  672.10       0.0\n",
      "2017-09-19  662.330598  677.45       0.0\n",
      "2017-09-18  652.113822  667.00       0.0\n",
      "2017-09-17  653.629229  668.55       0.0\n",
      "2017-09-16  653.629229  668.55       0.0\n",
      "2017-09-15  653.629229  668.55       0.0\n",
      "2017-09-14  655.829014  670.80       0.0\n",
      "2017-09-13  652.162706  667.05       0.0\n",
      "2017-09-12  662.135062  677.25       0.0\n",
      "2017-09-11  643.803526  658.50       0.0\n",
      "2017-09-10  638.377392  652.95       0.0\n",
      "2017-09-09  638.377392  652.95       0.0\n",
      "2017-09-08  638.377392  652.95       0.0\n",
      "2017-09-07  643.070265  657.75       0.0\n",
      "2017-09-06  636.715333  651.25       0.0\n",
      "2017-09-05  635.786535  650.30       0.0\n",
      "2017-09-04  631.338082  645.75       0.0\n",
      "2017-09-03  635.688767  650.20       0.0\n",
      "2017-09-02  635.688767  650.20       0.0\n",
      "2017-09-01  635.688767  650.20       0.0\n",
      "2017-08-31  632.853489  647.30       0.0\n",
      "2017-08-30  607.238223  621.10       0.0\n",
      "2017-08-29  590.470979  603.95       0.0\n",
      "2017-08-28  605.673932  619.50       0.0\n",
      "2017-08-27  600.198914  613.90       0.0\n",
      "2017-08-26  600.198914  613.90       0.0\n",
      "2017-08-25  600.198914  613.90       0.0\n",
      "2017-08-24  600.198914  613.90       0.0\n",
      "2017-08-23  599.465652  613.15       0.0\n",
      "2017-08-22  586.853556  600.25       0.0\n",
      "2017-08-21  587.733470  601.15       0.0\n",
      "2017-08-20  612.811010  626.80       0.0\n",
      "2017-08-19  612.811010  626.80       0.0\n",
      "2017-08-18  612.811010  626.80       0.0\n",
      "2017-08-17  615.304099  629.35       0.0\n",
      "2017-08-16  624.934266  639.20       0.0\n",
      "2017-08-15  597.901361  611.55       0.0\n",
      "2017-08-14  597.901361  611.55       0.0\n",
      "2017-08-13  579.178753  592.40       0.0\n",
      "2017-08-12  579.178753  592.40       0.0\n",
      "2017-08-11  579.178753  592.40       0.0\n",
      "2017-08-10  574.974721  588.10       0.0\n",
      "2017-08-09  621.952336  636.15       0.0\n",
      "2017-08-08  636.715333  651.25       0.0\n",
      "2017-08-07  657.686609  672.70       0.0\n",
      "2017-08-06  656.122318  671.10       0.0\n",
      "2017-08-05  656.122318  671.10       0.0\n",
      "2017-08-04  656.122318  671.10       0.0\n",
      "2017-08-03  662.281714  677.40       0.0\n",
      "2017-08-02  679.244495  694.75       0.0\n",
      "2017-08-01  685.403891  701.05       0.0\n",
      "2017-07-31  654.411375  669.35       0.0\n",
      "2017-07-30  654.166954  669.10       0.0\n",
      "2017-07-29  654.166954  669.10       0.0\n",
      "2017-07-28  654.166954  669.10       0.0\n",
      "2017-07-27  627.134050  641.45       0.0\n",
      "2017-07-26  636.324260  650.85       0.0\n",
      "2017-07-25  631.631387  646.05       0.0\n",
      "2017-07-24  639.208421  653.80       0.0\n",
      "2017-07-23  639.746146  654.35       0.0\n",
      "2017-07-22  639.746146  654.35       0.0\n",
      "2017-07-21  639.746146  654.35       0.0\n",
      "2017-07-20  645.514470  660.25       0.0\n",
      "2017-07-19  638.719580  653.30       0.0\n",
      "2017-07-18  642.141467  656.80       0.0\n",
      "2017-07-17  654.558027  669.50       0.0\n",
      "2017-07-16  660.864075  675.95       0.0\n",
      "2017-07-15  660.864075  675.95       0.0\n",
      "2017-07-14  660.864075  675.95       0.0\n",
      "2017-07-13  657.246652  672.25       0.0\n",
      "2017-07-12  665.556948  680.75       0.0\n",
      "2017-07-11  664.334846  679.50       0.0\n",
      "2017-07-10  658.908712  673.95       0.0\n",
      "2017-07-09  657.539957  672.55       0.0\n",
      "2017-07-08  657.539957  672.55       0.0\n",
      "2017-07-07  657.539957  672.55       0.0\n",
      "2017-07-06  656.317854  671.30       0.0\n",
      "2017-07-05  653.189272  668.10       0.0\n",
      "2017-07-04  647.714254  662.50       0.0\n",
      "2017-07-03  660.815191  675.90       0.0\n",
      "2017-07-02  630.751473  645.15       0.0\n",
      "2017-07-01  630.751473  645.15       0.0\n",
      "2017-06-30  630.751473  645.15       0.0\n",
      "2017-06-29  648.594168  663.40       0.0\n",
      "2017-06-28  639.941683  654.55       0.0\n",
      "2017-06-27  636.177607  650.70       0.0\n",
      "2017-06-26  662.917207  678.05       0.0\n",
      "2017-06-25  662.917207  678.05       0.0\n",
      "2017-06-24  662.917207  678.05       0.0\n",
      "2017-06-23  662.917207  678.05       0.0\n",
      "2017-06-22  693.323114  709.15       0.0\n",
      "2017-06-21  702.562208  718.60       0.0\n",
      "2017-06-20  708.477183  724.65       0.0\n",
      "2017-06-19  692.052128  707.85       0.0\n",
      "2017-06-18  693.763071  709.60       0.0\n",
      "2017-06-17  693.763071  709.60       0.0\n",
      "2017-06-16  693.763071  709.60       0.0\n",
      "2017-06-15  693.274230  709.10       0.0\n",
      "2017-06-14  700.997917  717.00       0.0\n",
      "2017-06-13  724.755587  741.30       0.0\n",
      "2017-06-12  724.608935  741.15       0.0\n",
      "2017-06-11  731.990433  748.70       0.0\n",
      "2017-06-10  731.990433  748.70       0.0\n",
      "2017-06-09  731.990433  748.70       0.0\n",
      "2017-06-08  732.577042  749.30       0.0\n",
      "2017-06-07  735.607856  752.40       0.0\n",
      "2017-06-06  734.727942  751.50       0.0\n",
      "2017-06-05  728.617430  745.25       0.0\n",
      "2017-06-04  700.362424  716.35       0.0\n",
      "2017-06-03  700.362424  716.35       0.0\n",
      "2017-06-02  700.362424  716.35       0.0\n",
      "2017-06-01  677.240247  692.70       0.0\n",
      "2017-05-31  677.484667  692.95       0.0\n",
      "2017-05-30  654.020302  668.95       0.0\n",
      "2017-05-29  656.268970  671.25       0.0\n",
      "2017-05-28  628.356152  642.70       0.0\n",
      "2017-05-27  628.356152  642.70       0.0\n",
      "2017-05-26  628.356152  642.70       0.0\n",
      "2017-05-25  616.135129  630.20       0.0\n",
      "2017-05-24  587.831238  601.25       0.0\n",
      "2017-05-23  582.356219  595.65       0.0\n",
      "2017-05-22  603.425264  617.20       0.0\n",
      "2017-05-21  625.814179  640.10       0.0\n",
      "2017-05-20  625.814179  640.10       0.0\n",
      "2017-05-19  625.814179  640.10       0.0\n",
      "2017-05-18  621.414611  635.60       0.0\n",
      "2017-05-17  639.257305  653.85       0.0\n",
      "2017-05-16  641.261553  655.90       0.0\n",
      "2017-05-15  634.320012  648.80       0.0\n",
      "2017-05-14  632.364648  646.80       0.0\n",
      "2017-05-13  632.364648  646.80       0.0\n",
      "2017-05-12  632.364648  646.80       0.0\n",
      "2017-05-11  632.462416  646.90       0.0\n",
      "2017-05-10  619.996972  634.15       0.0\n",
      "2017-05-09  587.293513  600.70       0.0\n",
      "2017-05-08  589.151108  602.60       0.0\n",
      "2017-05-07  579.374290  592.60       0.0\n",
      "2017-05-06  579.374290  592.60       0.0\n",
      "2017-05-05  579.374290  592.60       0.0\n",
      "2017-05-04  556.007692  568.70       0.0\n",
      "2017-05-03  555.958808  568.65       0.0\n",
      "2017-05-02  552.048081  564.65       0.0\n",
      "2017-05-01  535.280836  547.50       0.0\n",
      "2017-04-30  535.280836  547.50       0.0\n",
      "2017-04-29  535.280836  547.50       0.0\n",
      "2017-04-28  535.280836  547.50       0.0\n",
      "2017-04-27  534.107618  546.30       0.0\n",
      "2017-04-26  537.285084  549.55       0.0\n",
      "2017-04-25  539.435984  551.75       0.0\n",
      "2017-04-24  538.360534  550.65       0.0\n",
      "2017-04-23  543.982205  556.40       0.0\n",
      "2017-04-22  543.982205  556.40       0.0\n",
      "2017-04-21  543.982205  556.40       0.0\n",
      "2017-04-20  535.818561  548.05       0.0\n",
      "2017-04-19  533.814313  546.00       0.0\n",
      "2017-04-18  529.463629  541.55       0.0\n",
      "2017-04-17  538.702723  551.00       0.0\n",
      "2017-04-16  533.667661  545.85       0.0\n",
      "2017-04-15  533.667661  545.85       0.0\n",
      "2017-04-14  533.667661  545.85       0.0\n",
      "2017-04-13  533.667661  545.85       0.0\n",
      "2017-04-12  534.009850  546.20       0.0\n",
      "2017-04-11  538.360534  550.65       0.0\n",
      "2017-04-10  533.129936  545.30       0.0\n",
      "2017-04-09  510.545484  522.20       0.0\n",
      "2017-04-08  510.545484  522.20       0.0\n",
      "2017-04-07  510.545484  522.20       0.0\n",
      "2017-04-06  518.122519  529.95       0.0\n",
      "2017-04-05  525.992858  538.00       0.0\n",
      "2017-04-04  525.504017  537.50       0.0\n",
      "2017-04-03  525.504017  537.50       0.0\n",
      "2017-04-02  526.726120  538.75       0.0\n",
      "2017-04-01  526.726120  538.75       0.0\n",
      "2017-03-31  526.726120  538.75       0.0\n",
      "2017-03-30  523.206465  535.15       0.0\n",
      "2017-03-29  518.073635  529.90       0.0\n",
      "2017-03-28  511.865355  523.55       0.0\n",
      "2017-03-27  511.034325  522.70       0.0\n",
      "2017-03-26  516.118271  527.90       0.0\n",
      "2017-03-25  516.118271  527.90       0.0\n",
      "2017-03-24  516.118271  527.90       0.0\n",
      "2017-03-23  519.393505  531.25       0.0\n",
      "2017-03-22  510.105527  521.75       0.0\n",
      "2017-03-21  515.287241  527.05       0.0\n",
      "2017-03-20  509.225614  520.85       0.0\n",
      "2017-03-19  502.870681  514.35       0.0\n",
      "2017-03-18  502.870681  514.35       0.0\n",
      "2017-03-17  502.870681  514.35       0.0\n",
      "2017-03-16  507.270250  518.85       0.0\n",
      "2017-03-15  508.590121  520.20       0.0\n",
      "2017-03-14  507.856859  519.45       0.0\n",
      "2017-03-13  498.275577  509.65       0.0\n",
      "2017-03-12  498.275577  509.65       0.0\n",
      "2017-03-11  498.275577  509.65       0.0\n",
      "2017-03-10  498.275577  509.65       0.0\n",
      "2017-03-09  485.076871  496.15       0.0\n",
      "2017-03-08  482.925971  493.95       0.0\n",
      "2017-03-07  483.512580  494.55       0.0\n",
      "2017-03-06  474.908979  485.75       0.0\n",
      "2017-03-05  478.281982  489.20       0.0\n",
      "2017-03-04  478.281982  489.20       0.0\n",
      "2017-03-03  478.281982  489.20       0.0\n",
      "2017-03-02  448.951525  459.20       0.0\n",
      "2017-03-01  451.395730  461.70       0.0\n",
      "2017-02-28  439.028054  449.05       0.0\n",
      "2017-02-27  443.720927  453.85       0.0\n",
      "2017-02-26  411.213004  420.60       0.0\n",
      "2017-02-25  411.213004  420.60       0.0\n",
      "2017-02-24  411.213004  420.60       0.0\n",
      "2017-02-23  411.213004  420.60       0.0\n",
      "2017-02-22  415.661457  425.15       0.0\n",
      "2017-02-21  410.333090  419.70       0.0\n",
      "2017-02-20  402.218331  411.40       0.0\n",
      "2017-02-19  399.725242  408.85       0.0\n",
      "2017-02-18  399.725242  408.85       0.0\n",
      "2017-02-17  399.725242  408.85       0.0\n",
      "2017-02-16  400.702924  409.85       0.0\n",
      "2017-02-15  398.503139  407.60       0.0\n",
      "2017-02-14  376.016456  384.60       0.0\n",
      "2017-02-13  373.230062  381.75       0.0\n",
      "2017-02-12  381.589243  390.30       0.0\n",
      "2017-02-11  381.589243  390.30       0.0\n",
      "2017-02-10  381.589243  390.30       0.0\n",
      "2017-02-09  384.375636  393.15       0.0\n",
      "2017-02-08  381.051518  389.75       0.0\n",
      "2017-02-07  385.499970  394.30       0.0\n",
      "2017-02-06  374.598817  383.15       0.0\n",
      "2017-02-05  371.763540  380.25       0.0\n",
      "2017-02-04  371.763540  380.25       0.0\n",
      "2017-02-03  371.763540  380.25       0.0\n",
      "2017-02-02  366.679594  375.05       0.0\n",
      "2017-02-01  371.323583  379.80       0.0\n",
      "2017-01-31  355.485136  363.60       0.0\n",
      "2017-01-30  361.106807  369.35       0.0\n",
      "2017-01-29  363.013287  371.30       0.0\n",
      "2017-01-28  363.013287  371.30       0.0\n",
      "2017-01-27  363.013287  371.30       0.0\n",
      "2017-01-26  356.022861  364.15       0.0\n",
      "2017-01-25  356.022861  364.15       0.0\n",
      "2017-01-24  355.729557  363.85       0.0\n",
      "2017-01-23  350.987799  359.00       0.0\n",
      "2017-01-22  338.913428  346.65       0.0\n",
      "2017-01-21  338.913428  346.65       0.0\n",
      "2017-01-20  338.913428  346.65       0.0\n",
      "2017-01-19  353.480888  361.55       0.0\n",
      "2017-01-18  359.200327  367.40       0.0\n",
      "2017-01-17  358.662602  366.85       0.0\n",
      "2017-01-16  352.649859  360.70       0.0\n",
      "2017-01-15  350.792263  358.80       0.0\n",
      "2017-01-14  350.792263  358.80       0.0\n",
      "2017-01-13  350.792263  358.80       0.0\n",
      "2017-01-12  348.690247  356.65       0.0\n",
      "2017-01-11  351.769945  359.80       0.0\n",
      "2017-01-10  329.576566  337.10       0.0\n",
      "2017-01-09  316.768933  324.00       0.0\n",
      "2017-01-08  320.924081  328.25       0.0\n",
      "2017-01-07  320.924081  328.25       0.0\n",
      "2017-01-06  320.924081  328.25       0.0\n",
      "2017-01-05  322.195068  329.55       0.0\n",
      "2017-01-04  314.129192  321.30       0.0\n",
      "2017-01-03  319.359790  326.65       0.0\n",
      "2017-01-02  313.591467  320.75       0.0\n",
      "2017-01-01  313.591467  320.75       0.0\n",
      "Wall time: 50.9 ms\n"
     ]
    }
   ],
   "source": [
    "%%time\n",
    "####\n",
    "testDf2 = pd.DataFrame(data = {'adj' : adjPriceDf['INE042A01014'],'raw':rawPrices['INE042A01014'],'dividend':dividend['INE042A01014']})\n",
    "with pd.option_context('display.max_rows',None):\n",
    "#     print((newOutputFinalDf[newOutputFinalDf['ISIN']==\"INE660A01013\"]))\n",
    "    print(testDf2.loc['2017-10-21':])"
   ]
  },
  {
   "cell_type": "code",
   "execution_count": null,
   "metadata": {},
   "outputs": [],
   "source": [
    "# adjustedPrices = rawPrices.copy()\n",
    "# adjustedPrices = pd.DataFrame(data = {'adj':adjustedPrices['INE042A01014'],'raw':rawPrices['INE042A01014'],'dividend':dividend['INE042A01014']})\n",
    "# adjustedPrices['INE042A01014'] = round(adjustedPrices['INE042A01014'].shift(1)*((rawPrices['INE042A01014']-dividend['INE042A01014'].shift(1))/rawPrices['INE042A01014'].shift(1)),4)\n",
    "# adjustedPrices = round(adjustedPrices.shift(-1)*(((rawPrices*splitRatio.shift(-1))-dividend.shift(-1))/rawPrices.shift(-1)),4)\n",
    "\n",
    "# adjustedPrices['adj'] = adjustedPrices['raw']\n",
    "\n",
    "# adjustedPrices['adj'] = adjustedPrices['adj'].where(adjustedPrices['dividend']>0,adjustedPrices['adj'].shift(1)*((adjustedPrices['raw']-adjustedPrices['dividend'].shift(1))/adjustedPrices['raw'].shift(1)))\n",
    "\n",
    "# adjustedPrices['adj'] = adjustedPrices['adj'].where(adjustedPrices['dividend']>0,(adjustedPrices['adj'].shift(1)+adjustedPrices['dividend']))\n",
    "\n",
    "# testDf = pd.DataFrame(data = {'adj':adjustedPrices['INE042A01014'],'raw':rawPrices['INE042A01014'],'dividend':dividend['INE042A01014']})\n",
    "\n",
    "# with pd.option_context('display.max_rows',None):\n",
    "# #     print((newOutputFinalDf[newOutputFinalDf['ISIN']==\"INE660A01013\"]))\n",
    "#     print(adjustedPrices.loc['2017-10-21':])\n",
    "\n",
    "adjustedPrices['INE042A01014']==adjPriceDf['INE042A01014']\n",
    "\n",
    "(adjustedPrices['INE042A01014']==outputFinalDf['adj_close'].sort_index(ascending=False))\n",
    "\n",
    "(round(rawPrices,4)==adjPriceDf).sum()\n",
    "\n",
    "(adjustedPrices == adjPriceDf).sum()\n",
    "\n",
    "adjPriceDf['US92657J1016']"
   ]
  },
  {
   "cell_type": "code",
   "execution_count": null,
   "metadata": {},
   "outputs": [],
   "source": [
    "def calculate_adjusted_prices(df, column):\n",
    "    \"\"\" Vectorized approach for calculating the adjusted prices for the\n",
    "    specified column in the provided DataFrame. This creates a new column\n",
    "    called 'adj_<column name>' with the adjusted prices. This function requires\n",
    "    that the DataFrame have columns with dividend and split_ratio values.\n",
    "\n",
    "    :param df: DataFrame with raw prices along with dividend and split_ratio\n",
    "        values\n",
    "    :param column: String of which price column should have adjusted prices\n",
    "        created for it\n",
    "    :return: DataFrame with the addition of the adjusted price column\n",
    "    \"\"\"\n",
    "    adj_column = 'adj_' + column\n",
    "\n",
    "    # Reverse the DataFrame order, sorting by date in descending order\n",
    "    df.sort_index(ascending=False, inplace=True)\n",
    "\n",
    "    price_col = df[column].values\n",
    "    split_col = df['split_ratio'].values\n",
    "    dividend_col = df['dividend'].values\n",
    "    adj_price_col = np.zeros(len(df.index))\n",
    "    adj_price_col[0] = price_col[0]\n",
    "\n",
    "    for i in range(1, len(price_col)):\n",
    "        adj_price_col[i] = round((adj_price_col[i - 1] + adj_price_col[i - 1] *\n",
    "                   (((price_col[i] * split_col[i - 1]) -\n",
    "                     price_col[i - 1] -\n",
    "                     dividend_col[i - 1]) / price_col[i - 1])), 4)\n",
    "\n",
    "    df[adj_column] = adj_price_col\n",
    "\n",
    "    # Change the DataFrame order back to dates ascending\n",
    "    df.sort_index(ascending=True, inplace=True)\n",
    "\n",
    "    return df"
   ]
  },
  {
   "cell_type": "code",
   "execution_count": null,
   "metadata": {},
   "outputs": [],
   "source": [
    "start2 = time.time()\n",
    "outputFinalDf = calculate_adjusted_prices(finalDf[finalDf['ISIN']==\"INE042A01014\"],\"close\")\n",
    "time.time()-start2"
   ]
  },
  {
   "cell_type": "markdown",
   "metadata": {},
   "source": [
    "### PCT CHANGE / DATE / ROLLING PCT CHANGE"
   ]
  },
  {
   "cell_type": "code",
   "execution_count": null,
   "metadata": {},
   "outputs": [],
   "source": [
    "outputFinalDf.asfreq('M')['adj_close'].pct_change()"
   ]
  },
  {
   "cell_type": "code",
   "execution_count": null,
   "metadata": {},
   "outputs": [],
   "source": [
    "adjPriceDf1 = adjPriceDf.reset_index()"
   ]
  },
  {
   "cell_type": "code",
   "execution_count": null,
   "metadata": {},
   "outputs": [],
   "source": [
    "adjPriceDf1['Date'].asfreq='BM'"
   ]
  },
  {
   "cell_type": "code",
   "execution_count": null,
   "metadata": {},
   "outputs": [],
   "source": [
    "adjPriceDf1.set_index('Date').index"
   ]
  },
  {
   "cell_type": "code",
   "execution_count": null,
   "metadata": {},
   "outputs": [],
   "source": [
    "with pd.option_context('display.max_rows',None):\n",
    "    print((newOutputFinalDf[newOutputFinalDf['ISIN']==\"INE660A01013\"]))"
   ]
  },
  {
   "cell_type": "code",
   "execution_count": null,
   "metadata": {},
   "outputs": [],
   "source": [
    "newOutputFinalDf[newOutputFinalDf[newOutputFinalDf['ISIN']==\"INE105A01035\"]['dividend']!=0]"
   ]
  },
  {
   "cell_type": "code",
   "execution_count": null,
   "metadata": {},
   "outputs": [],
   "source": [
    "start2 = time.time()\n",
    "outputFinalDf = calculate_adjusted_prices(finalDf,\"close\")\n",
    "time.time()-start2"
   ]
  }
 ],
 "metadata": {
  "kernelspec": {
   "display_name": "Python 3",
   "language": "python",
   "name": "python3"
  },
  "language_info": {
   "codemirror_mode": {
    "name": "ipython",
    "version": 3
   },
   "file_extension": ".py",
   "mimetype": "text/x-python",
   "name": "python",
   "nbconvert_exporter": "python",
   "pygments_lexer": "ipython3",
   "version": "3.7.2"
  },
  "toc": {
   "base_numbering": 1,
   "nav_menu": {},
   "number_sections": true,
   "sideBar": true,
   "skip_h1_title": false,
   "title_cell": "Table of Contents",
   "title_sidebar": "Contents",
   "toc_cell": false,
   "toc_position": {},
   "toc_section_display": true,
   "toc_window_display": false
  }
 },
 "nbformat": 4,
 "nbformat_minor": 2
}
