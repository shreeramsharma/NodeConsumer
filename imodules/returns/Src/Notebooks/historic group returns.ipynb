{
 "cells": [
  {
   "cell_type": "code",
   "execution_count": 1,
   "metadata": {
    "ExecuteTime": {
     "end_time": "2019-01-22T09:12:36.627518Z",
     "start_time": "2019-01-22T09:12:34.261117Z"
    }
   },
   "outputs": [],
   "source": [
    "import pandas as pd\n",
    "import numpy as np"
   ]
  },
  {
   "cell_type": "code",
   "execution_count": 5,
   "metadata": {
    "ExecuteTime": {
     "end_time": "2019-01-22T09:13:05.372081Z",
     "start_time": "2019-01-22T09:13:05.272478Z"
    }
   },
   "outputs": [],
   "source": [
    "yahooData = pd.read_csv('E:/Credence/Projects/Value At Risk/Src/Var/excel/input/equityPrices.csv',index_col=['Date'])"
   ]
  },
  {
   "cell_type": "code",
   "execution_count": 6,
   "metadata": {
    "ExecuteTime": {
     "end_time": "2019-01-22T09:13:06.638970Z",
     "start_time": "2019-01-22T09:13:06.630173Z"
    }
   },
   "outputs": [],
   "source": [
    "returns = np.log(yahooData.pct_change() + 1).replace([np.inf, -np.inf], np.nan).fillna(0)"
   ]
  },
  {
   "cell_type": "code",
   "execution_count": 13,
   "metadata": {
    "ExecuteTime": {
     "end_time": "2019-01-22T09:14:17.447446Z",
     "start_time": "2019-01-22T09:14:17.441554Z"
    }
   },
   "outputs": [],
   "source": [
    "returns.index = pd.to_datetime(returns.index)"
   ]
  },
  {
   "cell_type": "code",
   "execution_count": 59,
   "metadata": {
    "ExecuteTime": {
     "end_time": "2019-01-22T09:52:55.892765Z",
     "start_time": "2019-01-22T09:52:55.878112Z"
    }
   },
   "outputs": [],
   "source": [
    "monthlyGrpRet = np.exp(returns.resample('1M').sum())-1\n",
    "QuatGrpRet = np.exp(returns.resample('3M').sum())-1\n",
    "YearlyGrpRet = np.exp(returns.resample('1Y').sum())-1"
   ]
  }
 ],
 "metadata": {
  "kernelspec": {
   "display_name": "Python 3",
   "language": "python",
   "name": "python3"
  },
  "language_info": {
   "codemirror_mode": {
    "name": "ipython",
    "version": 3
   },
   "file_extension": ".py",
   "mimetype": "text/x-python",
   "name": "python",
   "nbconvert_exporter": "python",
   "pygments_lexer": "ipython3",
   "version": "3.7.0"
  },
  "toc": {
   "base_numbering": 1,
   "nav_menu": {},
   "number_sections": true,
   "sideBar": true,
   "skip_h1_title": false,
   "title_cell": "Table of Contents",
   "title_sidebar": "Contents",
   "toc_cell": false,
   "toc_position": {},
   "toc_section_display": true,
   "toc_window_display": false
  }
 },
 "nbformat": 4,
 "nbformat_minor": 2
}
