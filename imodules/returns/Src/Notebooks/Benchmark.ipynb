{
 "cells": [
  {
   "cell_type": "code",
   "execution_count": 2,
   "metadata": {
    "ExecuteTime": {
     "end_time": "2019-02-20T06:15:02.847750Z",
     "start_time": "2019-02-20T06:15:01.305168Z"
    }
   },
   "outputs": [
    {
     "name": "stdout",
     "output_type": "stream",
     "text": [
      "The line_profiler extension is already loaded. To reload it, use:\n",
      "  %reload_ext line_profiler\n",
      "192.168.99.100:27017\n"
     ]
    }
   ],
   "source": [
    "# from pymongo import MongoClient\n",
    "import numpy as np\n",
    "import pandas as pd\n",
    "import datetime\n",
    "%load_ext line_profiler\n",
    "pd.options.mode.chained_assignment = None\n",
    "from datetime import timedelta\n",
    "import sys\n",
    "sys.path.insert(0, 'E:/Credence/Projects/Ideal6-python-worker/iModules/returns/Src/')\n",
    "import dbUnit as db\n",
    "import computeUnit as cu"
   ]
  },
  {
   "cell_type": "markdown",
   "metadata": {
    "ExecuteTime": {
     "end_time": "2019-02-20T06:15:03.634442Z",
     "start_time": "2019-02-20T06:15:03.627645Z"
    },
    "heading_collapsed": true
   },
   "source": [
    "### NONNAV BREAKUP"
   ]
  },
  {
   "cell_type": "code",
   "execution_count": 3,
   "metadata": {
    "ExecuteTime": {
     "end_time": "2019-02-20T06:15:03.634442Z",
     "start_time": "2019-02-20T06:15:03.627645Z"
    },
    "hidden": true
   },
   "outputs": [],
   "source": [
    "from pymongo import MongoClient\n",
    "client = MongoClient(\"192.168.1.213:27017\")\n",
    "dbb = client[\"Returns_WealthNFunds\"]\n",
    "\n",
    "def getDataFromMongo(collectionName, date=\"\"):\n",
    "    collection = dbb.get_collection(collectionName)\n",
    "    if collection.count_documents({}) > 0:\n",
    "        if collectionName == \"groupreturns\":\n",
    "            data = pd.DataFrame(list(collection.find({\"ASONDATE\": date}))).drop(columns=\"_id\")\n",
    "        else:\n",
    "            data = pd.DataFrame(list(collection.find())).drop(columns=\"_id\")\n",
    "    else:\n",
    "        data = pd.DataFrame()\n",
    "    return data"
   ]
  },
  {
   "cell_type": "code",
   "execution_count": 14,
   "metadata": {
    "ExecuteTime": {
     "end_time": "2019-02-20T06:19:54.900717Z",
     "start_time": "2019-02-20T06:19:54.889952Z"
    },
    "hidden": true
   },
   "outputs": [],
   "source": [
    "date = \"2018-11-12\"\n",
    "histData = db.getDataFromMongo(\"rawdatareturns_nonnavport\")"
   ]
  },
  {
   "cell_type": "code",
   "execution_count": null,
   "metadata": {
    "ExecuteTime": {
     "end_time": "2019-02-19T06:04:08.195276Z",
     "start_time": "2019-02-19T06:04:08.058286Z"
    },
    "hidden": true
   },
   "outputs": [],
   "source": [
    "retBalSheet = db.getDataFromMongo(\"rawdatareturns_nonnavport\")"
   ]
  },
  {
   "cell_type": "code",
   "execution_count": 144,
   "metadata": {
    "ExecuteTime": {
     "end_time": "2019-02-19T11:01:37.409295Z",
     "start_time": "2019-02-19T11:01:36.990882Z"
    },
    "hidden": true
   },
   "outputs": [],
   "source": [
    "retBalSheet = getDataFromMongo(\"rawdatareturns_nonnavport\")"
   ]
  },
  {
   "cell_type": "code",
   "execution_count": 145,
   "metadata": {
    "ExecuteTime": {
     "end_time": "2019-02-19T11:01:38.602926Z",
     "start_time": "2019-02-19T11:01:37.610817Z"
    },
    "hidden": true
   },
   "outputs": [],
   "source": [
    "stagingConcat = cu.concatCategory(retBalSheet)"
   ]
  },
  {
   "cell_type": "code",
   "execution_count": 146,
   "metadata": {
    "ExecuteTime": {
     "end_time": "2019-02-19T11:01:38.792964Z",
     "start_time": "2019-02-19T11:01:38.764607Z"
    },
    "hidden": true
   },
   "outputs": [],
   "source": [
    "staging = stagingConcat.reset_index()"
   ]
  },
  {
   "cell_type": "code",
   "execution_count": 51,
   "metadata": {
    "ExecuteTime": {
     "end_time": "2019-02-19T05:48:35.512631Z",
     "start_time": "2019-02-19T05:48:35.322600Z"
    },
    "hidden": true
   },
   "outputs": [],
   "source": [
    "stagingConcat.reset_index().to_csv(\"stagingConcat.csv\")"
   ]
  },
  {
   "cell_type": "code",
   "execution_count": 99,
   "metadata": {
    "ExecuteTime": {
     "end_time": "2019-02-19T06:11:37.063175Z",
     "start_time": "2019-02-19T06:11:37.044630Z"
    },
    "hidden": true
   },
   "outputs": [
    {
     "data": {
      "text/html": [
       "<div>\n",
       "<style scoped>\n",
       "    .dataframe tbody tr th:only-of-type {\n",
       "        vertical-align: middle;\n",
       "    }\n",
       "\n",
       "    .dataframe tbody tr th {\n",
       "        vertical-align: top;\n",
       "    }\n",
       "\n",
       "    .dataframe thead th {\n",
       "        text-align: right;\n",
       "    }\n",
       "</style>\n",
       "<table border=\"1\" class=\"dataframe\">\n",
       "  <thead>\n",
       "    <tr style=\"text-align: right;\">\n",
       "      <th></th>\n",
       "      <th>OPERATION</th>\n",
       "      <th>ACCRUAL</th>\n",
       "      <th>ADMIN FEES</th>\n",
       "      <th>AMMORTIZATION-ACCRETION</th>\n",
       "      <th>CASH IN-OUT</th>\n",
       "      <th>DIVIDEND INCOME</th>\n",
       "      <th>MAN FEES</th>\n",
       "      <th>MTM</th>\n",
       "      <th>TRANSACTION CHARGES</th>\n",
       "      <th>TRANSACTIONS CASH IN-OUT</th>\n",
       "    </tr>\n",
       "    <tr>\n",
       "      <th>ASONDATE</th>\n",
       "      <th>PORTCODE</th>\n",
       "      <th></th>\n",
       "      <th></th>\n",
       "      <th></th>\n",
       "      <th></th>\n",
       "      <th></th>\n",
       "      <th></th>\n",
       "      <th></th>\n",
       "      <th></th>\n",
       "      <th></th>\n",
       "    </tr>\n",
       "  </thead>\n",
       "  <tbody>\n",
       "    <tr>\n",
       "      <th rowspan=\"4\" valign=\"top\">2018-11-12</th>\n",
       "      <th>500032</th>\n",
       "      <td>22044.11</td>\n",
       "      <td>0.0</td>\n",
       "      <td>107.20</td>\n",
       "      <td>7.285979e+09</td>\n",
       "      <td>0.0</td>\n",
       "      <td>0.0</td>\n",
       "      <td>202000.0</td>\n",
       "      <td>0.0</td>\n",
       "      <td>-20638.75</td>\n",
       "    </tr>\n",
       "    <tr>\n",
       "      <th>500032:Large Cap</th>\n",
       "      <td>0.00</td>\n",
       "      <td>0.0</td>\n",
       "      <td>0.00</td>\n",
       "      <td>0.000000e+00</td>\n",
       "      <td>0.0</td>\n",
       "      <td>0.0</td>\n",
       "      <td>2000.0</td>\n",
       "      <td>0.0</td>\n",
       "      <td>-111140.54</td>\n",
       "    </tr>\n",
       "    <tr>\n",
       "      <th>500032:NONE</th>\n",
       "      <td>22044.11</td>\n",
       "      <td>0.0</td>\n",
       "      <td>107.20</td>\n",
       "      <td>7.285979e+09</td>\n",
       "      <td>0.0</td>\n",
       "      <td>0.0</td>\n",
       "      <td>0.0</td>\n",
       "      <td>0.0</td>\n",
       "      <td>5020638.77</td>\n",
       "    </tr>\n",
       "    <tr>\n",
       "      <th>500032:Small Cap</th>\n",
       "      <td>0.00</td>\n",
       "      <td>0.0</td>\n",
       "      <td>0.00</td>\n",
       "      <td>0.000000e+00</td>\n",
       "      <td>0.0</td>\n",
       "      <td>0.0</td>\n",
       "      <td>200000.0</td>\n",
       "      <td>0.0</td>\n",
       "      <td>-4930136.98</td>\n",
       "    </tr>\n",
       "    <tr>\n",
       "      <th rowspan=\"6\" valign=\"top\">2018-11-13</th>\n",
       "      <th>500032</th>\n",
       "      <td>4298.22</td>\n",
       "      <td>0.0</td>\n",
       "      <td>324.27</td>\n",
       "      <td>-1.022208e+06</td>\n",
       "      <td>0.0</td>\n",
       "      <td>0.0</td>\n",
       "      <td>404892.0</td>\n",
       "      <td>-2208.0</td>\n",
       "      <td>0.00</td>\n",
       "    </tr>\n",
       "    <tr>\n",
       "      <th>500032:Large Cap</th>\n",
       "      <td>0.00</td>\n",
       "      <td>0.0</td>\n",
       "      <td>0.00</td>\n",
       "      <td>0.000000e+00</td>\n",
       "      <td>0.0</td>\n",
       "      <td>0.0</td>\n",
       "      <td>3000.0</td>\n",
       "      <td>0.0</td>\n",
       "      <td>0.00</td>\n",
       "    </tr>\n",
       "    <tr>\n",
       "      <th>500032:Mid Cap</th>\n",
       "      <td>0.00</td>\n",
       "      <td>0.0</td>\n",
       "      <td>0.00</td>\n",
       "      <td>0.000000e+00</td>\n",
       "      <td>0.0</td>\n",
       "      <td>0.0</td>\n",
       "      <td>18000.0</td>\n",
       "      <td>0.0</td>\n",
       "      <td>-300000.00</td>\n",
       "    </tr>\n",
       "    <tr>\n",
       "      <th>500032:NIfty</th>\n",
       "      <td>0.00</td>\n",
       "      <td>0.0</td>\n",
       "      <td>0.00</td>\n",
       "      <td>0.000000e+00</td>\n",
       "      <td>0.0</td>\n",
       "      <td>0.0</td>\n",
       "      <td>383892.0</td>\n",
       "      <td>-2208.0</td>\n",
       "      <td>-722208.00</td>\n",
       "    </tr>\n",
       "    <tr>\n",
       "      <th>500032:NONE</th>\n",
       "      <td>4298.22</td>\n",
       "      <td>0.0</td>\n",
       "      <td>324.27</td>\n",
       "      <td>-1.022208e+06</td>\n",
       "      <td>0.0</td>\n",
       "      <td>0.0</td>\n",
       "      <td>0.0</td>\n",
       "      <td>0.0</td>\n",
       "      <td>1022208.00</td>\n",
       "    </tr>\n",
       "    <tr>\n",
       "      <th>500032:Small Cap</th>\n",
       "      <td>0.00</td>\n",
       "      <td>0.0</td>\n",
       "      <td>0.00</td>\n",
       "      <td>0.000000e+00</td>\n",
       "      <td>0.0</td>\n",
       "      <td>0.0</td>\n",
       "      <td>0.0</td>\n",
       "      <td>0.0</td>\n",
       "      <td>0.00</td>\n",
       "    </tr>\n",
       "    <tr>\n",
       "      <th rowspan=\"6\" valign=\"top\">2018-11-14</th>\n",
       "      <th>500032</th>\n",
       "      <td>-46953.70</td>\n",
       "      <td>0.0</td>\n",
       "      <td>217.96</td>\n",
       "      <td>0.000000e+00</td>\n",
       "      <td>0.0</td>\n",
       "      <td>0.0</td>\n",
       "      <td>174000.0</td>\n",
       "      <td>0.0</td>\n",
       "      <td>0.00</td>\n",
       "    </tr>\n",
       "    <tr>\n",
       "      <th>500032:Large Cap</th>\n",
       "      <td>0.00</td>\n",
       "      <td>0.0</td>\n",
       "      <td>0.00</td>\n",
       "      <td>0.000000e+00</td>\n",
       "      <td>0.0</td>\n",
       "      <td>0.0</td>\n",
       "      <td>2000.0</td>\n",
       "      <td>0.0</td>\n",
       "      <td>0.00</td>\n",
       "    </tr>\n",
       "    <tr>\n",
       "      <th>500032:Mid Cap</th>\n",
       "      <td>0.00</td>\n",
       "      <td>0.0</td>\n",
       "      <td>0.00</td>\n",
       "      <td>0.000000e+00</td>\n",
       "      <td>0.0</td>\n",
       "      <td>0.0</td>\n",
       "      <td>2000.0</td>\n",
       "      <td>0.0</td>\n",
       "      <td>0.00</td>\n",
       "    </tr>\n",
       "    <tr>\n",
       "      <th>500032:NIfty</th>\n",
       "      <td>0.00</td>\n",
       "      <td>0.0</td>\n",
       "      <td>0.00</td>\n",
       "      <td>0.000000e+00</td>\n",
       "      <td>0.0</td>\n",
       "      <td>0.0</td>\n",
       "      <td>70000.0</td>\n",
       "      <td>0.0</td>\n",
       "      <td>0.00</td>\n",
       "    </tr>\n",
       "    <tr>\n",
       "      <th>500032:NONE</th>\n",
       "      <td>-46953.70</td>\n",
       "      <td>0.0</td>\n",
       "      <td>217.96</td>\n",
       "      <td>0.000000e+00</td>\n",
       "      <td>0.0</td>\n",
       "      <td>0.0</td>\n",
       "      <td>0.0</td>\n",
       "      <td>0.0</td>\n",
       "      <td>0.00</td>\n",
       "    </tr>\n",
       "    <tr>\n",
       "      <th>500032:Small Cap</th>\n",
       "      <td>0.00</td>\n",
       "      <td>0.0</td>\n",
       "      <td>0.00</td>\n",
       "      <td>0.000000e+00</td>\n",
       "      <td>0.0</td>\n",
       "      <td>0.0</td>\n",
       "      <td>100000.0</td>\n",
       "      <td>0.0</td>\n",
       "      <td>0.00</td>\n",
       "    </tr>\n",
       "  </tbody>\n",
       "</table>\n",
       "</div>"
      ],
      "text/plain": [
       "OPERATION                     ACCRUAL  ADMIN FEES  AMMORTIZATION-ACCRETION  \\\n",
       "ASONDATE   PORTCODE                                                          \n",
       "2018-11-12 500032            22044.11         0.0                   107.20   \n",
       "           500032:Large Cap      0.00         0.0                     0.00   \n",
       "           500032:NONE       22044.11         0.0                   107.20   \n",
       "           500032:Small Cap      0.00         0.0                     0.00   \n",
       "2018-11-13 500032             4298.22         0.0                   324.27   \n",
       "           500032:Large Cap      0.00         0.0                     0.00   \n",
       "           500032:Mid Cap        0.00         0.0                     0.00   \n",
       "           500032:NIfty          0.00         0.0                     0.00   \n",
       "           500032:NONE        4298.22         0.0                   324.27   \n",
       "           500032:Small Cap      0.00         0.0                     0.00   \n",
       "2018-11-14 500032           -46953.70         0.0                   217.96   \n",
       "           500032:Large Cap      0.00         0.0                     0.00   \n",
       "           500032:Mid Cap        0.00         0.0                     0.00   \n",
       "           500032:NIfty          0.00         0.0                     0.00   \n",
       "           500032:NONE      -46953.70         0.0                   217.96   \n",
       "           500032:Small Cap      0.00         0.0                     0.00   \n",
       "\n",
       "OPERATION                     CASH IN-OUT  DIVIDEND INCOME  MAN FEES  \\\n",
       "ASONDATE   PORTCODE                                                    \n",
       "2018-11-12 500032            7.285979e+09              0.0       0.0   \n",
       "           500032:Large Cap  0.000000e+00              0.0       0.0   \n",
       "           500032:NONE       7.285979e+09              0.0       0.0   \n",
       "           500032:Small Cap  0.000000e+00              0.0       0.0   \n",
       "2018-11-13 500032           -1.022208e+06              0.0       0.0   \n",
       "           500032:Large Cap  0.000000e+00              0.0       0.0   \n",
       "           500032:Mid Cap    0.000000e+00              0.0       0.0   \n",
       "           500032:NIfty      0.000000e+00              0.0       0.0   \n",
       "           500032:NONE      -1.022208e+06              0.0       0.0   \n",
       "           500032:Small Cap  0.000000e+00              0.0       0.0   \n",
       "2018-11-14 500032            0.000000e+00              0.0       0.0   \n",
       "           500032:Large Cap  0.000000e+00              0.0       0.0   \n",
       "           500032:Mid Cap    0.000000e+00              0.0       0.0   \n",
       "           500032:NIfty      0.000000e+00              0.0       0.0   \n",
       "           500032:NONE       0.000000e+00              0.0       0.0   \n",
       "           500032:Small Cap  0.000000e+00              0.0       0.0   \n",
       "\n",
       "OPERATION                         MTM  TRANSACTION CHARGES  \\\n",
       "ASONDATE   PORTCODE                                          \n",
       "2018-11-12 500032            202000.0                  0.0   \n",
       "           500032:Large Cap    2000.0                  0.0   \n",
       "           500032:NONE            0.0                  0.0   \n",
       "           500032:Small Cap  200000.0                  0.0   \n",
       "2018-11-13 500032            404892.0              -2208.0   \n",
       "           500032:Large Cap    3000.0                  0.0   \n",
       "           500032:Mid Cap     18000.0                  0.0   \n",
       "           500032:NIfty      383892.0              -2208.0   \n",
       "           500032:NONE            0.0                  0.0   \n",
       "           500032:Small Cap       0.0                  0.0   \n",
       "2018-11-14 500032            174000.0                  0.0   \n",
       "           500032:Large Cap    2000.0                  0.0   \n",
       "           500032:Mid Cap      2000.0                  0.0   \n",
       "           500032:NIfty       70000.0                  0.0   \n",
       "           500032:NONE            0.0                  0.0   \n",
       "           500032:Small Cap  100000.0                  0.0   \n",
       "\n",
       "OPERATION                    TRANSACTIONS CASH IN-OUT  \n",
       "ASONDATE   PORTCODE                                    \n",
       "2018-11-12 500032                           -20638.75  \n",
       "           500032:Large Cap                -111140.54  \n",
       "           500032:NONE                     5020638.77  \n",
       "           500032:Small Cap               -4930136.98  \n",
       "2018-11-13 500032                                0.00  \n",
       "           500032:Large Cap                      0.00  \n",
       "           500032:Mid Cap                  -300000.00  \n",
       "           500032:NIfty                    -722208.00  \n",
       "           500032:NONE                     1022208.00  \n",
       "           500032:Small Cap                      0.00  \n",
       "2018-11-14 500032                                0.00  \n",
       "           500032:Large Cap                      0.00  \n",
       "           500032:Mid Cap                        0.00  \n",
       "           500032:NIfty                          0.00  \n",
       "           500032:NONE                           0.00  \n",
       "           500032:Small Cap                      0.00  "
      ]
     },
     "execution_count": 99,
     "metadata": {},
     "output_type": "execute_result"
    }
   ],
   "source": [
    "stagingConcat"
   ]
  },
  {
   "cell_type": "code",
   "execution_count": 148,
   "metadata": {
    "ExecuteTime": {
     "end_time": "2019-02-19T11:01:42.450402Z",
     "start_time": "2019-02-19T11:01:42.446535Z"
    },
    "hidden": true
   },
   "outputs": [],
   "source": [
    "retBalSheet = stagingConcat"
   ]
  },
  {
   "cell_type": "code",
   "execution_count": 149,
   "metadata": {
    "ExecuteTime": {
     "end_time": "2019-02-19T11:01:43.016645Z",
     "start_time": "2019-02-19T11:01:42.990293Z"
    },
    "hidden": true
   },
   "outputs": [],
   "source": [
    "rettest = retBalSheet.reset_index().set_index([\"ASONDATE\"])"
   ]
  },
  {
   "cell_type": "code",
   "execution_count": 150,
   "metadata": {
    "ExecuteTime": {
     "end_time": "2019-02-19T11:01:43.309685Z",
     "start_time": "2019-02-19T11:01:43.234530Z"
    },
    "hidden": true
   },
   "outputs": [],
   "source": [
    "forPort = rettest[~rettest[\"PORTCODE\"].str.contains(\":\", na=False)].reset_index().set_index([\"ASONDATE\", \"PORTCODE\"])\n",
    "forNonPort = rettest[rettest[\"PORTCODE\"].str.contains(\":\", na=False)].reset_index().set_index([\"ASONDATE\", \"PORTCODE\"])"
   ]
  },
  {
   "cell_type": "code",
   "execution_count": 151,
   "metadata": {
    "ExecuteTime": {
     "end_time": "2019-02-19T11:01:43.447318Z",
     "start_time": "2019-02-19T11:01:43.415055Z"
    },
    "hidden": true
   },
   "outputs": [],
   "source": [
    "# netSUM:\n",
    "netPortSum = forPort.drop([\"TRANSACTIONS CASH IN-OUT\"], 1).sum(1)\n",
    "netNonPortSum = forNonPort.drop([\"CASH IN-OUT\", \"TRANSACTION CHARGES\", \"MAN FEES\", \"ADMIN FEES\"], 1).sum(1)\n",
    "netSum = pd.concat([netPortSum, netNonPortSum], axis=1).fillna(0).sum(1)"
   ]
  },
  {
   "cell_type": "code",
   "execution_count": 152,
   "metadata": {
    "ExecuteTime": {
     "end_time": "2019-02-19T11:01:43.618506Z",
     "start_time": "2019-02-19T11:01:43.608747Z"
    },
    "hidden": true
   },
   "outputs": [],
   "source": [
    "# GrossSUM:\n",
    "grPortSum = forPort.drop([\"TRANSACTIONS CASH IN-OUT\", \"TRANSACTION CHARGES\", \"MAN FEES\", \"ADMIN FEES\"], 1).sum(1)\n",
    "grNonPortSum = forNonPort.drop([\"CASH IN-OUT\"], 1).sum(1)\n",
    "grSum = pd.concat([grPortSum, grNonPortSum], axis=1).fillna(0).sum(1)"
   ]
  },
  {
   "cell_type": "code",
   "execution_count": 153,
   "metadata": {
    "ExecuteTime": {
     "end_time": "2019-02-19T11:01:43.841034Z",
     "start_time": "2019-02-19T11:01:43.793215Z"
    },
    "hidden": true
   },
   "outputs": [],
   "source": [
    "balSheet = cu.sumXactions(stagingConcat)"
   ]
  },
  {
   "cell_type": "code",
   "execution_count": 200,
   "metadata": {
    "ExecuteTime": {
     "end_time": "2019-02-19T11:09:37.006952Z",
     "start_time": "2019-02-19T11:09:36.998166Z"
    },
    "hidden": true
   },
   "outputs": [],
   "source": [
    "  # Initialize closing balance df\n",
    "closingBal = pd.DataFrame(index=balSheet.index)\n",
    "closingBal = closingBal.assign(**{\"GROPEN\": np.zeros(balSheet.index.size), \"NETOPEN\": np.zeros(balSheet.index.size), \"GRCLOSE\": np.zeros(balSheet.index.size), \"NETCLOSE\": np.zeros(balSheet.index.size), \"GRRETURNS\": np.zeros(balSheet.index.size), \"NETRETURNS\": np.zeros(balSheet.index.size), \"LOGGRRETURNS\": np.zeros(balSheet.index.size), \"LOGNETRETURNS\": np.zeros(balSheet.index.size)})\n",
    "closingBal = closingBal.unstack(\"PORTCODE\")"
   ]
  },
  {
   "cell_type": "code",
   "execution_count": 201,
   "metadata": {
    "ExecuteTime": {
     "end_time": "2019-02-19T11:09:37.245095Z",
     "start_time": "2019-02-19T11:09:37.239236Z"
    },
    "hidden": true
   },
   "outputs": [],
   "source": [
    "closingBal[\"GROPEN\"].iloc[0] = 0\n",
    "closingBal[\"NETOPEN\"].iloc[0] = 0"
   ]
  },
  {
   "cell_type": "code",
   "execution_count": 202,
   "metadata": {
    "ExecuteTime": {
     "end_time": "2019-02-19T11:09:37.457863Z",
     "start_time": "2019-02-19T11:09:37.453957Z"
    },
    "hidden": true
   },
   "outputs": [],
   "source": [
    "balSheetUnstacked = balSheet.unstack()"
   ]
  },
  {
   "cell_type": "code",
   "execution_count": 203,
   "metadata": {
    "ExecuteTime": {
     "end_time": "2019-02-19T11:09:38.366954Z",
     "start_time": "2019-02-19T11:09:37.658709Z"
    },
    "hidden": true
   },
   "outputs": [],
   "source": [
    "balSheetUnstacked.to_csv(\"unstackBalSheet.csv\")"
   ]
  },
  {
   "cell_type": "code",
   "execution_count": 204,
   "metadata": {
    "ExecuteTime": {
     "end_time": "2019-02-19T11:09:38.374712Z",
     "start_time": "2019-02-19T11:09:38.368855Z"
    },
    "hidden": true
   },
   "outputs": [],
   "source": [
    "closingBal[\"NETCLOSE\"].values[:] = closingBal[\"NETOPEN\"].values[0] + balSheetUnstacked[\"NETSUMXACTION\"].cumsum().values"
   ]
  },
  {
   "cell_type": "code",
   "execution_count": 205,
   "metadata": {
    "ExecuteTime": {
     "end_time": "2019-02-19T11:09:38.851206Z",
     "start_time": "2019-02-19T11:09:38.844415Z"
    },
    "hidden": true
   },
   "outputs": [],
   "source": [
    "closingBal[\"GRCLOSE\"].values[:] = closingBal[\"GROPEN\"].values[0] + balSheetUnstacked[\"GRSUMXACTION\"].cumsum().values\n",
    "closingBal[\"NETOPEN\"].values[1:] = closingBal[\"NETCLOSE\"].values[:-1]\n",
    "closingBal[\"GROPEN\"].values[1:] = closingBal[\"GRCLOSE\"].values[:-1]"
   ]
  },
  {
   "cell_type": "code",
   "execution_count": 206,
   "metadata": {
    "ExecuteTime": {
     "end_time": "2019-02-19T11:09:39.039005Z",
     "start_time": "2019-02-19T11:09:39.029246Z"
    },
    "hidden": true
   },
   "outputs": [],
   "source": [
    "closingBal[\"NETRETURNS\"] = closingBal[\"NETCLOSE\"].pct_change()\n",
    "closingBal[\"GRRETURNS\"] = closingBal[\"GRCLOSE\"].pct_change()"
   ]
  },
  {
   "cell_type": "code",
   "execution_count": 207,
   "metadata": {
    "ExecuteTime": {
     "end_time": "2019-02-19T11:09:39.219566Z",
     "start_time": "2019-02-19T11:09:39.203949Z"
    },
    "hidden": true
   },
   "outputs": [],
   "source": [
    "closingBal[\"LOGGRRETURNS\"] = np.log(closingBal[\"GRCLOSE\"].pct_change() + 1)\n",
    "closingBal[\"LOGNETRETURNS\"] = np.log(closingBal[\"NETCLOSE\"].pct_change() + 1)\n",
    "\n",
    "\n",
    "allDateClosing = pd.DataFrame(index=pd.date_range(closingBal.index.min(), closingBal.index.max()))\n",
    "closingBal = pd.concat([allDateClosing, closingBal], axis=1)\n",
    "closingBal.columns = pd.MultiIndex.from_tuples(closingBal.columns)\n",
    "closingBal = closingBal.fillna(method=\"ffill\")\n"
   ]
  },
  {
   "cell_type": "code",
   "execution_count": 208,
   "metadata": {
    "ExecuteTime": {
     "end_time": "2019-02-19T11:09:39.392325Z",
     "start_time": "2019-02-19T11:09:39.381581Z"
    },
    "hidden": true
   },
   "outputs": [
    {
     "data": {
      "text/html": [
       "<div>\n",
       "<style scoped>\n",
       "    .dataframe tbody tr th:only-of-type {\n",
       "        vertical-align: middle;\n",
       "    }\n",
       "\n",
       "    .dataframe tbody tr th {\n",
       "        vertical-align: top;\n",
       "    }\n",
       "\n",
       "    .dataframe thead th {\n",
       "        text-align: right;\n",
       "    }\n",
       "</style>\n",
       "<table border=\"1\" class=\"dataframe\">\n",
       "  <thead>\n",
       "    <tr style=\"text-align: right;\">\n",
       "      <th></th>\n",
       "      <th>500032</th>\n",
       "      <th>500032:Large Cap</th>\n",
       "      <th>500032:Mid Cap</th>\n",
       "      <th>500032:NIfty</th>\n",
       "      <th>500032:NONE</th>\n",
       "      <th>500032:Small Cap</th>\n",
       "    </tr>\n",
       "    <tr>\n",
       "      <th>ASONDATE</th>\n",
       "      <th></th>\n",
       "      <th></th>\n",
       "      <th></th>\n",
       "      <th></th>\n",
       "      <th></th>\n",
       "      <th></th>\n",
       "    </tr>\n",
       "  </thead>\n",
       "  <tbody>\n",
       "    <tr>\n",
       "      <th>2018-11-12</th>\n",
       "      <td>NaN</td>\n",
       "      <td>NaN</td>\n",
       "      <td>NaN</td>\n",
       "      <td>NaN</td>\n",
       "      <td>NaN</td>\n",
       "      <td>NaN</td>\n",
       "    </tr>\n",
       "    <tr>\n",
       "      <th>2018-11-13</th>\n",
       "      <td>-0.000028</td>\n",
       "      <td>-0.009655</td>\n",
       "      <td>NaN</td>\n",
       "      <td>NaN</td>\n",
       "      <td>0.067874</td>\n",
       "      <td>0.000000</td>\n",
       "    </tr>\n",
       "    <tr>\n",
       "      <th>2018-11-14</th>\n",
       "      <td>0.000009</td>\n",
       "      <td>-0.009749</td>\n",
       "      <td>-0.010638</td>\n",
       "      <td>-0.310361</td>\n",
       "      <td>-0.004339</td>\n",
       "      <td>-0.010604</td>\n",
       "    </tr>\n",
       "  </tbody>\n",
       "</table>\n",
       "</div>"
      ],
      "text/plain": [
       "              500032  500032:Large Cap  500032:Mid Cap  500032:NIfty  \\\n",
       "ASONDATE                                                               \n",
       "2018-11-12       NaN               NaN             NaN           NaN   \n",
       "2018-11-13 -0.000028         -0.009655             NaN           NaN   \n",
       "2018-11-14  0.000009         -0.009749       -0.010638     -0.310361   \n",
       "\n",
       "            500032:NONE  500032:Small Cap  \n",
       "ASONDATE                                   \n",
       "2018-11-12          NaN               NaN  \n",
       "2018-11-13     0.067874          0.000000  \n",
       "2018-11-14    -0.004339         -0.010604  "
      ]
     },
     "execution_count": 208,
     "metadata": {},
     "output_type": "execute_result"
    }
   ],
   "source": [
    "closingBal[\"NETRETURNS\"]"
   ]
  },
  {
   "cell_type": "code",
   "execution_count": 162,
   "metadata": {
    "ExecuteTime": {
     "end_time": "2019-02-19T11:01:48.323849Z",
     "start_time": "2019-02-19T11:01:48.234015Z"
    },
    "hidden": true
   },
   "outputs": [],
   "source": [
    "closingBalance = cu.calcDailyCloseReturns(stagingConcat)"
   ]
  },
  {
   "cell_type": "code",
   "execution_count": null,
   "metadata": {
    "ExecuteTime": {
     "end_time": "2019-02-19T11:09:47.377015Z",
     "start_time": "2019-02-19T11:09:47.374050Z"
    },
    "hidden": true
   },
   "outputs": [],
   "source": [
    "date = '2018-11-14'"
   ]
  },
  {
   "cell_type": "code",
   "execution_count": 241,
   "metadata": {
    "ExecuteTime": {
     "end_time": "2019-02-20T05:18:21.627661Z",
     "start_time": "2019-02-20T05:18:21.184252Z"
    },
    "hidden": true
   },
   "outputs": [],
   "source": [
    "date = pd.to_datetime(date)"
   ]
  },
  {
   "cell_type": "code",
   "execution_count": 246,
   "metadata": {
    "ExecuteTime": {
     "end_time": "2019-02-20T05:19:01.860018Z",
     "start_time": "2019-02-20T05:19:01.855162Z"
    },
    "hidden": true
   },
   "outputs": [
    {
     "data": {
      "text/plain": [
       "'2018-11-14'"
      ]
     },
     "execution_count": 246,
     "metadata": {},
     "output_type": "execute_result"
    }
   ],
   "source": [
    "date.strftime(\"%Y-%m-%d\")"
   ]
  },
  {
   "cell_type": "code",
   "execution_count": 240,
   "metadata": {
    "ExecuteTime": {
     "end_time": "2019-02-19T12:16:29.548388Z",
     "start_time": "2019-02-19T12:16:29.544480Z"
    },
    "hidden": true
   },
   "outputs": [
    {
     "data": {
      "text/plain": [
       "datetime.datetime(2018, 11, 14, 0, 0)"
      ]
     },
     "execution_count": 240,
     "metadata": {},
     "output_type": "execute_result"
    }
   ],
   "source": [
    "datetime.datetime.strptime(pd.to_datetime(date).isoformat()+\".000Z\", \"%Y-%m-%dT%H:%M:%S.000Z\")"
   ]
  },
  {
   "cell_type": "code",
   "execution_count": 233,
   "metadata": {
    "ExecuteTime": {
     "end_time": "2019-02-19T12:13:50.015699Z",
     "start_time": "2019-02-19T12:13:50.011795Z"
    },
    "hidden": true
   },
   "outputs": [
    {
     "data": {
      "text/plain": [
       "datetime.datetime(2015, 3, 1, 0, 0)"
      ]
     },
     "execution_count": 233,
     "metadata": {},
     "output_type": "execute_result"
    }
   ],
   "source": [
    "datetime.datetime(2015, 3, 1)"
   ]
  },
  {
   "cell_type": "code",
   "execution_count": 214,
   "metadata": {
    "ExecuteTime": {
     "end_time": "2019-02-19T11:10:21.503549Z",
     "start_time": "2019-02-19T11:10:21.492812Z"
    },
    "hidden": true
   },
   "outputs": [
    {
     "data": {
      "text/html": [
       "<div>\n",
       "<style scoped>\n",
       "    .dataframe tbody tr th:only-of-type {\n",
       "        vertical-align: middle;\n",
       "    }\n",
       "\n",
       "    .dataframe tbody tr th {\n",
       "        vertical-align: top;\n",
       "    }\n",
       "\n",
       "    .dataframe thead th {\n",
       "        text-align: right;\n",
       "    }\n",
       "</style>\n",
       "<table border=\"1\" class=\"dataframe\">\n",
       "  <thead>\n",
       "    <tr style=\"text-align: right;\">\n",
       "      <th></th>\n",
       "      <th>500032</th>\n",
       "      <th>500032:Large Cap</th>\n",
       "      <th>500032:Mid Cap</th>\n",
       "      <th>500032:NIfty</th>\n",
       "      <th>500032:NONE</th>\n",
       "      <th>500032:Small Cap</th>\n",
       "    </tr>\n",
       "    <tr>\n",
       "      <th>ASONDATE</th>\n",
       "      <th></th>\n",
       "      <th></th>\n",
       "      <th></th>\n",
       "      <th></th>\n",
       "      <th></th>\n",
       "      <th></th>\n",
       "    </tr>\n",
       "  </thead>\n",
       "  <tbody>\n",
       "    <tr>\n",
       "      <th>2018-11-12</th>\n",
       "      <td>NaN</td>\n",
       "      <td>NaN</td>\n",
       "      <td>NaN</td>\n",
       "      <td>NaN</td>\n",
       "      <td>NaN</td>\n",
       "      <td>NaN</td>\n",
       "    </tr>\n",
       "    <tr>\n",
       "      <th>2018-11-13</th>\n",
       "      <td>-0.000028</td>\n",
       "      <td>-0.009702</td>\n",
       "      <td>NaN</td>\n",
       "      <td>NaN</td>\n",
       "      <td>0.065670</td>\n",
       "      <td>0.000000</td>\n",
       "    </tr>\n",
       "    <tr>\n",
       "      <th>2018-11-14</th>\n",
       "      <td>0.000009</td>\n",
       "      <td>-0.009797</td>\n",
       "      <td>-0.010695</td>\n",
       "      <td>-0.371587</td>\n",
       "      <td>-0.004349</td>\n",
       "      <td>-0.010661</td>\n",
       "    </tr>\n",
       "  </tbody>\n",
       "</table>\n",
       "</div>"
      ],
      "text/plain": [
       "              500032  500032:Large Cap  500032:Mid Cap  500032:NIfty  \\\n",
       "ASONDATE                                                               \n",
       "2018-11-12       NaN               NaN             NaN           NaN   \n",
       "2018-11-13 -0.000028         -0.009702             NaN           NaN   \n",
       "2018-11-14  0.000009         -0.009797       -0.010695     -0.371587   \n",
       "\n",
       "            500032:NONE  500032:Small Cap  \n",
       "ASONDATE                                   \n",
       "2018-11-12          NaN               NaN  \n",
       "2018-11-13     0.065670          0.000000  \n",
       "2018-11-14    -0.004349         -0.010661  "
      ]
     },
     "execution_count": 214,
     "metadata": {},
     "output_type": "execute_result"
    }
   ],
   "source": [
    "np.log(closingBal[\"NETRETURNS\"]"
   ]
  },
  {
   "cell_type": "code",
   "execution_count": 221,
   "metadata": {
    "ExecuteTime": {
     "end_time": "2019-02-19T11:14:37.791997Z",
     "start_time": "2019-02-19T11:14:37.781293Z"
    },
    "hidden": true
   },
   "outputs": [
    {
     "data": {
      "text/plain": [
       "LOGGRRETURNS   500032             -0.000019\n",
       "               500032:Large Cap   -0.019499\n",
       "               500032:Mid Cap     -0.010695\n",
       "               500032:NIfty       -0.368673\n",
       "               500032:NONE         0.061321\n",
       "               500032:Small Cap   -0.010661\n",
       "LOGNETRETURNS  500032             -0.000019\n",
       "               500032:Large Cap   -0.019499\n",
       "               500032:Mid Cap     -0.010695\n",
       "               500032:NIfty       -0.371587\n",
       "               500032:NONE         0.061321\n",
       "               500032:Small Cap   -0.010661\n",
       "dtype: float64"
      ]
     },
     "execution_count": 221,
     "metadata": {},
     "output_type": "execute_result"
    }
   ],
   "source": [
    "date=\"2018-11-14\"\n",
    "closingBal[[\"LOGGRRETURNS\", \"LOGNETRETURNS\"]][:date].resample('1D').sum().iloc[-2:].sum()"
   ]
  },
  {
   "cell_type": "code",
   "execution_count": 199,
   "metadata": {
    "ExecuteTime": {
     "end_time": "2019-02-19T11:08:20.591856Z",
     "start_time": "2019-02-19T11:08:20.535246Z"
    },
    "hidden": true
   },
   "outputs": [
    {
     "data": {
      "text/html": [
       "<div>\n",
       "<style scoped>\n",
       "    .dataframe tbody tr th:only-of-type {\n",
       "        vertical-align: middle;\n",
       "    }\n",
       "\n",
       "    .dataframe tbody tr th {\n",
       "        vertical-align: top;\n",
       "    }\n",
       "\n",
       "    .dataframe thead th {\n",
       "        text-align: right;\n",
       "    }\n",
       "</style>\n",
       "<table border=\"1\" class=\"dataframe\">\n",
       "  <thead>\n",
       "    <tr style=\"text-align: right;\">\n",
       "      <th></th>\n",
       "      <th></th>\n",
       "      <th>1D</th>\n",
       "      <th>1W</th>\n",
       "      <th>1FN</th>\n",
       "      <th>1M</th>\n",
       "      <th>3M</th>\n",
       "      <th>6M</th>\n",
       "      <th>9M</th>\n",
       "      <th>1Y</th>\n",
       "      <th>2Y</th>\n",
       "      <th>3Y</th>\n",
       "      <th>5Y</th>\n",
       "      <th>INCEPTION</th>\n",
       "    </tr>\n",
       "  </thead>\n",
       "  <tbody>\n",
       "    <tr>\n",
       "      <th rowspan=\"6\" valign=\"top\">LOGGRRETURNS</th>\n",
       "      <th>500032</th>\n",
       "      <td>0.000000</td>\n",
       "      <td>0.000000</td>\n",
       "      <td>0.000000</td>\n",
       "      <td>0.000000</td>\n",
       "      <td>0.000000</td>\n",
       "      <td>0.000000</td>\n",
       "      <td>0.000000</td>\n",
       "      <td>0.000000</td>\n",
       "      <td>0.000000</td>\n",
       "      <td>0.000000</td>\n",
       "      <td>0.000000</td>\n",
       "      <td>0.000000</td>\n",
       "    </tr>\n",
       "    <tr>\n",
       "      <th>500032:Large Cap</th>\n",
       "      <td>0.009749</td>\n",
       "      <td>0.009749</td>\n",
       "      <td>0.009749</td>\n",
       "      <td>0.009749</td>\n",
       "      <td>0.009749</td>\n",
       "      <td>0.009749</td>\n",
       "      <td>0.009749</td>\n",
       "      <td>0.009749</td>\n",
       "      <td>0.009749</td>\n",
       "      <td>0.009749</td>\n",
       "      <td>0.009749</td>\n",
       "      <td>0.009749</td>\n",
       "    </tr>\n",
       "    <tr>\n",
       "      <th>500032:Mid Cap</th>\n",
       "      <td>0.000000</td>\n",
       "      <td>0.000000</td>\n",
       "      <td>0.000000</td>\n",
       "      <td>0.000000</td>\n",
       "      <td>0.000000</td>\n",
       "      <td>0.000000</td>\n",
       "      <td>0.000000</td>\n",
       "      <td>0.000000</td>\n",
       "      <td>0.000000</td>\n",
       "      <td>0.000000</td>\n",
       "      <td>0.000000</td>\n",
       "      <td>0.000000</td>\n",
       "    </tr>\n",
       "    <tr>\n",
       "      <th>500032:NIfty</th>\n",
       "      <td>0.000000</td>\n",
       "      <td>0.000000</td>\n",
       "      <td>0.000000</td>\n",
       "      <td>0.000000</td>\n",
       "      <td>0.000000</td>\n",
       "      <td>0.000000</td>\n",
       "      <td>0.000000</td>\n",
       "      <td>0.000000</td>\n",
       "      <td>0.000000</td>\n",
       "      <td>0.000000</td>\n",
       "      <td>0.000000</td>\n",
       "      <td>0.000000</td>\n",
       "    </tr>\n",
       "    <tr>\n",
       "      <th>500032:NONE</th>\n",
       "      <td>0.000000</td>\n",
       "      <td>0.000000</td>\n",
       "      <td>0.000000</td>\n",
       "      <td>0.000000</td>\n",
       "      <td>0.000000</td>\n",
       "      <td>0.000000</td>\n",
       "      <td>0.000000</td>\n",
       "      <td>0.000000</td>\n",
       "      <td>0.000000</td>\n",
       "      <td>0.000000</td>\n",
       "      <td>0.000000</td>\n",
       "      <td>0.000000</td>\n",
       "    </tr>\n",
       "    <tr>\n",
       "      <th>500032:Small Cap</th>\n",
       "      <td>0.000000</td>\n",
       "      <td>0.000000</td>\n",
       "      <td>0.000000</td>\n",
       "      <td>0.000000</td>\n",
       "      <td>0.000000</td>\n",
       "      <td>0.000000</td>\n",
       "      <td>0.000000</td>\n",
       "      <td>0.000000</td>\n",
       "      <td>0.000000</td>\n",
       "      <td>0.000000</td>\n",
       "      <td>0.000000</td>\n",
       "      <td>0.000000</td>\n",
       "    </tr>\n",
       "    <tr>\n",
       "      <th rowspan=\"6\" valign=\"top\">LOGNETRETURNS</th>\n",
       "      <th>500032</th>\n",
       "      <td>0.000000</td>\n",
       "      <td>0.000000</td>\n",
       "      <td>0.000000</td>\n",
       "      <td>0.000000</td>\n",
       "      <td>0.000000</td>\n",
       "      <td>0.000000</td>\n",
       "      <td>0.000000</td>\n",
       "      <td>0.000000</td>\n",
       "      <td>0.000000</td>\n",
       "      <td>0.000000</td>\n",
       "      <td>0.000000</td>\n",
       "      <td>0.000000</td>\n",
       "    </tr>\n",
       "    <tr>\n",
       "      <th>500032:Large Cap</th>\n",
       "      <td>0.009749</td>\n",
       "      <td>0.009749</td>\n",
       "      <td>0.009749</td>\n",
       "      <td>0.009749</td>\n",
       "      <td>0.009749</td>\n",
       "      <td>0.009749</td>\n",
       "      <td>0.009749</td>\n",
       "      <td>0.009749</td>\n",
       "      <td>0.009749</td>\n",
       "      <td>0.009749</td>\n",
       "      <td>0.009749</td>\n",
       "      <td>0.009749</td>\n",
       "    </tr>\n",
       "    <tr>\n",
       "      <th>500032:Mid Cap</th>\n",
       "      <td>0.000000</td>\n",
       "      <td>0.000000</td>\n",
       "      <td>0.000000</td>\n",
       "      <td>0.000000</td>\n",
       "      <td>0.000000</td>\n",
       "      <td>0.000000</td>\n",
       "      <td>0.000000</td>\n",
       "      <td>0.000000</td>\n",
       "      <td>0.000000</td>\n",
       "      <td>0.000000</td>\n",
       "      <td>0.000000</td>\n",
       "      <td>0.000000</td>\n",
       "    </tr>\n",
       "    <tr>\n",
       "      <th>500032:NIfty</th>\n",
       "      <td>0.000000</td>\n",
       "      <td>0.000000</td>\n",
       "      <td>0.000000</td>\n",
       "      <td>0.000000</td>\n",
       "      <td>0.000000</td>\n",
       "      <td>0.000000</td>\n",
       "      <td>0.000000</td>\n",
       "      <td>0.000000</td>\n",
       "      <td>0.000000</td>\n",
       "      <td>0.000000</td>\n",
       "      <td>0.000000</td>\n",
       "      <td>0.000000</td>\n",
       "    </tr>\n",
       "    <tr>\n",
       "      <th>500032:NONE</th>\n",
       "      <td>0.000000</td>\n",
       "      <td>0.000000</td>\n",
       "      <td>0.000000</td>\n",
       "      <td>0.000000</td>\n",
       "      <td>0.000000</td>\n",
       "      <td>0.000000</td>\n",
       "      <td>0.000000</td>\n",
       "      <td>0.000000</td>\n",
       "      <td>0.000000</td>\n",
       "      <td>0.000000</td>\n",
       "      <td>0.000000</td>\n",
       "      <td>0.000000</td>\n",
       "    </tr>\n",
       "    <tr>\n",
       "      <th>500032:Small Cap</th>\n",
       "      <td>0.000000</td>\n",
       "      <td>0.000000</td>\n",
       "      <td>0.000000</td>\n",
       "      <td>0.000000</td>\n",
       "      <td>0.000000</td>\n",
       "      <td>0.000000</td>\n",
       "      <td>0.000000</td>\n",
       "      <td>0.000000</td>\n",
       "      <td>0.000000</td>\n",
       "      <td>0.000000</td>\n",
       "      <td>0.000000</td>\n",
       "      <td>0.000000</td>\n",
       "    </tr>\n",
       "  </tbody>\n",
       "</table>\n",
       "</div>"
      ],
      "text/plain": [
       "                                      1D        1W       1FN        1M  \\\n",
       "LOGGRRETURNS  500032            0.000000  0.000000  0.000000  0.000000   \n",
       "              500032:Large Cap  0.009749  0.009749  0.009749  0.009749   \n",
       "              500032:Mid Cap    0.000000  0.000000  0.000000  0.000000   \n",
       "              500032:NIfty      0.000000  0.000000  0.000000  0.000000   \n",
       "              500032:NONE       0.000000  0.000000  0.000000  0.000000   \n",
       "              500032:Small Cap  0.000000  0.000000  0.000000  0.000000   \n",
       "LOGNETRETURNS 500032            0.000000  0.000000  0.000000  0.000000   \n",
       "              500032:Large Cap  0.009749  0.009749  0.009749  0.009749   \n",
       "              500032:Mid Cap    0.000000  0.000000  0.000000  0.000000   \n",
       "              500032:NIfty      0.000000  0.000000  0.000000  0.000000   \n",
       "              500032:NONE       0.000000  0.000000  0.000000  0.000000   \n",
       "              500032:Small Cap  0.000000  0.000000  0.000000  0.000000   \n",
       "\n",
       "                                      3M        6M        9M        1Y  \\\n",
       "LOGGRRETURNS  500032            0.000000  0.000000  0.000000  0.000000   \n",
       "              500032:Large Cap  0.009749  0.009749  0.009749  0.009749   \n",
       "              500032:Mid Cap    0.000000  0.000000  0.000000  0.000000   \n",
       "              500032:NIfty      0.000000  0.000000  0.000000  0.000000   \n",
       "              500032:NONE       0.000000  0.000000  0.000000  0.000000   \n",
       "              500032:Small Cap  0.000000  0.000000  0.000000  0.000000   \n",
       "LOGNETRETURNS 500032            0.000000  0.000000  0.000000  0.000000   \n",
       "              500032:Large Cap  0.009749  0.009749  0.009749  0.009749   \n",
       "              500032:Mid Cap    0.000000  0.000000  0.000000  0.000000   \n",
       "              500032:NIfty      0.000000  0.000000  0.000000  0.000000   \n",
       "              500032:NONE       0.000000  0.000000  0.000000  0.000000   \n",
       "              500032:Small Cap  0.000000  0.000000  0.000000  0.000000   \n",
       "\n",
       "                                      2Y        3Y        5Y  INCEPTION  \n",
       "LOGGRRETURNS  500032            0.000000  0.000000  0.000000   0.000000  \n",
       "              500032:Large Cap  0.009749  0.009749  0.009749   0.009749  \n",
       "              500032:Mid Cap    0.000000  0.000000  0.000000   0.000000  \n",
       "              500032:NIfty      0.000000  0.000000  0.000000   0.000000  \n",
       "              500032:NONE       0.000000  0.000000  0.000000   0.000000  \n",
       "              500032:Small Cap  0.000000  0.000000  0.000000   0.000000  \n",
       "LOGNETRETURNS 500032            0.000000  0.000000  0.000000   0.000000  \n",
       "              500032:Large Cap  0.009749  0.009749  0.009749   0.009749  \n",
       "              500032:Mid Cap    0.000000  0.000000  0.000000   0.000000  \n",
       "              500032:NIfty      0.000000  0.000000  0.000000   0.000000  \n",
       "              500032:NONE       0.000000  0.000000  0.000000   0.000000  \n",
       "              500032:Small Cap  0.000000  0.000000  0.000000   0.000000  "
      ]
     },
     "execution_count": 199,
     "metadata": {},
     "output_type": "execute_result"
    }
   ],
   "source": [
    "cu.calcGroupReturns(date, closingBal, [\"LOGGRRETURNS\", \"LOGNETRETURNS\"])"
   ]
  },
  {
   "cell_type": "markdown",
   "metadata": {
    "ExecuteTime": {
     "end_time": "2019-01-03T11:42:31.538548Z",
     "start_time": "2019-01-03T11:42:31.265270Z"
    },
    "heading_collapsed": true
   },
   "source": [
    "### BENCHMARK"
   ]
  },
  {
   "cell_type": "code",
   "execution_count": 2,
   "metadata": {
    "ExecuteTime": {
     "end_time": "2019-01-03T11:42:31.538548Z",
     "start_time": "2019-01-03T11:42:31.265270Z"
    },
    "hidden": true
   },
   "outputs": [
    {
     "name": "stdout",
     "output_type": "stream",
     "text": [
      "notEmpty\n"
     ]
    },
    {
     "name": "stderr",
     "output_type": "stream",
     "text": [
      "c:\\users\\mukesh\\appdata\\local\\programs\\python\\python37\\lib\\site-packages\\pandas\\core\\frame.py:6211: FutureWarning: Sorting because non-concatenation axis is not aligned. A future version\n",
      "of pandas will change to not sort by default.\n",
      "\n",
      "To accept the future behavior, pass 'sort=False'.\n",
      "\n",
      "To retain the current behavior and silence the warning, pass 'sort=True'.\n",
      "\n",
      "  sort=sort)\n"
     ]
    }
   ],
   "source": [
    "histData = db.getDataFromMongo(\"rawdatareturns_benchmark\")\n",
    "if not histData.empty:\n",
    "    print(\"notEmpty\")\n",
    "    # drop a day records\n",
    "    histData = histData.set_index('ASONDATE').stack().reset_index().rename(columns={0:\"VALUE\",\"level_1\":\"BENCHMARK\"})\n",
    "    histData = histData[histData['ASONDATE']!=\"2017-02-03\"]\n",
    "    # get daily record\n",
    "    dailyData = db.getDataFromOracle(\"trindex_daily\",\"03/02/2017\")\n",
    "    rawBench = histData.append(dailyData,ignore_index=True)\n",
    "else:\n",
    "    print(\"Empty\")\n",
    "    histData = db.getDataFromOracle(\"trindex_all\")\n",
    "    # Save all historical data into Mongo\n",
    "    rawBench = histData\n",
    "    \n",
    "rawBench = rawBench.pivot_table(index='ASONDATE',columns='BENCHMARK',values='VALUE').reset_index()\n",
    "db.insertDataToMongo(\"rawdatareturns_benchmark\",rawBench)\n",
    "rawBench = rawBench.set_index('ASONDATE').stack().reset_index().rename(columns={0:\"VALUE\"})"
   ]
  },
  {
   "cell_type": "code",
   "execution_count": 3,
   "metadata": {
    "ExecuteTime": {
     "end_time": "2019-01-03T11:42:31.558070Z",
     "start_time": "2019-01-03T11:42:31.540537Z"
    },
    "hidden": true
   },
   "outputs": [],
   "source": [
    "allDateRawBench = pd.DataFrame(index=pd.date_range(rawBench['ASONDATE'].min(),rawBench['ASONDATE'].max()))\n",
    "pivotRawBench = rawBench.pivot_table(index=\"ASONDATE\",columns='BENCHMARK',values=\"VALUE\")"
   ]
  },
  {
   "cell_type": "code",
   "execution_count": 4,
   "metadata": {
    "ExecuteTime": {
     "end_time": "2019-01-03T11:42:32.347171Z",
     "start_time": "2019-01-03T11:42:32.338387Z"
    },
    "hidden": true
   },
   "outputs": [],
   "source": [
    "rawPrices = allDateRawBench.merge(pivotRawBench,left_index=True,right_index=True,how='left').fillna(method='ffill')\n",
    "dividend = pd.DataFrame(index=rawPrices.index,columns=rawPrices.columns,data=0)\n",
    "splitRatio = pd.DataFrame(index=rawPrices.index,columns=rawPrices.columns,data=1)"
   ]
  },
  {
   "cell_type": "code",
   "execution_count": 5,
   "metadata": {
    "ExecuteTime": {
     "end_time": "2019-01-03T11:42:37.581599Z",
     "start_time": "2019-01-03T11:42:34.552820Z"
    },
    "hidden": true
   },
   "outputs": [
    {
     "name": "stderr",
     "output_type": "stream",
     "text": [
      "E:/Credence/Projects/Ideal6-python-worker/returns/Src\\computeUnit.py:18: RuntimeWarning: invalid value encountered in true_divide\n",
      "  pivot_adj_price_df.iloc[i] = pivot_adj_price_df.iloc[i - 1].values * (((rawPrices.iloc[i].values * splitRatio.iloc[i - 1].values) - dividend.iloc[i - 1].values) / rawPrices.iloc[i - 1].values)\n"
     ]
    }
   ],
   "source": [
    "adjPrice = cu.calcAdjustedPrices(rawPrices,dividend,splitRatio).sort_index()\n",
    "db.insertDataToMongo(\"dailyadjclose_benchmark\",adjPrice.reset_index())"
   ]
  },
  {
   "cell_type": "code",
   "execution_count": 6,
   "metadata": {
    "ExecuteTime": {
     "end_time": "2019-01-03T11:42:37.866603Z",
     "start_time": "2019-01-03T11:42:37.583296Z"
    },
    "hidden": true
   },
   "outputs": [],
   "source": [
    "logReturns = np.log(adjPrice.pct_change() + 1).replace([np.inf, -np.inf], np.nan).fillna(0)\n",
    "db.insertDataToMongo(\"dailyadjclose_benchmark\",logReturns.reset_index())"
   ]
  },
  {
   "cell_type": "code",
   "execution_count": 7,
   "metadata": {
    "ExecuteTime": {
     "end_time": "2019-01-03T11:42:42.113543Z",
     "start_time": "2019-01-03T11:42:42.098907Z"
    },
    "hidden": true
   },
   "outputs": [],
   "source": [
    "adjPrice = adjPrice.stack().reset_index().rename(columns={'level_0':\"ASONDATE\",\"level_1\":\"BENCHMARK\",0:\"ADJPRICES\"})\n",
    "logReturns = logReturns.stack().reset_index().rename(columns={'level_0':\"ASONDATE\",\"level_1\":\"BENCHMARK\",0:\"LOGRETURNS\"})"
   ]
  },
  {
   "cell_type": "code",
   "execution_count": 20,
   "metadata": {
    "ExecuteTime": {
     "end_time": "2019-01-03T11:46:27.475467Z",
     "start_time": "2019-01-03T11:46:27.447824Z"
    },
    "hidden": true
   },
   "outputs": [],
   "source": [
    "dailyclreturns_benchmark = adjPrice.merge(logReturns,on=['ASONDATE','BENCHMARK'])\n",
    "dailyclreturns_benchmark = dailyclreturns_benchmark.set_index(['ASONDATE','BENCHMARK']).stack().reset_index().rename(columns={\"level_2\":\"OPERATION\",0:\"VALUE\"})"
   ]
  },
  {
   "cell_type": "code",
   "execution_count": 14,
   "metadata": {
    "ExecuteTime": {
     "end_time": "2019-01-03T11:45:53.592800Z",
     "start_time": "2019-01-03T11:45:53.588895Z"
    },
    "hidden": true
   },
   "outputs": [],
   "source": [
    "# db.insertDataToMongo(\"dailyclreturns_benchmark\",dailyclreturns_benchmark)"
   ]
  },
  {
   "cell_type": "code",
   "execution_count": 22,
   "metadata": {
    "ExecuteTime": {
     "end_time": "2019-01-03T11:46:38.776989Z",
     "start_time": "2019-01-03T11:46:38.740845Z"
    },
    "hidden": true
   },
   "outputs": [],
   "source": [
    "dailyclreturns_benchmark = dailyclreturns_benchmark.pivot_table(index='ASONDATE',columns=[\"OPERATION\",\"BENCHMARK\"])\n",
    "dailyclreturns_benchmark = dailyclreturns_benchmark.iloc[:, dailyclreturns_benchmark.columns.get_level_values(1)=='LOGRETURNS'].fillna(0)"
   ]
  },
  {
   "cell_type": "code",
   "execution_count": 24,
   "metadata": {
    "ExecuteTime": {
     "end_time": "2019-01-03T11:46:50.636211Z",
     "start_time": "2019-01-03T11:46:50.632310Z"
    },
    "hidden": true
   },
   "outputs": [],
   "source": [
    "dailyclreturns_benchmark.columns = dailyclreturns_benchmark.columns.droplevel(0)"
   ]
  },
  {
   "cell_type": "code",
   "execution_count": 25,
   "metadata": {
    "ExecuteTime": {
     "end_time": "2019-01-03T11:46:50.916285Z",
     "start_time": "2019-01-03T11:46:50.812866Z"
    },
    "hidden": true
   },
   "outputs": [],
   "source": [
    "groupReturns = cu.calcGroupReturns(\"2018-01-01\",dailyclreturns_benchmark,[\"LOGRETURNS\"])\n",
    "groupReturns['TYPE']=\"BENCHMARK\"\n",
    "groupReturns['ASONDATE']=\"2018-01-01\""
   ]
  },
  {
   "cell_type": "code",
   "execution_count": 13,
   "metadata": {
    "ExecuteTime": {
     "end_time": "2018-12-28T07:36:44.281358Z",
     "start_time": "2018-12-28T07:36:44.268354Z"
    },
    "hidden": true
   },
   "outputs": [],
   "source": [
    "db.insertDataToMongo(\"groupreturns\",groupReturns.reset_index(),\"2018-01-01\")"
   ]
  },
  {
   "cell_type": "code",
   "execution_count": 14,
   "metadata": {
    "ExecuteTime": {
     "end_time": "2018-12-28T07:36:44.312297Z",
     "start_time": "2018-12-28T07:36:44.284311Z"
    },
    "hidden": true
   },
   "outputs": [],
   "source": [
    "db.insertDataToOracle(\"groupreturns\",groupReturns.reset_index(),type=\"BENCHMARK\")"
   ]
  },
  {
   "cell_type": "code",
   "execution_count": 15,
   "metadata": {
    "ExecuteTime": {
     "end_time": "2018-12-28T07:38:47.376180Z",
     "start_time": "2018-12-28T07:38:46.464610Z"
    },
    "hidden": true
   },
   "outputs": [],
   "source": [
    "import pyfolio as pyf"
   ]
  },
  {
   "cell_type": "code",
   "execution_count": 16,
   "metadata": {
    "ExecuteTime": {
     "end_time": "2018-12-28T07:38:59.763835Z",
     "start_time": "2018-12-28T07:38:59.522482Z"
    },
    "hidden": true
   },
   "outputs": [
    {
     "name": "stderr",
     "output_type": "stream",
     "text": [
      "c:\\users\\mukesh\\appdata\\local\\programs\\python\\python37\\lib\\site-packages\\empyrical\\stats.py:704: RuntimeWarning: invalid value encountered in true_divide\n",
      "  out=out,\n",
      "c:\\users\\mukesh\\appdata\\local\\programs\\python\\python37\\lib\\site-packages\\empyrical\\stats.py:790: RuntimeWarning: invalid value encountered in true_divide\n",
      "  np.divide(average_annual_return, annualized_downside_risk, out=out)\n",
      "c:\\users\\mukesh\\appdata\\local\\programs\\python\\python37\\lib\\site-packages\\empyrical\\stats.py:1511: RuntimeWarning: invalid value encountered in double_scalars\n",
      "  np.abs(np.percentile(returns, 5))\n",
      "c:\\users\\mukesh\\appdata\\local\\programs\\python\\python37\\lib\\site-packages\\empyrical\\stats.py:438: RuntimeWarning: invalid value encountered in double_scalars\n",
      "  return ending_value ** (1 / num_years) - 1\n",
      "c:\\users\\mukesh\\appdata\\local\\programs\\python\\python37\\lib\\site-packages\\empyrical\\stats.py:1477: RuntimeWarning: invalid value encountered in log1p\n",
      "  cum_log_returns = np.log1p(returns).cumsum()\n",
      "c:\\users\\mukesh\\appdata\\local\\programs\\python\\python37\\lib\\site-packages\\scipy\\stats\\_distn_infrastructure.py:879: RuntimeWarning: invalid value encountered in greater\n",
      "  return (self.a < x) & (x < self.b)\n",
      "c:\\users\\mukesh\\appdata\\local\\programs\\python\\python37\\lib\\site-packages\\scipy\\stats\\_distn_infrastructure.py:879: RuntimeWarning: invalid value encountered in less\n",
      "  return (self.a < x) & (x < self.b)\n",
      "c:\\users\\mukesh\\appdata\\local\\programs\\python\\python37\\lib\\site-packages\\scipy\\stats\\_distn_infrastructure.py:1821: RuntimeWarning: invalid value encountered in less_equal\n",
      "  cond2 = cond0 & (x <= self.a)\n",
      "c:\\users\\mukesh\\appdata\\local\\programs\\python\\python37\\lib\\site-packages\\empyrical\\stats.py:790: RuntimeWarning: divide by zero encountered in true_divide\n",
      "  np.divide(average_annual_return, annualized_downside_risk, out=out)\n"
     ]
    }
   ],
   "source": [
    "dailyclreturns_benchmark.columns = dailyclreturns_benchmark.columns.droplevel(0)\n",
    "groupRatio = dailyclreturns_benchmark.apply(lambda x: pyf.timeseries.perf_stats(x))\n",
    "db.insertDataToMongo(\"groupratio_navport\",groupRatio)"
   ]
  },
  {
   "cell_type": "code",
   "execution_count": 10,
   "metadata": {
    "ExecuteTime": {
     "end_time": "2019-02-14T06:41:39.524510Z",
     "start_time": "2019-02-14T06:41:39.149366Z"
    },
    "hidden": true
   },
   "outputs": [],
   "source": [
    "prodReturns = pd.read_csv('../../portOptHrp/Src/excel/output/dailyPortfolioSumLogReturns_highRiskFund.csv',index_col=0)"
   ]
  },
  {
   "cell_type": "code",
   "execution_count": 43,
   "metadata": {
    "ExecuteTime": {
     "end_time": "2019-02-14T06:48:21.342542Z",
     "start_time": "2019-02-14T06:48:21.322985Z"
    },
    "hidden": true
   },
   "outputs": [],
   "source": [
    "productReturns = pd.DataFrame(data={\"porduct\":[-0.004979822193,0.001275256583,0.01383176591,0.07746582181,0.05906101205,-0.003181742739,0.02885775774,-0.08120523434,0.04087102417,-0.02687326544,0.07288368845,0.08670717845,-0.01159222877,0.002912457945,0.05658951675,0.0149660224,-0.004989044223,0.0006893647075,0.02905849937,0.008491429375,-0.02934357499,-0.04002572741,-0.001281249262,-0.04935673056,0.01359329498,0.02344041107,0.04355343997,-0.08714051769,0.03384320295,0.04103452427,-0.007387039452,-0.0172930426,0.04339208653,0.04077652753,-0.07865351525,-0.005151959926,0.03645489656,0.00447842627,-0.02230700527,-0.04931524434,-0.03739151465,-0.03511735081,0.0349702392,-0.03406412925,0.0289012775,-0.0003472385471,0.01729337415,-0.009082923693,0.07470847871,-0.01542076205,0.008880606183,0.04201089206,0.02264578604,0.03025288707,-0.01227748585,-0.009647773566,0.03115908559,0.009802569351,-0.002492689462,-0.08114934993,-0.03724929536,0.01940281607,-0.08668999554,-0.03978093191,-0.08662370484,0.09008311521,-0.05279816101,-0.07949629952,-0.002809374506,-0.004912427424,0.02842992977,-0.01648783155,0.001840830942,0.02784957091,-0.07075395388,0.04931538342,0.002268381619,-0.05114755193,0.07033023545,-0.01361690961,0.005185154956,0.03442684761,0.02438119255,0.06449327727,0.06325539243,0.01520716337,-0.01119110183,-0.008113205668,-0.01119676106,0.003428908699,-0.03582409655,0.01224427708,-0.01054095623,-0.007621829844,0.04749278291,0.06144832446,-0.0504075988,0.001169839682,-0.007566152084,0.007015182864,0.03706925748,0.03960564202,-0.06522159189,-0.01691642061,-0.01188501001,-0.02826237359,0.005179991855,0.06641205061,-0.0120718337,0.01731438349,-0.02966083609,0.05559247883,0.04278122783,-0.06625402584,-0.03960563277,0.04356297674,-0.05838304662,0.02715010953,0.06709484489,-0.003101580304,0.001142733199,0.02922653152,0.06370325365,0.04474310543,-0.03931777883,0.06471213711,0.05221565732,-0.01370176092,0.004458021271,-0.03707866344,0.01421340823,0.06084216447,0.09082983727,0.01623910534,0.02878564528,0.01304734671,-0.01292224081,-0.04594393103,0.03605184115,0.01698560542,0.01874044449,0.007788491834,0.05886778686,0.02947904228,0.01944611724,0.01918553674,-0.01556610831,-0.03616103577,-0.0156524447,0.02480917951,0.02763827084,0.009006525302,0.02562134266,0.04392968942,-0.006300565586,0.05586656455,0.02932524172,0.05085268218,-0.04662447708,-0.01219299449,0.002063640973,-0.00238513263,-0.07215177044,-0.06044942774,0.02052388516,0.01435489109,0.006799976308,-0.02444117772,-0.07799335184,-0.008231867042,0.004643919089,0.05070541296,0.05761242977,-0.07112900483,0.02147275407,0.04773975785,0.04000350242,0.01243301892,-0.03777412997,0.01111844076,0.0439120881,-0.02640963383,-0.04285038883,-0.02668902379,0.01217479967,-0.001146607807,0.05296016605,0.02281481299,0.01878080518,0.02171568329,-0.002453224841,0.08381349759,-0.01063114467,0.01827379932,-0.01000349414,0.02889363836,0.05958035205,0.007436555043,0.04323388451,0.07650255632,0.01831507277,-0.01997935412,0.02905902787,0.0675352249,0.08751358293,-0.06358120101,0.02525853697,-0.0344437316,-0.08566814535,0.0566598407,-0.08076648564,-0.006281389795,0.03821493163,-0.00642577315,0.04499567628,0.04996156709,-0.0227071335,0.01829524595,-0.004836869568,-0.03887257715,-0.0430863403,0.02169841859,0.004895671136,0.07164862309,-0.0142773742,0.005156360625,0.01073634586,-0.03153160946,0.04132385039,0.03663097169,-0.03289404966,0.01976625203,0.09594375469,0.00002694862035,-0.0684220404,-0.009094142423,-0.04012765252,-0.01115926844,-0.02478317016,0.08143572144,-0.07240421644,-0.01307405067,0.01137392691,0.006715203206,0.08721405633,-0.03946472112,0.005913891003,0.02717253614,0.07091106836,-0.08139440008,0.05429673409,0.05329995802,0.05651557579,-0.001701274827,-0.02136018915,-0.02135084435,-0.03744664046,-0.01537786074,0.04585283634,0.05331938265,0.0445852532,-0.04139091051,-0.00568025777,0.02321961499,-0.01954339025,0.008407151602,0.01619188622,0.01325363645,-0.01498882211,0.05982527381,0.03235561562,0.04929366363,-0.02681832198,0.0009771558233,0.02238441728,-0.05100578314,-0.0177680593,-0.03412034778,0.004559493888,-0.06652508164,-0.0334993839,-0.01859061834,-0.05096562056,-0.0152021218,0.0109147599,-0.05216079768,-0.006175323535,0.08269303677,0.08601923172,-0.03416587913,-0.009418277007,-0.01525034353,0.0240917539,-0.01272620773,-0.05094783546,-0.02400827718,-0.001798902076,-0.001488196518,0.07258930859,0.06072636801,0.01842317044,0.02674745757,-0.01334019609,0.04040392512,0.02589739681,0.01056065216,-0.00848406817,-0.007180460223,-0.01099577594,0.05714344768,-0.02744731391,-0.02434212473,0.01524388675,0.0008243705731,-0.05037896143,-0.02184396725,-0.002113602918,0.01341601095,-0.04162823568,0.06381928512,-0.07061900354,0.02246452646,0.01380299033,0.01095342649,-0.005782044027,0.06283467652,-0.009441642626,-0.005347939482,-0.07884216597,-0.05183298198,0.007035970238,0.02094138522,-0.005693981698,-0.04663506735,0.007036381959,0.001027320224,0.03748561808,0.01844261704,-0.05580306096,-0.05147603113,0.01101272766,-0.04612217723,-0.03249335363,0.01316824968,0.03662433799,-0.01926865704,0.03592911844,0.01140722265,-0.01799888636,0.01192246799,-0.02472412211,-0.06767675714,-0.03970446179,0.001676761718,0.06610745984,0.03437746606,0.006471333828,-0.02655328511,-0.04656942943,-0.03225735395,0.04873608664,-0.02491411579,-0.04234681827,-0.01945877304,-0.04719796864]})\n",
    "benchmark = pd.DataFrame(data={\"porduct\":[0.004673704088,0.05858316969,0.08963732198,0.006143464111,-0.04398271558,0.001227635682,0.02864699951,0.06388237523,0.01449000561,0.009963897,-0.04089233559,0.07998071702,0.02236579692,0.02964258916,0.001966676932,-0.03213636436,0.05197946307,0.0577373948,0.01660947189,-0.05962369152,-0.07838085707,-0.007255771167,0.04808833131,-0.04210852636,-0.07026223256,-0.01539600525,-0.04799180241,0.05314129291,0.008295216371,0.009375442661,0.05259752829,0.03095211949,-0.007754520885,0.02631967189,0.05359760993,-0.007332056984,-0.07134480323,0.03672710396,0.00481967762,-0.01564893796,0.002783517157,0.01607438045,-0.08453372593,0.01906681278,-0.05171992225,0.001533936535,0.008217236969,0.05557737901,-0.03945947793,0.02561860668,0.02553672067,0.0266268093,-0.0631813325,0.05428928492,-0.007836010765,0.03535043364,0.01027814612,0.03210639324,-0.06257160203,0.05756342538,-0.04447640656,-0.07373067048,-0.004387409892,0.06252975853,-0.007010586541,0.03880012023,0.03806095137,-0.06123200807,0.07088297571,-0.0551359704,0.02538258241,0.01226805031,-0.06237566836,-0.01078048153,0.0462711313,-0.007676611667,0.01624082387,0.01931565101,-0.0764812476,-0.06988771084,-0.0001571308367,0.007492691946,0.002740313832,-0.002816047705,0.02767018668,-0.06044133706,-0.03356317474,-0.06946468586,0.02845373465,-0.01798551664,0.03453822039,-0.06864813149,-0.03286172049,-0.01046782054,0.06529825689,-0.08462347496,-0.02556312508,-0.07957783572,0.008979813461,0.02467424756,-0.0296433408,0.04763069707,0.02741952828,0.06304890452,-0.005607926099,-0.0008649014645,0.01139871209,0.03558232613,0.0384801738,-0.03595458633,-0.08901584362,0.06035574111,-0.06010274736,-0.03811290627,0.03150965111,-0.02177330325,0.0003290776516,-0.002602256163,-0.002393247899,0.002740079981,-0.04215309274,0.08383187117,-0.06282926314,-0.02767660356,-0.05677068812,-0.04118114272,0.02609893778,-0.06390610214,-0.01605680275,-0.0558330543,-0.08369947867,0.01787374272,-0.01506723516,-0.008770821464,-0.03479108135,-0.04234587227,0.02849102237,0.07207692326,0.07405107085,0.01691442967,-0.03010157647,-0.07085773576,0.02904310836,-0.04092249088,-0.03987345428,-0.01114958772,0.002142288874,0.06124382928,0.07508182279,-0.0170855731,0.007677111478,0.05874594401,-0.01024843459,-0.007021771665,-0.06494855388,-0.03113654777,0.008144068546,-0.01646464999,-0.04098075571,-0.0586144662,-0.06487444517,-0.02544346068,0.0002178842742,0.01303379516,0.006143405706,0.03791697898,0.004807010707,-0.03470105276,0.003802162145,-0.06074164975,0.01227319823,-0.007065439655,0.02691367472,0.0008428184006,0.01577437275,-0.04118591975,0.05397345382,-0.03210980826,-0.01406802991,-0.01885451408,-0.07320434511,0.03307104721,-0.01187754228,-0.007447402064,-0.09814608058,-0.01648025244,0.004163854683,-0.01600025309,-0.07780753984,0.04559824147,0.01998695898,0.03243758032,-0.04241922235,-0.001059126114,-0.007259013361,-0.02391006923,-0.03961192465,-0.04096582963,-0.008424147459,0.04445548276,0.003063741308,-0.0001804140935,-0.05418197107,-0.005973720221,-0.03274028809,-0.04401541021,0.007438261182,-0.005012306131,0.03945897611,0.03045233415,0.002951892444,-0.05356935067,0.05672446338,0.06307057895,0.0379391051,-0.008958537545,0.04632319337,-0.02033244238,-0.0553003056,-0.02999382137,0.0166739644,0.02316643215,-0.0623859376,-0.03111036768,-0.01144603513,-0.02286315792,0.008630114111,0.007513438947,0.0006415220829,0.01713666168,-0.02973018338,0.05418303831,-0.01136249626,0.00352706974,0.01201426151,-0.04342452307,-0.0716635623,0.02012059278,-0.06318526479,0.01335682719,0.02774433413,0.05181981679,0.04317605797,0.07849661073,0.004074381857,0.06078205805,-0.0294925712,-0.03991605463,-0.07338245046,-0.0328351641,-0.006070114223,-0.0728177881,0.04873983209,0.01439179848,0.07099040031,0.063418883,-0.0009373459601,-0.02496523237,0.07326188483,0.06143336822,0.02756769549,0.03321536025,-0.03908889895,0.05256521975,-0.04907571166,0.09363463509,-0.03611590828,-0.07265657006,0.04828026758,0.03515297207,0.06183234303,-0.07563413315,-0.004327886811,-0.02040400489,0.009602131629,-0.01804348041,-0.02468211662,-0.06490554779,0.005992459511,0.0453110322,-0.02535254316,0.03934875817,0.013898985,-0.004556632281,-0.03207857824,-0.04100713662,-0.005617417205,-0.01055657957,-0.00835129729,0.0576673408,0.0706139098,-0.01199478892,0.0571415195,-0.0169259065,-0.03328408061,0.00284078807,0.05166465815,-0.03516563697,-0.02435341091,-0.05255276077,-0.09278451718,0.06225419088,-0.01689353331,-0.04105338009,0.03835073412,0.07396198989,-0.02484709875,-0.01793370667,-0.01573501564,-0.09451158441,-0.009227784666,-0.04370677635,0.03358479759,-0.005965614079,0.03641838962,-0.007807577695,0.003493715369,0.002197673464,-0.001861305539,-0.003866776026,-0.0360965867,0.03826589761,0.03665310728,0.02196150328,-0.04966522612,-0.0810245264,0.01602646605,0.06708274164,-0.002736550539,-0.07402969836,-0.02195047672,0.03008446354,0.007521557816,-0.05346990606,0.04122740084,-0.008104308092,0.04813944169,-0.02821329799,0.01294855973,-0.007752249782,-0.0152034626,-0.03280537778,-0.08819018762,-0.01792370157,0.05032005675,0.00527331709,-0.03173857173,-0.06295942233,0.03027240363,-0.0009955115937,-0.0699502897,0.001403047861,0.0127451994,-0.02690387605,0.01015237515,-0.01581336856,0.04316206623,0.03590715009,0.002139634327,-0.04040338739,-0.02408198965,0.03531417744,0.003735927216,-0.04019011545,-0.04187149979]})"
   ]
  },
  {
   "cell_type": "code",
   "execution_count": 47,
   "metadata": {
    "ExecuteTime": {
     "end_time": "2019-02-14T06:48:54.478949Z",
     "start_time": "2019-02-14T06:48:54.474068Z"
    },
    "hidden": true
   },
   "outputs": [
    {
     "data": {
      "text/plain": [
       "-0.038595763798033256"
      ]
     },
     "execution_count": 47,
     "metadata": {},
     "output_type": "execute_result"
    }
   ],
   "source": [
    "productReturns['porduct'].corr(benchmark['porduct'])"
   ]
  },
  {
   "cell_type": "code",
   "execution_count": 12,
   "metadata": {
    "ExecuteTime": {
     "end_time": "2019-02-14T06:41:47.228856Z",
     "start_time": "2019-02-14T06:41:47.223984Z"
    },
    "hidden": true
   },
   "outputs": [],
   "source": [
    "mar = 0.00370454\n",
    "\n",
    "def downsiderisk(row,mar):\n",
    "    returns = row.values[0]\n",
    "    if returns < mar:\n",
    "        dr = (returns - mar) * (returns - mar)\n",
    "    else:\n",
    "        dr = 0\n",
    "    return dr\n",
    "\n",
    "date = \"2019-01-23\""
   ]
  },
  {
   "cell_type": "code",
   "execution_count": 73,
   "metadata": {
    "ExecuteTime": {
     "end_time": "2019-02-15T06:13:46.408008Z",
     "start_time": "2019-02-15T06:13:46.404109Z"
    },
    "hidden": true
   },
   "outputs": [
    {
     "name": "stdout",
     "output_type": "stream",
     "text": [
      "2019-02-19\n"
     ]
    }
   ],
   "source": [
    "import datetime\n",
    "from dateutil.relativedelta import relativedelta\n",
    "s = '2020-02-20'\n",
    "dt = datetime.datetime.strptime(s, '%Y-%m-%d')\n",
    "d = dt.replace(year=dt.year-1, day=dt.day-1) \n",
    "# d = datetime.datetime.strptime(s, '%Y-%m-%d') - datetime.timedelta(days=366)\n",
    "d = d.strftime('%Y-%m-%d')\n",
    "print(d)"
   ]
  },
  {
   "cell_type": "code",
   "execution_count": 20,
   "metadata": {
    "ExecuteTime": {
     "end_time": "2019-02-14T06:42:48.098897Z",
     "start_time": "2019-02-14T06:42:48.095971Z"
    },
    "hidden": true
   },
   "outputs": [],
   "source": [
    "prodReturns = prodReturns.loc[d:s]"
   ]
  },
  {
   "cell_type": "code",
   "execution_count": null,
   "metadata": {
    "ExecuteTime": {
     "end_time": "2019-02-14T07:16:45.167181Z",
     "start_time": "2019-02-14T07:16:45.095687Z"
    },
    "hidden": true
   },
   "outputs": [],
   "source": [
    "benchmark = db.getDataFromMongo(\"dailyadjclose_benchmark\")"
   ]
  },
  {
   "cell_type": "code",
   "execution_count": 129,
   "metadata": {
    "ExecuteTime": {
     "end_time": "2019-02-14T08:19:44.427347Z",
     "start_time": "2019-02-14T08:19:44.423446Z"
    },
    "hidden": true
   },
   "outputs": [],
   "source": [
    "prodReturns.index = pd.to_datetime(prodReturns.index)"
   ]
  },
  {
   "cell_type": "code",
   "execution_count": 134,
   "metadata": {
    "ExecuteTime": {
     "end_time": "2019-02-14T08:20:35.052979Z",
     "start_time": "2019-02-14T08:20:35.044195Z"
    },
    "hidden": true
   },
   "outputs": [
    {
     "data": {
      "text/plain": [
       "0.02120298307423707"
      ]
     },
     "execution_count": 134,
     "metadata": {},
     "output_type": "execute_result"
    }
   ],
   "source": [
    "(np.exp(prodReturns.resample(\"1Y\").sum()) - 1).iloc[-1][0]"
   ]
  },
  {
   "cell_type": "code",
   "execution_count": 82,
   "metadata": {
    "ExecuteTime": {
     "end_time": "2019-02-14T07:16:45.253785Z",
     "start_time": "2019-02-14T07:16:45.249915Z"
    },
    "hidden": true
   },
   "outputs": [],
   "source": [
    "benchmark = benchmark[\"CEMENT\"]"
   ]
  },
  {
   "cell_type": "code",
   "execution_count": 83,
   "metadata": {
    "ExecuteTime": {
     "end_time": "2019-02-14T07:16:46.333346Z",
     "start_time": "2019-02-14T07:16:46.327484Z"
    },
    "hidden": true
   },
   "outputs": [],
   "source": [
    "benchmark = benchmark.loc[d:s]"
   ]
  },
  {
   "cell_type": "code",
   "execution_count": 116,
   "metadata": {
    "ExecuteTime": {
     "end_time": "2019-02-14T07:23:48.368679Z",
     "start_time": "2019-02-14T07:23:48.363800Z"
    },
    "hidden": true
   },
   "outputs": [],
   "source": [
    "returns = prodReturns.merge(pd.DataFrame(benchmark),left_index=True,right_index=True,how=\"left\").fillna(method=\"ffill\")"
   ]
  },
  {
   "cell_type": "code",
   "execution_count": 121,
   "metadata": {
    "ExecuteTime": {
     "end_time": "2019-02-14T07:24:30.617964Z",
     "start_time": "2019-02-14T07:24:30.613084Z"
    },
    "hidden": true
   },
   "outputs": [
    {
     "data": {
      "text/plain": [
       "nan"
      ]
     },
     "execution_count": 121,
     "metadata": {},
     "output_type": "execute_result"
    }
   ],
   "source": [
    "returns[\"highRiskFund\"].corr(returns[\"CEMENT\"])"
   ]
  },
  {
   "cell_type": "code",
   "execution_count": 95,
   "metadata": {
    "ExecuteTime": {
     "end_time": "2019-02-14T07:20:23.763424Z",
     "start_time": "2019-02-14T07:20:23.756551Z"
    },
    "hidden": true
   },
   "outputs": [
    {
     "data": {
      "text/plain": [
       "nan"
      ]
     },
     "execution_count": 95,
     "metadata": {},
     "output_type": "execute_result"
    }
   ],
   "source": [
    "prodReturns['highRiskFund'].corr((benchmark))"
   ]
  },
  {
   "cell_type": "code",
   "execution_count": 52,
   "metadata": {
    "ExecuteTime": {
     "end_time": "2019-02-14T06:54:21.616292Z",
     "start_time": "2019-02-14T06:54:21.611437Z"
    },
    "hidden": true
   },
   "outputs": [
    {
     "data": {
      "text/plain": [
       "0.001720625339461907"
      ]
     },
     "execution_count": 52,
     "metadata": {},
     "output_type": "execute_result"
    }
   ],
   "source": [
    "benchmark.var()[0]"
   ]
  },
  {
   "cell_type": "code",
   "execution_count": 42,
   "metadata": {
    "ExecuteTime": {
     "end_time": "2019-02-14T06:46:17.577525Z",
     "start_time": "2019-02-14T06:46:17.570724Z"
    },
    "hidden": true
   },
   "outputs": [
    {
     "data": {
      "text/plain": [
       "nan"
      ]
     },
     "execution_count": 42,
     "metadata": {},
     "output_type": "execute_result"
    }
   ],
   "source": [
    "prodReturns['highRiskFund'].corr(benchmark)"
   ]
  },
  {
   "cell_type": "code",
   "execution_count": 30,
   "metadata": {
    "ExecuteTime": {
     "end_time": "2019-02-14T06:44:19.303557Z",
     "start_time": "2019-02-14T06:44:19.289842Z"
    },
    "hidden": true
   },
   "outputs": [
    {
     "data": {
      "text/html": [
       "<div>\n",
       "<style scoped>\n",
       "    .dataframe tbody tr th:only-of-type {\n",
       "        vertical-align: middle;\n",
       "    }\n",
       "\n",
       "    .dataframe tbody tr th {\n",
       "        vertical-align: top;\n",
       "    }\n",
       "\n",
       "    .dataframe thead th {\n",
       "        text-align: right;\n",
       "    }\n",
       "</style>\n",
       "<table border=\"1\" class=\"dataframe\">\n",
       "  <thead>\n",
       "    <tr style=\"text-align: right;\">\n",
       "      <th></th>\n",
       "      <th>highRiskFund</th>\n",
       "      <th>CRED</th>\n",
       "    </tr>\n",
       "  </thead>\n",
       "  <tbody>\n",
       "    <tr>\n",
       "      <th>highRiskFund</th>\n",
       "      <td>1.0</td>\n",
       "      <td>NaN</td>\n",
       "    </tr>\n",
       "    <tr>\n",
       "      <th>CRED</th>\n",
       "      <td>NaN</td>\n",
       "      <td>NaN</td>\n",
       "    </tr>\n",
       "  </tbody>\n",
       "</table>\n",
       "</div>"
      ],
      "text/plain": [
       "              highRiskFund  CRED\n",
       "highRiskFund           1.0   NaN\n",
       "CRED                   NaN   NaN"
      ]
     },
     "execution_count": 30,
     "metadata": {},
     "output_type": "execute_result"
    }
   ],
   "source": [
    "prodReturns.merge(pd.DataFrame(benchmark),left_index=True,right_index=True,how=\"left\").corr()"
   ]
  },
  {
   "cell_type": "code",
   "execution_count": 74,
   "metadata": {
    "ExecuteTime": {
     "end_time": "2019-02-14T05:56:01.768750Z",
     "start_time": "2019-02-14T05:56:01.763878Z"
    },
    "hidden": true,
    "scrolled": true
   },
   "outputs": [
    {
     "data": {
      "text/plain": [
       "0.010390487604274998"
      ]
     },
     "execution_count": 74,
     "metadata": {},
     "output_type": "execute_result"
    }
   ],
   "source": [
    "prodReturns.std()[0]"
   ]
  },
  {
   "cell_type": "code",
   "execution_count": null,
   "metadata": {
    "ExecuteTime": {
     "end_time": "2019-02-14T05:34:11.746714Z",
     "start_time": "2019-02-14T05:34:11.738872Z"
    },
    "hidden": true
   },
   "outputs": [],
   "source": [
    "np.sqrt(productReturns.apply(downsiderisk, args=([mar]),axis=1).mean())"
   ]
  },
  {
   "cell_type": "code",
   "execution_count": 81,
   "metadata": {
    "ExecuteTime": {
     "end_time": "2019-02-15T06:52:04.655808Z",
     "start_time": "2019-02-15T06:52:04.242044Z"
    },
    "hidden": true
   },
   "outputs": [],
   "source": [
    "import jsonschema"
   ]
  },
  {
   "cell_type": "code",
   "execution_count": 193,
   "metadata": {
    "ExecuteTime": {
     "end_time": "2019-02-15T09:07:06.805969Z",
     "start_time": "2019-02-15T09:07:06.790396Z"
    },
    "hidden": true
   },
   "outputs": [],
   "source": [
    "prodDet =  {\n",
    "        \"event\":\"createProduct\",\n",
    "        \"data\":{\n",
    "            \"asondate\": \"2019-01-23\",\n",
    "            \"method\":\"hrp\",\n",
    "            \"riskmodels\":\"semicovariance\",\n",
    "            \"securities\":[\"HDB\",\"AXISBANK.NS\",\"IBN\",\"FEDERALBNK.NS\",\"SBIN.NS\",\"VIJAYABANK.NS\"],\n",
    "            \"productname\":\"highRiskFund\",\n",
    "            \"description\":\"\",\n",
    "            \"benchmark\":\"CRED\",\n",
    "            \"mar\":0.00370454,\n",
    "            \"riskfreerate\":0.05,\n",
    "            \"classification\":\"\",\n",
    "            \"objective\":\"\",\n",
    "            \"launchdate\":\"2019-01-20\",\n",
    "            \"watching\":\"\",\n",
    "            \"invested\":\"\",\n",
    "            \"rating\":\"\",\n",
    "            \"riskprofile\":[],\n",
    "            \"stylefactors\":\"\",\n",
    "            \"size\":\"\",\n",
    "            \"sector\":\"\",\n",
    "            \"allocation\":\"\",\n",
    "            \"scenerios\":[\n",
    "                {\n",
    "                    \"name\":\"Scene1\",\n",
    "                    \"fdate\" : \"2016-01-01\",\n",
    "                    \"tdate\" : \"2017-01-01\"\n",
    "                },\n",
    "                {\n",
    "                    \"name\":\"Scene2\",\n",
    "                    \"fdate\" : \"2015-01-01\",\n",
    "                    \"tdate\" : \"2016-01-01\"\n",
    "                }\n",
    "            ],\n",
    "            \"constraints\":[]\n",
    "        }\n",
    "    }"
   ]
  },
  {
   "cell_type": "code",
   "execution_count": 196,
   "metadata": {
    "ExecuteTime": {
     "end_time": "2019-02-15T09:08:51.325062Z",
     "start_time": "2019-02-15T09:08:51.321209Z"
    },
    "hidden": true
   },
   "outputs": [],
   "source": [
    "jsonschema.validate(prodDet,schema)"
   ]
  },
  {
   "cell_type": "code",
   "execution_count": 195,
   "metadata": {
    "ExecuteTime": {
     "end_time": "2019-02-15T09:08:50.519180Z",
     "start_time": "2019-02-15T09:08:50.503525Z"
    },
    "hidden": true
   },
   "outputs": [],
   "source": [
    "schema = {\n",
    "    \"type\":\"object\",\n",
    "    \"properties\":{\n",
    "        \"event\":{\"type\":\"string\"},\n",
    "        \"data\":{\n",
    "            \"type\":\"object\",\n",
    "            \"properties\":{\n",
    "                \"asondate\":{\"type\":\"string\"},\n",
    "                \"method\":{\n",
    "                    \"type\":\"string\",\n",
    "                    \"pattern\":\"\\\\b(ef|hrp)\\\\b\"\n",
    "                },\n",
    "                \"riskmodels\":{\"type\":\"string\"},\n",
    "                \"securities\":{\n",
    "                    \"type\": \"array\",\n",
    "                    \"items\": {\n",
    "                        \"type\": \"string\"\n",
    "                    },\n",
    "                    \"minItems\": 1,\n",
    "                    \"uniqueItems\": True\n",
    "                },\n",
    "                \"productname\":{\"type\":\"string\"},\n",
    "                \"benchmark\":{\"type\":\"string\"},\n",
    "                \"mar\":{\n",
    "                    \"type\":\"number\",\n",
    "                    \"minimum\": 0\n",
    "                },\n",
    "                \"riskfreerate\":{\n",
    "                    \"type\":\"number\",\n",
    "                    \"minimum\": 0\n",
    "                },\n",
    "                \"launchdate\":{\"type\":\"string\"},\n",
    "                \"scenerios\":{\n",
    "                    \"type\":\"array\",\n",
    "                    \"items\":{\n",
    "                        \"type\":\"object\",\n",
    "                        \"properties\":{\n",
    "                            \"name\":{\"type\":\"string\"},\n",
    "                            \"fdate\" : {\"type\":\"string\"},\n",
    "                            \"tdate\" : {\"type\":\"string\"}\n",
    "                        }\n",
    "                    }\n",
    "                }\n",
    "            },\n",
    "            \"required\":[\"asondate\",\"method\",\"riskmodels\",\"securities\",\"productname\",\"benchmark\",\"mar\",\"riskfreerate\",\"launchdate\"]\n",
    "        }\n",
    "    },\n",
    "    \"required\":[\"event\",\"data\"]\n",
    "    \n",
    "}"
   ]
  },
  {
   "cell_type": "code",
   "execution_count": 165,
   "metadata": {
    "ExecuteTime": {
     "end_time": "2019-02-15T08:47:59.795354Z",
     "start_time": "2019-02-15T08:47:59.592377Z"
    },
    "hidden": true
   },
   "outputs": [],
   "source": [
    "daily = pd.read_csv('../../portOptHrp/Src/excel/output/portSecDailyLog_highRiskFund.csv',index_col=0,parse_dates=True)"
   ]
  },
  {
   "cell_type": "code",
   "execution_count": 168,
   "metadata": {
    "ExecuteTime": {
     "end_time": "2019-02-15T08:48:19.180036Z",
     "start_time": "2019-02-15T08:48:19.158527Z"
    },
    "hidden": true
   },
   "outputs": [
    {
     "data": {
      "text/html": [
       "<div>\n",
       "<style scoped>\n",
       "    .dataframe tbody tr th:only-of-type {\n",
       "        vertical-align: middle;\n",
       "    }\n",
       "\n",
       "    .dataframe tbody tr th {\n",
       "        vertical-align: top;\n",
       "    }\n",
       "\n",
       "    .dataframe thead th {\n",
       "        text-align: right;\n",
       "    }\n",
       "</style>\n",
       "<table border=\"1\" class=\"dataframe\">\n",
       "  <thead>\n",
       "    <tr style=\"text-align: right;\">\n",
       "      <th></th>\n",
       "      <th>Date</th>\n",
       "      <th>level_1</th>\n",
       "      <th>0</th>\n",
       "    </tr>\n",
       "  </thead>\n",
       "  <tbody>\n",
       "    <tr>\n",
       "      <th>0</th>\n",
       "      <td>2015-01-01</td>\n",
       "      <td>HDB</td>\n",
       "      <td>0.000000</td>\n",
       "    </tr>\n",
       "    <tr>\n",
       "      <th>1</th>\n",
       "      <td>2015-01-01</td>\n",
       "      <td>AXISBANK.NS</td>\n",
       "      <td>0.000000</td>\n",
       "    </tr>\n",
       "    <tr>\n",
       "      <th>2</th>\n",
       "      <td>2015-01-01</td>\n",
       "      <td>IBN</td>\n",
       "      <td>0.000000</td>\n",
       "    </tr>\n",
       "    <tr>\n",
       "      <th>3</th>\n",
       "      <td>2015-01-01</td>\n",
       "      <td>FEDERALBNK.NS</td>\n",
       "      <td>0.000000</td>\n",
       "    </tr>\n",
       "    <tr>\n",
       "      <th>4</th>\n",
       "      <td>2015-01-01</td>\n",
       "      <td>SBIN.NS</td>\n",
       "      <td>0.000000</td>\n",
       "    </tr>\n",
       "    <tr>\n",
       "      <th>5</th>\n",
       "      <td>2015-01-01</td>\n",
       "      <td>VIJAYABANK.NS</td>\n",
       "      <td>0.000000</td>\n",
       "    </tr>\n",
       "    <tr>\n",
       "      <th>6</th>\n",
       "      <td>2015-01-01</td>\n",
       "      <td>highRiskFund</td>\n",
       "      <td>0.000000</td>\n",
       "    </tr>\n",
       "    <tr>\n",
       "      <th>7</th>\n",
       "      <td>2015-01-02</td>\n",
       "      <td>HDB</td>\n",
       "      <td>0.000000</td>\n",
       "    </tr>\n",
       "    <tr>\n",
       "      <th>8</th>\n",
       "      <td>2015-01-02</td>\n",
       "      <td>AXISBANK.NS</td>\n",
       "      <td>0.013679</td>\n",
       "    </tr>\n",
       "    <tr>\n",
       "      <th>9</th>\n",
       "      <td>2015-01-02</td>\n",
       "      <td>IBN</td>\n",
       "      <td>0.000000</td>\n",
       "    </tr>\n",
       "    <tr>\n",
       "      <th>10</th>\n",
       "      <td>2015-01-02</td>\n",
       "      <td>FEDERALBNK.NS</td>\n",
       "      <td>-0.002819</td>\n",
       "    </tr>\n",
       "    <tr>\n",
       "      <th>11</th>\n",
       "      <td>2015-01-02</td>\n",
       "      <td>SBIN.NS</td>\n",
       "      <td>0.000000</td>\n",
       "    </tr>\n",
       "    <tr>\n",
       "      <th>12</th>\n",
       "      <td>2015-01-02</td>\n",
       "      <td>VIJAYABANK.NS</td>\n",
       "      <td>0.000000</td>\n",
       "    </tr>\n",
       "    <tr>\n",
       "      <th>13</th>\n",
       "      <td>2015-01-02</td>\n",
       "      <td>highRiskFund</td>\n",
       "      <td>0.010898</td>\n",
       "    </tr>\n",
       "    <tr>\n",
       "      <th>14</th>\n",
       "      <td>2015-01-03</td>\n",
       "      <td>HDB</td>\n",
       "      <td>0.000000</td>\n",
       "    </tr>\n",
       "    <tr>\n",
       "      <th>15</th>\n",
       "      <td>2015-01-03</td>\n",
       "      <td>AXISBANK.NS</td>\n",
       "      <td>0.000000</td>\n",
       "    </tr>\n",
       "    <tr>\n",
       "      <th>16</th>\n",
       "      <td>2015-01-03</td>\n",
       "      <td>IBN</td>\n",
       "      <td>0.000000</td>\n",
       "    </tr>\n",
       "    <tr>\n",
       "      <th>17</th>\n",
       "      <td>2015-01-03</td>\n",
       "      <td>FEDERALBNK.NS</td>\n",
       "      <td>0.000000</td>\n",
       "    </tr>\n",
       "    <tr>\n",
       "      <th>18</th>\n",
       "      <td>2015-01-03</td>\n",
       "      <td>SBIN.NS</td>\n",
       "      <td>0.000000</td>\n",
       "    </tr>\n",
       "    <tr>\n",
       "      <th>19</th>\n",
       "      <td>2015-01-03</td>\n",
       "      <td>VIJAYABANK.NS</td>\n",
       "      <td>0.000000</td>\n",
       "    </tr>\n",
       "    <tr>\n",
       "      <th>20</th>\n",
       "      <td>2015-01-03</td>\n",
       "      <td>highRiskFund</td>\n",
       "      <td>0.000000</td>\n",
       "    </tr>\n",
       "    <tr>\n",
       "      <th>21</th>\n",
       "      <td>2015-01-04</td>\n",
       "      <td>HDB</td>\n",
       "      <td>0.000000</td>\n",
       "    </tr>\n",
       "    <tr>\n",
       "      <th>22</th>\n",
       "      <td>2015-01-04</td>\n",
       "      <td>AXISBANK.NS</td>\n",
       "      <td>0.000000</td>\n",
       "    </tr>\n",
       "    <tr>\n",
       "      <th>23</th>\n",
       "      <td>2015-01-04</td>\n",
       "      <td>IBN</td>\n",
       "      <td>0.000000</td>\n",
       "    </tr>\n",
       "    <tr>\n",
       "      <th>24</th>\n",
       "      <td>2015-01-04</td>\n",
       "      <td>FEDERALBNK.NS</td>\n",
       "      <td>0.000000</td>\n",
       "    </tr>\n",
       "    <tr>\n",
       "      <th>25</th>\n",
       "      <td>2015-01-04</td>\n",
       "      <td>SBIN.NS</td>\n",
       "      <td>0.000000</td>\n",
       "    </tr>\n",
       "    <tr>\n",
       "      <th>26</th>\n",
       "      <td>2015-01-04</td>\n",
       "      <td>VIJAYABANK.NS</td>\n",
       "      <td>0.000000</td>\n",
       "    </tr>\n",
       "    <tr>\n",
       "      <th>27</th>\n",
       "      <td>2015-01-04</td>\n",
       "      <td>highRiskFund</td>\n",
       "      <td>0.000000</td>\n",
       "    </tr>\n",
       "    <tr>\n",
       "      <th>28</th>\n",
       "      <td>2015-01-05</td>\n",
       "      <td>HDB</td>\n",
       "      <td>0.000000</td>\n",
       "    </tr>\n",
       "    <tr>\n",
       "      <th>29</th>\n",
       "      <td>2015-01-05</td>\n",
       "      <td>AXISBANK.NS</td>\n",
       "      <td>0.003884</td>\n",
       "    </tr>\n",
       "    <tr>\n",
       "      <th>...</th>\n",
       "      <td>...</td>\n",
       "      <td>...</td>\n",
       "      <td>...</td>\n",
       "    </tr>\n",
       "    <tr>\n",
       "      <th>10358</th>\n",
       "      <td>2019-01-19</td>\n",
       "      <td>VIJAYABANK.NS</td>\n",
       "      <td>0.000000</td>\n",
       "    </tr>\n",
       "    <tr>\n",
       "      <th>10359</th>\n",
       "      <td>2019-01-19</td>\n",
       "      <td>highRiskFund</td>\n",
       "      <td>0.000000</td>\n",
       "    </tr>\n",
       "    <tr>\n",
       "      <th>10360</th>\n",
       "      <td>2019-01-20</td>\n",
       "      <td>HDB</td>\n",
       "      <td>0.000000</td>\n",
       "    </tr>\n",
       "    <tr>\n",
       "      <th>10361</th>\n",
       "      <td>2019-01-20</td>\n",
       "      <td>AXISBANK.NS</td>\n",
       "      <td>0.000000</td>\n",
       "    </tr>\n",
       "    <tr>\n",
       "      <th>10362</th>\n",
       "      <td>2019-01-20</td>\n",
       "      <td>IBN</td>\n",
       "      <td>0.000000</td>\n",
       "    </tr>\n",
       "    <tr>\n",
       "      <th>10363</th>\n",
       "      <td>2019-01-20</td>\n",
       "      <td>FEDERALBNK.NS</td>\n",
       "      <td>0.000000</td>\n",
       "    </tr>\n",
       "    <tr>\n",
       "      <th>10364</th>\n",
       "      <td>2019-01-20</td>\n",
       "      <td>SBIN.NS</td>\n",
       "      <td>0.000000</td>\n",
       "    </tr>\n",
       "    <tr>\n",
       "      <th>10365</th>\n",
       "      <td>2019-01-20</td>\n",
       "      <td>VIJAYABANK.NS</td>\n",
       "      <td>0.000000</td>\n",
       "    </tr>\n",
       "    <tr>\n",
       "      <th>10366</th>\n",
       "      <td>2019-01-20</td>\n",
       "      <td>highRiskFund</td>\n",
       "      <td>0.000000</td>\n",
       "    </tr>\n",
       "    <tr>\n",
       "      <th>10367</th>\n",
       "      <td>2019-01-21</td>\n",
       "      <td>HDB</td>\n",
       "      <td>0.000000</td>\n",
       "    </tr>\n",
       "    <tr>\n",
       "      <th>10368</th>\n",
       "      <td>2019-01-21</td>\n",
       "      <td>AXISBANK.NS</td>\n",
       "      <td>-0.003993</td>\n",
       "    </tr>\n",
       "    <tr>\n",
       "      <th>10369</th>\n",
       "      <td>2019-01-21</td>\n",
       "      <td>IBN</td>\n",
       "      <td>0.000000</td>\n",
       "    </tr>\n",
       "    <tr>\n",
       "      <th>10370</th>\n",
       "      <td>2019-01-21</td>\n",
       "      <td>FEDERALBNK.NS</td>\n",
       "      <td>-0.005564</td>\n",
       "    </tr>\n",
       "    <tr>\n",
       "      <th>10371</th>\n",
       "      <td>2019-01-21</td>\n",
       "      <td>SBIN.NS</td>\n",
       "      <td>0.000000</td>\n",
       "    </tr>\n",
       "    <tr>\n",
       "      <th>10372</th>\n",
       "      <td>2019-01-21</td>\n",
       "      <td>VIJAYABANK.NS</td>\n",
       "      <td>0.000000</td>\n",
       "    </tr>\n",
       "    <tr>\n",
       "      <th>10373</th>\n",
       "      <td>2019-01-21</td>\n",
       "      <td>highRiskFund</td>\n",
       "      <td>-0.009579</td>\n",
       "    </tr>\n",
       "    <tr>\n",
       "      <th>10374</th>\n",
       "      <td>2019-01-22</td>\n",
       "      <td>HDB</td>\n",
       "      <td>0.000000</td>\n",
       "    </tr>\n",
       "    <tr>\n",
       "      <th>10375</th>\n",
       "      <td>2019-01-22</td>\n",
       "      <td>AXISBANK.NS</td>\n",
       "      <td>0.001212</td>\n",
       "    </tr>\n",
       "    <tr>\n",
       "      <th>10376</th>\n",
       "      <td>2019-01-22</td>\n",
       "      <td>IBN</td>\n",
       "      <td>0.000000</td>\n",
       "    </tr>\n",
       "    <tr>\n",
       "      <th>10377</th>\n",
       "      <td>2019-01-22</td>\n",
       "      <td>FEDERALBNK.NS</td>\n",
       "      <td>0.003459</td>\n",
       "    </tr>\n",
       "    <tr>\n",
       "      <th>10378</th>\n",
       "      <td>2019-01-22</td>\n",
       "      <td>SBIN.NS</td>\n",
       "      <td>0.000000</td>\n",
       "    </tr>\n",
       "    <tr>\n",
       "      <th>10379</th>\n",
       "      <td>2019-01-22</td>\n",
       "      <td>VIJAYABANK.NS</td>\n",
       "      <td>0.000000</td>\n",
       "    </tr>\n",
       "    <tr>\n",
       "      <th>10380</th>\n",
       "      <td>2019-01-22</td>\n",
       "      <td>highRiskFund</td>\n",
       "      <td>0.004666</td>\n",
       "    </tr>\n",
       "    <tr>\n",
       "      <th>10381</th>\n",
       "      <td>2019-01-23</td>\n",
       "      <td>HDB</td>\n",
       "      <td>0.000000</td>\n",
       "    </tr>\n",
       "    <tr>\n",
       "      <th>10382</th>\n",
       "      <td>2019-01-23</td>\n",
       "      <td>AXISBANK.NS</td>\n",
       "      <td>0.000000</td>\n",
       "    </tr>\n",
       "    <tr>\n",
       "      <th>10383</th>\n",
       "      <td>2019-01-23</td>\n",
       "      <td>IBN</td>\n",
       "      <td>0.000000</td>\n",
       "    </tr>\n",
       "    <tr>\n",
       "      <th>10384</th>\n",
       "      <td>2019-01-23</td>\n",
       "      <td>FEDERALBNK.NS</td>\n",
       "      <td>-0.004301</td>\n",
       "    </tr>\n",
       "    <tr>\n",
       "      <th>10385</th>\n",
       "      <td>2019-01-23</td>\n",
       "      <td>SBIN.NS</td>\n",
       "      <td>0.000000</td>\n",
       "    </tr>\n",
       "    <tr>\n",
       "      <th>10386</th>\n",
       "      <td>2019-01-23</td>\n",
       "      <td>VIJAYABANK.NS</td>\n",
       "      <td>0.000000</td>\n",
       "    </tr>\n",
       "    <tr>\n",
       "      <th>10387</th>\n",
       "      <td>2019-01-23</td>\n",
       "      <td>highRiskFund</td>\n",
       "      <td>-0.004301</td>\n",
       "    </tr>\n",
       "  </tbody>\n",
       "</table>\n",
       "<p>10388 rows × 3 columns</p>\n",
       "</div>"
      ],
      "text/plain": [
       "            Date        level_1         0\n",
       "0     2015-01-01            HDB  0.000000\n",
       "1     2015-01-01    AXISBANK.NS  0.000000\n",
       "2     2015-01-01            IBN  0.000000\n",
       "3     2015-01-01  FEDERALBNK.NS  0.000000\n",
       "4     2015-01-01        SBIN.NS  0.000000\n",
       "5     2015-01-01  VIJAYABANK.NS  0.000000\n",
       "6     2015-01-01   highRiskFund  0.000000\n",
       "7     2015-01-02            HDB  0.000000\n",
       "8     2015-01-02    AXISBANK.NS  0.013679\n",
       "9     2015-01-02            IBN  0.000000\n",
       "10    2015-01-02  FEDERALBNK.NS -0.002819\n",
       "11    2015-01-02        SBIN.NS  0.000000\n",
       "12    2015-01-02  VIJAYABANK.NS  0.000000\n",
       "13    2015-01-02   highRiskFund  0.010898\n",
       "14    2015-01-03            HDB  0.000000\n",
       "15    2015-01-03    AXISBANK.NS  0.000000\n",
       "16    2015-01-03            IBN  0.000000\n",
       "17    2015-01-03  FEDERALBNK.NS  0.000000\n",
       "18    2015-01-03        SBIN.NS  0.000000\n",
       "19    2015-01-03  VIJAYABANK.NS  0.000000\n",
       "20    2015-01-03   highRiskFund  0.000000\n",
       "21    2015-01-04            HDB  0.000000\n",
       "22    2015-01-04    AXISBANK.NS  0.000000\n",
       "23    2015-01-04            IBN  0.000000\n",
       "24    2015-01-04  FEDERALBNK.NS  0.000000\n",
       "25    2015-01-04        SBIN.NS  0.000000\n",
       "26    2015-01-04  VIJAYABANK.NS  0.000000\n",
       "27    2015-01-04   highRiskFund  0.000000\n",
       "28    2015-01-05            HDB  0.000000\n",
       "29    2015-01-05    AXISBANK.NS  0.003884\n",
       "...          ...            ...       ...\n",
       "10358 2019-01-19  VIJAYABANK.NS  0.000000\n",
       "10359 2019-01-19   highRiskFund  0.000000\n",
       "10360 2019-01-20            HDB  0.000000\n",
       "10361 2019-01-20    AXISBANK.NS  0.000000\n",
       "10362 2019-01-20            IBN  0.000000\n",
       "10363 2019-01-20  FEDERALBNK.NS  0.000000\n",
       "10364 2019-01-20        SBIN.NS  0.000000\n",
       "10365 2019-01-20  VIJAYABANK.NS  0.000000\n",
       "10366 2019-01-20   highRiskFund  0.000000\n",
       "10367 2019-01-21            HDB  0.000000\n",
       "10368 2019-01-21    AXISBANK.NS -0.003993\n",
       "10369 2019-01-21            IBN  0.000000\n",
       "10370 2019-01-21  FEDERALBNK.NS -0.005564\n",
       "10371 2019-01-21        SBIN.NS  0.000000\n",
       "10372 2019-01-21  VIJAYABANK.NS  0.000000\n",
       "10373 2019-01-21   highRiskFund -0.009579\n",
       "10374 2019-01-22            HDB  0.000000\n",
       "10375 2019-01-22    AXISBANK.NS  0.001212\n",
       "10376 2019-01-22            IBN  0.000000\n",
       "10377 2019-01-22  FEDERALBNK.NS  0.003459\n",
       "10378 2019-01-22        SBIN.NS  0.000000\n",
       "10379 2019-01-22  VIJAYABANK.NS  0.000000\n",
       "10380 2019-01-22   highRiskFund  0.004666\n",
       "10381 2019-01-23            HDB  0.000000\n",
       "10382 2019-01-23    AXISBANK.NS  0.000000\n",
       "10383 2019-01-23            IBN  0.000000\n",
       "10384 2019-01-23  FEDERALBNK.NS -0.004301\n",
       "10385 2019-01-23        SBIN.NS  0.000000\n",
       "10386 2019-01-23  VIJAYABANK.NS  0.000000\n",
       "10387 2019-01-23   highRiskFund -0.004301\n",
       "\n",
       "[10388 rows x 3 columns]"
      ]
     },
     "execution_count": 168,
     "metadata": {},
     "output_type": "execute_result"
    }
   ],
   "source": [
    "daily.stack().reset_index()"
   ]
  },
  {
   "cell_type": "code",
   "execution_count": 79,
   "metadata": {
    "ExecuteTime": {
     "end_time": "2019-02-15T06:51:39.265960Z",
     "start_time": "2019-02-15T06:51:39.262060Z"
    },
    "hidden": true
   },
   "outputs": [],
   "source": [
    "def applyMaxDrawDown(daily):\n",
    "    maximum = daily.max()\n",
    "    dateOfMax = (daily[daily == maximum].index).astype(str)[0]\n",
    "    filterFromMaxToAsonDate =  daily.loc[dateOfMax:]\n",
    "    minimum = filterFromMaxToAsonDate.min()\n",
    "    return(maximum-minimum)"
   ]
  },
  {
   "cell_type": "code",
   "execution_count": 80,
   "metadata": {
    "ExecuteTime": {
     "end_time": "2019-02-15T06:51:39.755903Z",
     "start_time": "2019-02-15T06:51:39.683652Z"
    },
    "hidden": true
   },
   "outputs": [
    {
     "data": {
      "text/plain": [
       "HDB              0.000000\n",
       "AXISBANK.NS      0.143862\n",
       "IBN              0.000000\n",
       "FEDERALBNK.NS    0.092128\n",
       "SBIN.NS          0.000000\n",
       "VIJAYABANK.NS    0.000000\n",
       "highRiskFund     0.192522\n",
       "dtype: float64"
      ]
     },
     "execution_count": 80,
     "metadata": {},
     "output_type": "execute_result"
    }
   ],
   "source": [
    "daily.apply(applyMaxDrawDown)"
   ]
  },
  {
   "cell_type": "code",
   "execution_count": 216,
   "metadata": {
    "ExecuteTime": {
     "end_time": "2019-02-14T12:13:24.601340Z",
     "start_time": "2019-02-14T12:13:24.596461Z"
    },
    "hidden": true
   },
   "outputs": [],
   "source": [
    "daily = daily['AXISBANK.NS']"
   ]
  },
  {
   "cell_type": "code",
   "execution_count": 217,
   "metadata": {
    "ExecuteTime": {
     "end_time": "2019-02-14T12:13:25.943822Z",
     "start_time": "2019-02-14T12:13:25.939955Z"
    },
    "hidden": true
   },
   "outputs": [
    {
     "data": {
      "text/plain": [
       "0.0837011213848831"
      ]
     },
     "execution_count": 217,
     "metadata": {},
     "output_type": "execute_result"
    }
   ],
   "source": [
    "daily.max()"
   ]
  },
  {
   "cell_type": "code",
   "execution_count": 220,
   "metadata": {
    "ExecuteTime": {
     "end_time": "2019-02-14T12:13:39.895633Z",
     "start_time": "2019-02-14T12:13:39.887825Z"
    },
    "hidden": true
   },
   "outputs": [
    {
     "data": {
      "text/plain": [
       "0.14386167983733603"
      ]
     },
     "execution_count": 220,
     "metadata": {},
     "output_type": "execute_result"
    }
   ],
   "source": [
    "daily.max() - daily.loc[(daily[daily == daily.max()].index).astype(str)[0]:].min()"
   ]
  },
  {
   "cell_type": "code",
   "execution_count": 8,
   "metadata": {
    "ExecuteTime": {
     "end_time": "2019-02-13T10:44:57.591774Z",
     "start_time": "2019-02-13T10:44:57.582989Z"
    },
    "hidden": true
   },
   "outputs": [],
   "source": [
    "daily = daily.stack().reset_index().rename(columns={\"level_1\":\"SCENERIOS\",0:\"RETURNS\"})\n",
    "daily['BUCKET']=\"1D\"\n",
    "daily['PRODUCT'] = daily.iloc[-1][\"SCENERIOS\"]\n",
    "daily[\"BENCHMARK\"] = \"TEST\""
   ]
  },
  {
   "cell_type": "code",
   "execution_count": 39,
   "metadata": {
    "ExecuteTime": {
     "end_time": "2019-02-13T11:45:09.104678Z",
     "start_time": "2019-02-13T11:45:07.784436Z"
    },
    "collapsed": true,
    "hidden": true
   },
   "outputs": [
    {
     "ename": "NameError",
     "evalue": "name 'daily' is not defined",
     "output_type": "error",
     "traceback": [
      "\u001b[1;31m---------------------------------------------------------------------------\u001b[0m",
      "\u001b[1;31mNameError\u001b[0m                                 Traceback (most recent call last)",
      "\u001b[1;32m<ipython-input-39-70a1dac70832>\u001b[0m in \u001b[0;36m<module>\u001b[1;34m()\u001b[0m\n\u001b[1;32m----> 1\u001b[1;33m \u001b[0mdb\u001b[0m\u001b[1;33m.\u001b[0m\u001b[0minsertDataToMongo\u001b[0m\u001b[1;33m(\u001b[0m\u001b[1;34m\"bucket_returns\"\u001b[0m\u001b[1;33m,\u001b[0m\u001b[0mdaily\u001b[0m\u001b[1;33m)\u001b[0m\u001b[1;33m\u001b[0m\u001b[0m\n\u001b[0m",
      "\u001b[1;31mNameError\u001b[0m: name 'daily' is not defined"
     ]
    }
   ],
   "source": [
    "db.insertDataToMongo(\"bucket_returns\",daily)"
   ]
  },
  {
   "cell_type": "code",
   "execution_count": 224,
   "metadata": {
    "ExecuteTime": {
     "end_time": "2019-02-14T12:47:58.186475Z",
     "start_time": "2019-02-14T12:47:58.067896Z"
    },
    "hidden": true
   },
   "outputs": [
    {
     "data": {
      "text/plain": [
       "<pymongo.results.DeleteResult at 0x219fb964cc8>"
      ]
     },
     "execution_count": 224,
     "metadata": {},
     "output_type": "execute_result"
    }
   ],
   "source": [
    "collection=db.db.get_collection(\"bucket_returns\")\n",
    "collection.delete_many({\"PRODUCT\":None})"
   ]
  },
  {
   "cell_type": "code",
   "execution_count": 227,
   "metadata": {
    "ExecuteTime": {
     "end_time": "2019-02-14T12:48:12.359710Z",
     "start_time": "2019-02-14T12:48:12.266016Z"
    },
    "hidden": true
   },
   "outputs": [
    {
     "data": {
      "text/html": [
       "<div>\n",
       "<style scoped>\n",
       "    .dataframe tbody tr th:only-of-type {\n",
       "        vertical-align: middle;\n",
       "    }\n",
       "\n",
       "    .dataframe tbody tr th {\n",
       "        vertical-align: top;\n",
       "    }\n",
       "\n",
       "    .dataframe thead th {\n",
       "        text-align: right;\n",
       "    }\n",
       "</style>\n",
       "<table border=\"1\" class=\"dataframe\">\n",
       "  <thead>\n",
       "    <tr style=\"text-align: right;\">\n",
       "      <th></th>\n",
       "      <th>BUCKET</th>\n",
       "      <th>DATE</th>\n",
       "      <th>PRODUCT</th>\n",
       "      <th>RETURNS</th>\n",
       "      <th>SCENERIONAME</th>\n",
       "      <th>SECURITYCODE</th>\n",
       "    </tr>\n",
       "  </thead>\n",
       "  <tbody>\n",
       "    <tr>\n",
       "      <th>12045</th>\n",
       "      <td>1D</td>\n",
       "      <td>2015-01-01</td>\n",
       "      <td>highRiskFund</td>\n",
       "      <td>-0.005446</td>\n",
       "      <td>Sim_Scene2</td>\n",
       "      <td>highRiskFund</td>\n",
       "    </tr>\n",
       "    <tr>\n",
       "      <th>12046</th>\n",
       "      <td>1D</td>\n",
       "      <td>2015-01-02</td>\n",
       "      <td>highRiskFund</td>\n",
       "      <td>-0.000066</td>\n",
       "      <td>Sim_Scene2</td>\n",
       "      <td>highRiskFund</td>\n",
       "    </tr>\n",
       "    <tr>\n",
       "      <th>12047</th>\n",
       "      <td>1D</td>\n",
       "      <td>2015-01-03</td>\n",
       "      <td>highRiskFund</td>\n",
       "      <td>0.000125</td>\n",
       "      <td>Sim_Scene2</td>\n",
       "      <td>highRiskFund</td>\n",
       "    </tr>\n",
       "    <tr>\n",
       "      <th>12048</th>\n",
       "      <td>1D</td>\n",
       "      <td>2015-01-04</td>\n",
       "      <td>highRiskFund</td>\n",
       "      <td>0.000016</td>\n",
       "      <td>Sim_Scene2</td>\n",
       "      <td>highRiskFund</td>\n",
       "    </tr>\n",
       "    <tr>\n",
       "      <th>12049</th>\n",
       "      <td>1D</td>\n",
       "      <td>2015-01-05</td>\n",
       "      <td>highRiskFund</td>\n",
       "      <td>0.014920</td>\n",
       "      <td>Sim_Scene2</td>\n",
       "      <td>highRiskFund</td>\n",
       "    </tr>\n",
       "    <tr>\n",
       "      <th>12050</th>\n",
       "      <td>1D</td>\n",
       "      <td>2015-01-06</td>\n",
       "      <td>highRiskFund</td>\n",
       "      <td>0.023579</td>\n",
       "      <td>Sim_Scene2</td>\n",
       "      <td>highRiskFund</td>\n",
       "    </tr>\n",
       "    <tr>\n",
       "      <th>12051</th>\n",
       "      <td>1D</td>\n",
       "      <td>2015-01-07</td>\n",
       "      <td>highRiskFund</td>\n",
       "      <td>0.009068</td>\n",
       "      <td>Sim_Scene2</td>\n",
       "      <td>highRiskFund</td>\n",
       "    </tr>\n",
       "    <tr>\n",
       "      <th>12052</th>\n",
       "      <td>1D</td>\n",
       "      <td>2015-01-08</td>\n",
       "      <td>highRiskFund</td>\n",
       "      <td>-0.014072</td>\n",
       "      <td>Sim_Scene2</td>\n",
       "      <td>highRiskFund</td>\n",
       "    </tr>\n",
       "    <tr>\n",
       "      <th>12053</th>\n",
       "      <td>1D</td>\n",
       "      <td>2015-01-09</td>\n",
       "      <td>highRiskFund</td>\n",
       "      <td>0.002877</td>\n",
       "      <td>Sim_Scene2</td>\n",
       "      <td>highRiskFund</td>\n",
       "    </tr>\n",
       "    <tr>\n",
       "      <th>12054</th>\n",
       "      <td>1D</td>\n",
       "      <td>2015-01-10</td>\n",
       "      <td>highRiskFund</td>\n",
       "      <td>0.010512</td>\n",
       "      <td>Sim_Scene2</td>\n",
       "      <td>highRiskFund</td>\n",
       "    </tr>\n",
       "    <tr>\n",
       "      <th>12055</th>\n",
       "      <td>1D</td>\n",
       "      <td>2015-01-11</td>\n",
       "      <td>highRiskFund</td>\n",
       "      <td>0.012049</td>\n",
       "      <td>Sim_Scene2</td>\n",
       "      <td>highRiskFund</td>\n",
       "    </tr>\n",
       "    <tr>\n",
       "      <th>12056</th>\n",
       "      <td>1D</td>\n",
       "      <td>2015-01-12</td>\n",
       "      <td>highRiskFund</td>\n",
       "      <td>0.016400</td>\n",
       "      <td>Sim_Scene2</td>\n",
       "      <td>highRiskFund</td>\n",
       "    </tr>\n",
       "    <tr>\n",
       "      <th>12057</th>\n",
       "      <td>1D</td>\n",
       "      <td>2015-01-13</td>\n",
       "      <td>highRiskFund</td>\n",
       "      <td>0.013767</td>\n",
       "      <td>Sim_Scene2</td>\n",
       "      <td>highRiskFund</td>\n",
       "    </tr>\n",
       "    <tr>\n",
       "      <th>12058</th>\n",
       "      <td>1D</td>\n",
       "      <td>2015-01-14</td>\n",
       "      <td>highRiskFund</td>\n",
       "      <td>-0.021043</td>\n",
       "      <td>Sim_Scene2</td>\n",
       "      <td>highRiskFund</td>\n",
       "    </tr>\n",
       "    <tr>\n",
       "      <th>12059</th>\n",
       "      <td>1D</td>\n",
       "      <td>2015-01-15</td>\n",
       "      <td>highRiskFund</td>\n",
       "      <td>0.007141</td>\n",
       "      <td>Sim_Scene2</td>\n",
       "      <td>highRiskFund</td>\n",
       "    </tr>\n",
       "    <tr>\n",
       "      <th>12060</th>\n",
       "      <td>1D</td>\n",
       "      <td>2015-01-16</td>\n",
       "      <td>highRiskFund</td>\n",
       "      <td>0.019457</td>\n",
       "      <td>Sim_Scene2</td>\n",
       "      <td>highRiskFund</td>\n",
       "    </tr>\n",
       "    <tr>\n",
       "      <th>12061</th>\n",
       "      <td>1D</td>\n",
       "      <td>2015-01-17</td>\n",
       "      <td>highRiskFund</td>\n",
       "      <td>0.007965</td>\n",
       "      <td>Sim_Scene2</td>\n",
       "      <td>highRiskFund</td>\n",
       "    </tr>\n",
       "    <tr>\n",
       "      <th>12062</th>\n",
       "      <td>1D</td>\n",
       "      <td>2015-01-18</td>\n",
       "      <td>highRiskFund</td>\n",
       "      <td>-0.011639</td>\n",
       "      <td>Sim_Scene2</td>\n",
       "      <td>highRiskFund</td>\n",
       "    </tr>\n",
       "    <tr>\n",
       "      <th>12063</th>\n",
       "      <td>1D</td>\n",
       "      <td>2015-01-19</td>\n",
       "      <td>highRiskFund</td>\n",
       "      <td>0.004702</td>\n",
       "      <td>Sim_Scene2</td>\n",
       "      <td>highRiskFund</td>\n",
       "    </tr>\n",
       "    <tr>\n",
       "      <th>12064</th>\n",
       "      <td>1D</td>\n",
       "      <td>2015-01-20</td>\n",
       "      <td>highRiskFund</td>\n",
       "      <td>-0.016878</td>\n",
       "      <td>Sim_Scene2</td>\n",
       "      <td>highRiskFund</td>\n",
       "    </tr>\n",
       "    <tr>\n",
       "      <th>12065</th>\n",
       "      <td>1D</td>\n",
       "      <td>2015-01-21</td>\n",
       "      <td>highRiskFund</td>\n",
       "      <td>0.005930</td>\n",
       "      <td>Sim_Scene2</td>\n",
       "      <td>highRiskFund</td>\n",
       "    </tr>\n",
       "    <tr>\n",
       "      <th>12066</th>\n",
       "      <td>1D</td>\n",
       "      <td>2015-01-22</td>\n",
       "      <td>highRiskFund</td>\n",
       "      <td>-0.006494</td>\n",
       "      <td>Sim_Scene2</td>\n",
       "      <td>highRiskFund</td>\n",
       "    </tr>\n",
       "    <tr>\n",
       "      <th>12067</th>\n",
       "      <td>1D</td>\n",
       "      <td>2015-01-23</td>\n",
       "      <td>highRiskFund</td>\n",
       "      <td>-0.001050</td>\n",
       "      <td>Sim_Scene2</td>\n",
       "      <td>highRiskFund</td>\n",
       "    </tr>\n",
       "    <tr>\n",
       "      <th>12068</th>\n",
       "      <td>1D</td>\n",
       "      <td>2015-01-24</td>\n",
       "      <td>highRiskFund</td>\n",
       "      <td>-0.022515</td>\n",
       "      <td>Sim_Scene2</td>\n",
       "      <td>highRiskFund</td>\n",
       "    </tr>\n",
       "    <tr>\n",
       "      <th>12069</th>\n",
       "      <td>1D</td>\n",
       "      <td>2015-01-25</td>\n",
       "      <td>highRiskFund</td>\n",
       "      <td>0.002626</td>\n",
       "      <td>Sim_Scene2</td>\n",
       "      <td>highRiskFund</td>\n",
       "    </tr>\n",
       "    <tr>\n",
       "      <th>12070</th>\n",
       "      <td>1D</td>\n",
       "      <td>2015-01-26</td>\n",
       "      <td>highRiskFund</td>\n",
       "      <td>-0.018020</td>\n",
       "      <td>Sim_Scene2</td>\n",
       "      <td>highRiskFund</td>\n",
       "    </tr>\n",
       "    <tr>\n",
       "      <th>12071</th>\n",
       "      <td>1D</td>\n",
       "      <td>2015-01-27</td>\n",
       "      <td>highRiskFund</td>\n",
       "      <td>-0.016122</td>\n",
       "      <td>Sim_Scene2</td>\n",
       "      <td>highRiskFund</td>\n",
       "    </tr>\n",
       "    <tr>\n",
       "      <th>12072</th>\n",
       "      <td>1D</td>\n",
       "      <td>2015-01-28</td>\n",
       "      <td>highRiskFund</td>\n",
       "      <td>-0.005775</td>\n",
       "      <td>Sim_Scene2</td>\n",
       "      <td>highRiskFund</td>\n",
       "    </tr>\n",
       "    <tr>\n",
       "      <th>12073</th>\n",
       "      <td>1D</td>\n",
       "      <td>2015-01-29</td>\n",
       "      <td>highRiskFund</td>\n",
       "      <td>0.010511</td>\n",
       "      <td>Sim_Scene2</td>\n",
       "      <td>highRiskFund</td>\n",
       "    </tr>\n",
       "    <tr>\n",
       "      <th>12074</th>\n",
       "      <td>1D</td>\n",
       "      <td>2015-01-30</td>\n",
       "      <td>highRiskFund</td>\n",
       "      <td>0.012064</td>\n",
       "      <td>Sim_Scene2</td>\n",
       "      <td>highRiskFund</td>\n",
       "    </tr>\n",
       "    <tr>\n",
       "      <th>...</th>\n",
       "      <td>...</td>\n",
       "      <td>...</td>\n",
       "      <td>...</td>\n",
       "      <td>...</td>\n",
       "      <td>...</td>\n",
       "      <td>...</td>\n",
       "    </tr>\n",
       "    <tr>\n",
       "      <th>12401</th>\n",
       "      <td>1D</td>\n",
       "      <td>2015-12-23</td>\n",
       "      <td>highRiskFund</td>\n",
       "      <td>0.012104</td>\n",
       "      <td>Sim_Scene2</td>\n",
       "      <td>highRiskFund</td>\n",
       "    </tr>\n",
       "    <tr>\n",
       "      <th>12402</th>\n",
       "      <td>1D</td>\n",
       "      <td>2015-12-24</td>\n",
       "      <td>highRiskFund</td>\n",
       "      <td>0.003393</td>\n",
       "      <td>Sim_Scene2</td>\n",
       "      <td>highRiskFund</td>\n",
       "    </tr>\n",
       "    <tr>\n",
       "      <th>12403</th>\n",
       "      <td>1D</td>\n",
       "      <td>2015-12-25</td>\n",
       "      <td>highRiskFund</td>\n",
       "      <td>0.011137</td>\n",
       "      <td>Sim_Scene2</td>\n",
       "      <td>highRiskFund</td>\n",
       "    </tr>\n",
       "    <tr>\n",
       "      <th>12404</th>\n",
       "      <td>1D</td>\n",
       "      <td>2015-12-26</td>\n",
       "      <td>highRiskFund</td>\n",
       "      <td>-0.007160</td>\n",
       "      <td>Sim_Scene2</td>\n",
       "      <td>highRiskFund</td>\n",
       "    </tr>\n",
       "    <tr>\n",
       "      <th>12405</th>\n",
       "      <td>1D</td>\n",
       "      <td>2015-12-27</td>\n",
       "      <td>highRiskFund</td>\n",
       "      <td>0.002108</td>\n",
       "      <td>Sim_Scene2</td>\n",
       "      <td>highRiskFund</td>\n",
       "    </tr>\n",
       "    <tr>\n",
       "      <th>12406</th>\n",
       "      <td>1D</td>\n",
       "      <td>2015-12-28</td>\n",
       "      <td>highRiskFund</td>\n",
       "      <td>0.003526</td>\n",
       "      <td>Sim_Scene2</td>\n",
       "      <td>highRiskFund</td>\n",
       "    </tr>\n",
       "    <tr>\n",
       "      <th>12407</th>\n",
       "      <td>1D</td>\n",
       "      <td>2015-12-29</td>\n",
       "      <td>highRiskFund</td>\n",
       "      <td>-0.012517</td>\n",
       "      <td>Sim_Scene2</td>\n",
       "      <td>highRiskFund</td>\n",
       "    </tr>\n",
       "    <tr>\n",
       "      <th>12408</th>\n",
       "      <td>1D</td>\n",
       "      <td>2015-12-30</td>\n",
       "      <td>highRiskFund</td>\n",
       "      <td>0.028661</td>\n",
       "      <td>Sim_Scene2</td>\n",
       "      <td>highRiskFund</td>\n",
       "    </tr>\n",
       "    <tr>\n",
       "      <th>12409</th>\n",
       "      <td>1D</td>\n",
       "      <td>2015-12-31</td>\n",
       "      <td>highRiskFund</td>\n",
       "      <td>0.003070</td>\n",
       "      <td>Sim_Scene2</td>\n",
       "      <td>highRiskFund</td>\n",
       "    </tr>\n",
       "    <tr>\n",
       "      <th>12410</th>\n",
       "      <td>1D</td>\n",
       "      <td>2016-01-01</td>\n",
       "      <td>highRiskFund</td>\n",
       "      <td>0.003702</td>\n",
       "      <td>Sim_Scene2</td>\n",
       "      <td>highRiskFund</td>\n",
       "    </tr>\n",
       "    <tr>\n",
       "      <th>12411</th>\n",
       "      <td>1M</td>\n",
       "      <td>2015-01-31</td>\n",
       "      <td>highRiskFund</td>\n",
       "      <td>0.025881</td>\n",
       "      <td>Sim_Scene2</td>\n",
       "      <td>highRiskFund</td>\n",
       "    </tr>\n",
       "    <tr>\n",
       "      <th>12412</th>\n",
       "      <td>1M</td>\n",
       "      <td>2015-02-28</td>\n",
       "      <td>highRiskFund</td>\n",
       "      <td>0.038624</td>\n",
       "      <td>Sim_Scene2</td>\n",
       "      <td>highRiskFund</td>\n",
       "    </tr>\n",
       "    <tr>\n",
       "      <th>12413</th>\n",
       "      <td>1M</td>\n",
       "      <td>2015-03-31</td>\n",
       "      <td>highRiskFund</td>\n",
       "      <td>0.092326</td>\n",
       "      <td>Sim_Scene2</td>\n",
       "      <td>highRiskFund</td>\n",
       "    </tr>\n",
       "    <tr>\n",
       "      <th>12414</th>\n",
       "      <td>1M</td>\n",
       "      <td>2015-04-30</td>\n",
       "      <td>highRiskFund</td>\n",
       "      <td>-0.065354</td>\n",
       "      <td>Sim_Scene2</td>\n",
       "      <td>highRiskFund</td>\n",
       "    </tr>\n",
       "    <tr>\n",
       "      <th>12415</th>\n",
       "      <td>1M</td>\n",
       "      <td>2015-05-31</td>\n",
       "      <td>highRiskFund</td>\n",
       "      <td>0.002639</td>\n",
       "      <td>Sim_Scene2</td>\n",
       "      <td>highRiskFund</td>\n",
       "    </tr>\n",
       "    <tr>\n",
       "      <th>12416</th>\n",
       "      <td>1M</td>\n",
       "      <td>2015-06-30</td>\n",
       "      <td>highRiskFund</td>\n",
       "      <td>0.000963</td>\n",
       "      <td>Sim_Scene2</td>\n",
       "      <td>highRiskFund</td>\n",
       "    </tr>\n",
       "    <tr>\n",
       "      <th>12417</th>\n",
       "      <td>1M</td>\n",
       "      <td>2015-07-31</td>\n",
       "      <td>highRiskFund</td>\n",
       "      <td>-0.047983</td>\n",
       "      <td>Sim_Scene2</td>\n",
       "      <td>highRiskFund</td>\n",
       "    </tr>\n",
       "    <tr>\n",
       "      <th>12418</th>\n",
       "      <td>1M</td>\n",
       "      <td>2015-08-31</td>\n",
       "      <td>highRiskFund</td>\n",
       "      <td>0.112385</td>\n",
       "      <td>Sim_Scene2</td>\n",
       "      <td>highRiskFund</td>\n",
       "    </tr>\n",
       "    <tr>\n",
       "      <th>12419</th>\n",
       "      <td>1M</td>\n",
       "      <td>2015-09-30</td>\n",
       "      <td>highRiskFund</td>\n",
       "      <td>0.042692</td>\n",
       "      <td>Sim_Scene2</td>\n",
       "      <td>highRiskFund</td>\n",
       "    </tr>\n",
       "    <tr>\n",
       "      <th>12420</th>\n",
       "      <td>1M</td>\n",
       "      <td>2015-10-31</td>\n",
       "      <td>highRiskFund</td>\n",
       "      <td>0.056340</td>\n",
       "      <td>Sim_Scene2</td>\n",
       "      <td>highRiskFund</td>\n",
       "    </tr>\n",
       "    <tr>\n",
       "      <th>12421</th>\n",
       "      <td>1M</td>\n",
       "      <td>2015-11-30</td>\n",
       "      <td>highRiskFund</td>\n",
       "      <td>-0.062473</td>\n",
       "      <td>Sim_Scene2</td>\n",
       "      <td>highRiskFund</td>\n",
       "    </tr>\n",
       "    <tr>\n",
       "      <th>12422</th>\n",
       "      <td>1M</td>\n",
       "      <td>2015-12-31</td>\n",
       "      <td>highRiskFund</td>\n",
       "      <td>0.016250</td>\n",
       "      <td>Sim_Scene2</td>\n",
       "      <td>highRiskFund</td>\n",
       "    </tr>\n",
       "    <tr>\n",
       "      <th>12423</th>\n",
       "      <td>1M</td>\n",
       "      <td>2016-01-31</td>\n",
       "      <td>highRiskFund</td>\n",
       "      <td>0.003702</td>\n",
       "      <td>Sim_Scene2</td>\n",
       "      <td>highRiskFund</td>\n",
       "    </tr>\n",
       "    <tr>\n",
       "      <th>12424</th>\n",
       "      <td>3M</td>\n",
       "      <td>2015-01-31</td>\n",
       "      <td>highRiskFund</td>\n",
       "      <td>0.025881</td>\n",
       "      <td>Sim_Scene2</td>\n",
       "      <td>highRiskFund</td>\n",
       "    </tr>\n",
       "    <tr>\n",
       "      <th>12425</th>\n",
       "      <td>3M</td>\n",
       "      <td>2015-04-30</td>\n",
       "      <td>highRiskFund</td>\n",
       "      <td>0.060371</td>\n",
       "      <td>Sim_Scene2</td>\n",
       "      <td>highRiskFund</td>\n",
       "    </tr>\n",
       "    <tr>\n",
       "      <th>12426</th>\n",
       "      <td>3M</td>\n",
       "      <td>2015-07-31</td>\n",
       "      <td>highRiskFund</td>\n",
       "      <td>-0.044551</td>\n",
       "      <td>Sim_Scene2</td>\n",
       "      <td>highRiskFund</td>\n",
       "    </tr>\n",
       "    <tr>\n",
       "      <th>12427</th>\n",
       "      <td>3M</td>\n",
       "      <td>2015-10-31</td>\n",
       "      <td>highRiskFund</td>\n",
       "      <td>0.225222</td>\n",
       "      <td>Sim_Scene2</td>\n",
       "      <td>highRiskFund</td>\n",
       "    </tr>\n",
       "    <tr>\n",
       "      <th>12428</th>\n",
       "      <td>3M</td>\n",
       "      <td>2016-01-31</td>\n",
       "      <td>highRiskFund</td>\n",
       "      <td>-0.043711</td>\n",
       "      <td>Sim_Scene2</td>\n",
       "      <td>highRiskFund</td>\n",
       "    </tr>\n",
       "    <tr>\n",
       "      <th>12429</th>\n",
       "      <td>1Y</td>\n",
       "      <td>2015-12-31</td>\n",
       "      <td>highRiskFund</td>\n",
       "      <td>0.213280</td>\n",
       "      <td>Sim_Scene2</td>\n",
       "      <td>highRiskFund</td>\n",
       "    </tr>\n",
       "    <tr>\n",
       "      <th>12430</th>\n",
       "      <td>1Y</td>\n",
       "      <td>2016-12-31</td>\n",
       "      <td>highRiskFund</td>\n",
       "      <td>0.003702</td>\n",
       "      <td>Sim_Scene2</td>\n",
       "      <td>highRiskFund</td>\n",
       "    </tr>\n",
       "  </tbody>\n",
       "</table>\n",
       "<p>386 rows × 6 columns</p>\n",
       "</div>"
      ],
      "text/plain": [
       "      BUCKET       DATE       PRODUCT   RETURNS SCENERIONAME  SECURITYCODE\n",
       "12045     1D 2015-01-01  highRiskFund -0.005446   Sim_Scene2  highRiskFund\n",
       "12046     1D 2015-01-02  highRiskFund -0.000066   Sim_Scene2  highRiskFund\n",
       "12047     1D 2015-01-03  highRiskFund  0.000125   Sim_Scene2  highRiskFund\n",
       "12048     1D 2015-01-04  highRiskFund  0.000016   Sim_Scene2  highRiskFund\n",
       "12049     1D 2015-01-05  highRiskFund  0.014920   Sim_Scene2  highRiskFund\n",
       "12050     1D 2015-01-06  highRiskFund  0.023579   Sim_Scene2  highRiskFund\n",
       "12051     1D 2015-01-07  highRiskFund  0.009068   Sim_Scene2  highRiskFund\n",
       "12052     1D 2015-01-08  highRiskFund -0.014072   Sim_Scene2  highRiskFund\n",
       "12053     1D 2015-01-09  highRiskFund  0.002877   Sim_Scene2  highRiskFund\n",
       "12054     1D 2015-01-10  highRiskFund  0.010512   Sim_Scene2  highRiskFund\n",
       "12055     1D 2015-01-11  highRiskFund  0.012049   Sim_Scene2  highRiskFund\n",
       "12056     1D 2015-01-12  highRiskFund  0.016400   Sim_Scene2  highRiskFund\n",
       "12057     1D 2015-01-13  highRiskFund  0.013767   Sim_Scene2  highRiskFund\n",
       "12058     1D 2015-01-14  highRiskFund -0.021043   Sim_Scene2  highRiskFund\n",
       "12059     1D 2015-01-15  highRiskFund  0.007141   Sim_Scene2  highRiskFund\n",
       "12060     1D 2015-01-16  highRiskFund  0.019457   Sim_Scene2  highRiskFund\n",
       "12061     1D 2015-01-17  highRiskFund  0.007965   Sim_Scene2  highRiskFund\n",
       "12062     1D 2015-01-18  highRiskFund -0.011639   Sim_Scene2  highRiskFund\n",
       "12063     1D 2015-01-19  highRiskFund  0.004702   Sim_Scene2  highRiskFund\n",
       "12064     1D 2015-01-20  highRiskFund -0.016878   Sim_Scene2  highRiskFund\n",
       "12065     1D 2015-01-21  highRiskFund  0.005930   Sim_Scene2  highRiskFund\n",
       "12066     1D 2015-01-22  highRiskFund -0.006494   Sim_Scene2  highRiskFund\n",
       "12067     1D 2015-01-23  highRiskFund -0.001050   Sim_Scene2  highRiskFund\n",
       "12068     1D 2015-01-24  highRiskFund -0.022515   Sim_Scene2  highRiskFund\n",
       "12069     1D 2015-01-25  highRiskFund  0.002626   Sim_Scene2  highRiskFund\n",
       "12070     1D 2015-01-26  highRiskFund -0.018020   Sim_Scene2  highRiskFund\n",
       "12071     1D 2015-01-27  highRiskFund -0.016122   Sim_Scene2  highRiskFund\n",
       "12072     1D 2015-01-28  highRiskFund -0.005775   Sim_Scene2  highRiskFund\n",
       "12073     1D 2015-01-29  highRiskFund  0.010511   Sim_Scene2  highRiskFund\n",
       "12074     1D 2015-01-30  highRiskFund  0.012064   Sim_Scene2  highRiskFund\n",
       "...      ...        ...           ...       ...          ...           ...\n",
       "12401     1D 2015-12-23  highRiskFund  0.012104   Sim_Scene2  highRiskFund\n",
       "12402     1D 2015-12-24  highRiskFund  0.003393   Sim_Scene2  highRiskFund\n",
       "12403     1D 2015-12-25  highRiskFund  0.011137   Sim_Scene2  highRiskFund\n",
       "12404     1D 2015-12-26  highRiskFund -0.007160   Sim_Scene2  highRiskFund\n",
       "12405     1D 2015-12-27  highRiskFund  0.002108   Sim_Scene2  highRiskFund\n",
       "12406     1D 2015-12-28  highRiskFund  0.003526   Sim_Scene2  highRiskFund\n",
       "12407     1D 2015-12-29  highRiskFund -0.012517   Sim_Scene2  highRiskFund\n",
       "12408     1D 2015-12-30  highRiskFund  0.028661   Sim_Scene2  highRiskFund\n",
       "12409     1D 2015-12-31  highRiskFund  0.003070   Sim_Scene2  highRiskFund\n",
       "12410     1D 2016-01-01  highRiskFund  0.003702   Sim_Scene2  highRiskFund\n",
       "12411     1M 2015-01-31  highRiskFund  0.025881   Sim_Scene2  highRiskFund\n",
       "12412     1M 2015-02-28  highRiskFund  0.038624   Sim_Scene2  highRiskFund\n",
       "12413     1M 2015-03-31  highRiskFund  0.092326   Sim_Scene2  highRiskFund\n",
       "12414     1M 2015-04-30  highRiskFund -0.065354   Sim_Scene2  highRiskFund\n",
       "12415     1M 2015-05-31  highRiskFund  0.002639   Sim_Scene2  highRiskFund\n",
       "12416     1M 2015-06-30  highRiskFund  0.000963   Sim_Scene2  highRiskFund\n",
       "12417     1M 2015-07-31  highRiskFund -0.047983   Sim_Scene2  highRiskFund\n",
       "12418     1M 2015-08-31  highRiskFund  0.112385   Sim_Scene2  highRiskFund\n",
       "12419     1M 2015-09-30  highRiskFund  0.042692   Sim_Scene2  highRiskFund\n",
       "12420     1M 2015-10-31  highRiskFund  0.056340   Sim_Scene2  highRiskFund\n",
       "12421     1M 2015-11-30  highRiskFund -0.062473   Sim_Scene2  highRiskFund\n",
       "12422     1M 2015-12-31  highRiskFund  0.016250   Sim_Scene2  highRiskFund\n",
       "12423     1M 2016-01-31  highRiskFund  0.003702   Sim_Scene2  highRiskFund\n",
       "12424     3M 2015-01-31  highRiskFund  0.025881   Sim_Scene2  highRiskFund\n",
       "12425     3M 2015-04-30  highRiskFund  0.060371   Sim_Scene2  highRiskFund\n",
       "12426     3M 2015-07-31  highRiskFund -0.044551   Sim_Scene2  highRiskFund\n",
       "12427     3M 2015-10-31  highRiskFund  0.225222   Sim_Scene2  highRiskFund\n",
       "12428     3M 2016-01-31  highRiskFund -0.043711   Sim_Scene2  highRiskFund\n",
       "12429     1Y 2015-12-31  highRiskFund  0.213280   Sim_Scene2  highRiskFund\n",
       "12430     1Y 2016-12-31  highRiskFund  0.003702   Sim_Scene2  highRiskFund\n",
       "\n",
       "[386 rows x 6 columns]"
      ]
     },
     "execution_count": 227,
     "metadata": {},
     "output_type": "execute_result"
    }
   ],
   "source": [
    "data[data['SCENERIONAME']==\"Sim_Scene2\"]"
   ]
  },
  {
   "cell_type": "code",
   "execution_count": 226,
   "metadata": {
    "ExecuteTime": {
     "end_time": "2019-02-14T12:48:09.664860Z",
     "start_time": "2019-02-14T12:48:09.288045Z"
    },
    "hidden": true
   },
   "outputs": [],
   "source": [
    "data = db.getDataFromMongo(\"bucket_returns\")"
   ]
  },
  {
   "cell_type": "code",
   "execution_count": 225,
   "metadata": {
    "ExecuteTime": {
     "end_time": "2019-02-14T12:48:06.048004Z",
     "start_time": "2019-02-14T12:48:05.885135Z"
    },
    "hidden": true
   },
   "outputs": [
    {
     "ename": "AttributeError",
     "evalue": "'DataFrame' object has no attribute 'BENCHMARK'",
     "output_type": "error",
     "traceback": [
      "\u001b[1;31m---------------------------------------------------------------------------\u001b[0m",
      "\u001b[1;31mAttributeError\u001b[0m                            Traceback (most recent call last)",
      "\u001b[1;32m<ipython-input-225-7660b807e293>\u001b[0m in \u001b[0;36m<module>\u001b[1;34m()\u001b[0m\n\u001b[0;32m      1\u001b[0m \u001b[0mdata\u001b[0m \u001b[1;33m=\u001b[0m \u001b[0mdb\u001b[0m\u001b[1;33m.\u001b[0m\u001b[0mgetDataFromMongo\u001b[0m\u001b[1;33m(\u001b[0m\u001b[1;34m\"bucket_returns\"\u001b[0m\u001b[1;33m)\u001b[0m\u001b[1;33m\u001b[0m\u001b[0m\n\u001b[1;32m----> 2\u001b[1;33m \u001b[0mdata\u001b[0m\u001b[1;33m[\u001b[0m\u001b[1;33m~\u001b[0m\u001b[0mdata\u001b[0m\u001b[1;33m.\u001b[0m\u001b[0mBENCHMARK\u001b[0m\u001b[1;33m.\u001b[0m\u001b[0misnull\u001b[0m\u001b[1;33m(\u001b[0m\u001b[1;33m)\u001b[0m\u001b[1;33m]\u001b[0m\u001b[1;33m\u001b[0m\u001b[0m\n\u001b[0m",
      "\u001b[1;32mc:\\users\\mukesh\\appdata\\local\\programs\\python\\python37\\lib\\site-packages\\pandas\\core\\generic.py\u001b[0m in \u001b[0;36m__getattr__\u001b[1;34m(self, name)\u001b[0m\n\u001b[0;32m   4374\u001b[0m             \u001b[1;32mif\u001b[0m \u001b[0mself\u001b[0m\u001b[1;33m.\u001b[0m\u001b[0m_info_axis\u001b[0m\u001b[1;33m.\u001b[0m\u001b[0m_can_hold_identifiers_and_holds_name\u001b[0m\u001b[1;33m(\u001b[0m\u001b[0mname\u001b[0m\u001b[1;33m)\u001b[0m\u001b[1;33m:\u001b[0m\u001b[1;33m\u001b[0m\u001b[0m\n\u001b[0;32m   4375\u001b[0m                 \u001b[1;32mreturn\u001b[0m \u001b[0mself\u001b[0m\u001b[1;33m[\u001b[0m\u001b[0mname\u001b[0m\u001b[1;33m]\u001b[0m\u001b[1;33m\u001b[0m\u001b[0m\n\u001b[1;32m-> 4376\u001b[1;33m             \u001b[1;32mreturn\u001b[0m \u001b[0mobject\u001b[0m\u001b[1;33m.\u001b[0m\u001b[0m__getattribute__\u001b[0m\u001b[1;33m(\u001b[0m\u001b[0mself\u001b[0m\u001b[1;33m,\u001b[0m \u001b[0mname\u001b[0m\u001b[1;33m)\u001b[0m\u001b[1;33m\u001b[0m\u001b[0m\n\u001b[0m\u001b[0;32m   4377\u001b[0m \u001b[1;33m\u001b[0m\u001b[0m\n\u001b[0;32m   4378\u001b[0m     \u001b[1;32mdef\u001b[0m \u001b[0m__setattr__\u001b[0m\u001b[1;33m(\u001b[0m\u001b[0mself\u001b[0m\u001b[1;33m,\u001b[0m \u001b[0mname\u001b[0m\u001b[1;33m,\u001b[0m \u001b[0mvalue\u001b[0m\u001b[1;33m)\u001b[0m\u001b[1;33m:\u001b[0m\u001b[1;33m\u001b[0m\u001b[0m\n",
      "\u001b[1;31mAttributeError\u001b[0m: 'DataFrame' object has no attribute 'BENCHMARK'"
     ]
    }
   ],
   "source": [
    "data[~data.BENCHMARK.isnull()]"
   ]
  },
  {
   "cell_type": "code",
   "execution_count": 45,
   "metadata": {
    "ExecuteTime": {
     "end_time": "2019-02-13T06:34:28.037151Z",
     "start_time": "2019-02-13T06:34:28.021193Z"
    },
    "hidden": true
   },
   "outputs": [],
   "source": [
    "monthGrp = pd.read_csv('../../portOptHrp/Src/excel/output/ratefeed_2019-01-23_1Mgrp.csv',index_col=0)\n",
    "monthGrp = monthGrp.stack().reset_index().rename(columns={\"level_1\":\"CODE\",0:\"RETURNS\"})\n",
    "monthGrp['BUCKET']=\"1M\""
   ]
  }
 ],
 "metadata": {
  "kernelspec": {
   "display_name": "Python 3",
   "language": "python",
   "name": "python3"
  },
  "language_info": {
   "codemirror_mode": {
    "name": "ipython",
    "version": 3
   },
   "file_extension": ".py",
   "mimetype": "text/x-python",
   "name": "python",
   "nbconvert_exporter": "python",
   "pygments_lexer": "ipython3",
   "version": "3.7.0"
  },
  "toc": {
   "base_numbering": 1,
   "nav_menu": {},
   "number_sections": true,
   "sideBar": true,
   "skip_h1_title": false,
   "title_cell": "Table of Contents",
   "title_sidebar": "Contents",
   "toc_cell": false,
   "toc_position": {},
   "toc_section_display": true,
   "toc_window_display": false
  }
 },
 "nbformat": 4,
 "nbformat_minor": 2
}
