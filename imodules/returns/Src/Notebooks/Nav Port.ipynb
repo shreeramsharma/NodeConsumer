{
 "cells": [
  {
   "cell_type": "code",
   "execution_count": 3,
   "metadata": {
    "ExecuteTime": {
     "end_time": "2019-02-04T06:11:49.993751Z",
     "start_time": "2019-02-04T06:11:49.624247Z"
    }
   },
   "outputs": [
    {
     "name": "stdout",
     "output_type": "stream",
     "text": [
      "The line_profiler extension is already loaded. To reload it, use:\n",
      "  %reload_ext line_profiler\n",
      "database:27017\n"
     ]
    }
   ],
   "source": [
    "# from pymongo import MongoClient\n",
    "import numpy as np\n",
    "import pandas as pd\n",
    "import datetime\n",
    "%load_ext line_profiler\n",
    "pd.options.mode.chained_assignment = None\n",
    "from datetime import timedelta\n",
    "import sys\n",
    "sys.path.insert(0, 'E:/Credence/Projects/Ideal6-python-worker/iModules/returns/Src/')\n",
    "import dbUnit as db\n",
    "import computeUnit as cu"
   ]
  },
  {
   "cell_type": "code",
   "execution_count": 2,
   "metadata": {
    "ExecuteTime": {
     "end_time": "2018-12-28T07:35:47.454055Z",
     "start_time": "2018-12-28T07:35:47.309440Z"
    }
   },
   "outputs": [
    {
     "name": "stdout",
     "output_type": "stream",
     "text": [
      "notEmpty\n"
     ]
    },
    {
     "name": "stderr",
     "output_type": "stream",
     "text": [
      "c:\\users\\mukesh\\appdata\\local\\programs\\python\\python37\\lib\\site-packages\\pandas\\core\\frame.py:6211: FutureWarning: Sorting because non-concatenation axis is not aligned. A future version\n",
      "of pandas will change to not sort by default.\n",
      "\n",
      "To accept the future behavior, pass 'sort=False'.\n",
      "\n",
      "To retain the current behavior and silence the warning, pass 'sort=True'.\n",
      "\n",
      "  sort=sort)\n"
     ]
    }
   ],
   "source": [
    "histData = db.getDataFromMongo(\"rawdatareturns_navport\")\n",
    "if not histData.empty:\n",
    "    print(\"notEmpty\")\n",
    "    # drop a day records\n",
    "    histData = histData.set_index('ASONDATE').stack().reset_index().rename(columns={0:\"VALUE\",\"level_1\":\"PORTCODE\"})\n",
    "    histData = histData[histData[\"ASONDATE\"] != \"04-09-2018\"]\n",
    "    # get daily record\n",
    "    dailyData = db.getDataFromOracle(\"nav_daily\", (\"04-09-2018\"))\n",
    "    rawBench = histData.append(dailyData, ignore_index=True)\n",
    "else:\n",
    "    print(\"Empty\")\n",
    "    histData = db.getDataFromOracle(\"nav_all\")\n",
    "    # Save all historical data into Mongo\n",
    "    rawBench = histData\n",
    "    \n",
    "rawBench.PORTCODE = rawBench.PORTCODE.astype(str)\n",
    "rawBench = rawBench.pivot_table(index='ASONDATE',columns='PORTCODE',values='VALUE').reset_index()\n",
    "db.insertDataToMongo(\"rawdatareturns_navport\", rawBench)\n",
    "rawBench = rawBench.set_index('ASONDATE').stack().reset_index().rename(columns={0:\"VALUE\"})"
   ]
  },
  {
   "cell_type": "code",
   "execution_count": 3,
   "metadata": {
    "ExecuteTime": {
     "end_time": "2018-12-28T07:35:47.471044Z",
     "start_time": "2018-12-28T07:35:47.457046Z"
    }
   },
   "outputs": [],
   "source": [
    "allDateRawBench = pd.DataFrame(index=pd.date_range(rawBench['ASONDATE'].min(),rawBench['ASONDATE'].max()))\n",
    "pivotRawBench = rawBench.pivot_table(index=\"ASONDATE\",columns='PORTCODE',values=\"VALUE\")"
   ]
  },
  {
   "cell_type": "code",
   "execution_count": 4,
   "metadata": {
    "ExecuteTime": {
     "end_time": "2018-12-28T07:35:47.505953Z",
     "start_time": "2018-12-28T07:35:47.473004Z"
    }
   },
   "outputs": [],
   "source": [
    "rawPrices = allDateRawBench.merge(pivotRawBench,left_index=True,right_index=True,how='left').fillna(method='ffill')\n",
    "dividend = pd.DataFrame(index=rawPrices.index,columns=rawPrices.columns,data=0)\n",
    "splitRatio = pd.DataFrame(index=rawPrices.index,columns=rawPrices.columns,data=1)"
   ]
  },
  {
   "cell_type": "code",
   "execution_count": 5,
   "metadata": {
    "ExecuteTime": {
     "end_time": "2018-12-28T07:35:49.963344Z",
     "start_time": "2018-12-28T07:35:47.507911Z"
    }
   },
   "outputs": [],
   "source": [
    "adjPrice = cu.calcAdjustedPrices(rawPrices,dividend,splitRatio).sort_index()\n",
    "db.insertDataToMongo(\"dailyadjclose_navport\",adjPrice.reset_index())"
   ]
  },
  {
   "cell_type": "code",
   "execution_count": 6,
   "metadata": {
    "ExecuteTime": {
     "end_time": "2018-12-28T07:35:50.175778Z",
     "start_time": "2018-12-28T07:35:49.965339Z"
    }
   },
   "outputs": [],
   "source": [
    "logReturns = np.log(adjPrice.pct_change() + 1).replace([np.inf, -np.inf], np.nan).fillna(0)\n",
    "db.insertDataToMongo(\"dailyadjclose_navport\",logReturns.reset_index())"
   ]
  },
  {
   "cell_type": "code",
   "execution_count": 7,
   "metadata": {
    "ExecuteTime": {
     "end_time": "2018-12-28T07:35:50.189740Z",
     "start_time": "2018-12-28T07:35:50.176775Z"
    }
   },
   "outputs": [],
   "source": [
    "adjPrice = adjPrice.stack().reset_index().rename(columns={'level_0':\"ASONDATE\",\"level_1\":\"PORTCODE\",0:\"ADJPRICES\"})\n",
    "logReturns = logReturns.stack().reset_index().rename(columns={'level_0':\"ASONDATE\",\"level_1\":\"PORTCODE\",0:\"LOGRETURNS\"})"
   ]
  },
  {
   "cell_type": "code",
   "execution_count": 8,
   "metadata": {
    "ExecuteTime": {
     "end_time": "2018-12-28T07:35:50.215674Z",
     "start_time": "2018-12-28T07:35:50.192732Z"
    }
   },
   "outputs": [],
   "source": [
    "dailyclreturns_navport = adjPrice.merge(logReturns,on=['ASONDATE','PORTCODE'])\n",
    "dailyclreturns_navport = dailyclreturns_navport.set_index(['ASONDATE','PORTCODE']).stack().reset_index().rename(columns={\"level_2\":\"OPERATION\",0:\"VALUE\"})"
   ]
  },
  {
   "cell_type": "code",
   "execution_count": 9,
   "metadata": {
    "ExecuteTime": {
     "end_time": "2018-12-28T07:35:50.229633Z",
     "start_time": "2018-12-28T07:35:50.225645Z"
    }
   },
   "outputs": [],
   "source": [
    "# db.insertDataToMongo(\"dailyclreturns_navport\",dailyclreturns_navport)"
   ]
  },
  {
   "cell_type": "code",
   "execution_count": 10,
   "metadata": {
    "ExecuteTime": {
     "end_time": "2018-12-28T07:35:50.263542Z",
     "start_time": "2018-12-28T07:35:50.232626Z"
    }
   },
   "outputs": [],
   "source": [
    "dailyclreturns_navport = dailyclreturns_navport.pivot_table(index=\"ASONDATE\", columns=[\"OPERATION\", \"PORTCODE\"])\n",
    "dailyclreturns_navport = dailyclreturns_navport.iloc[:, dailyclreturns_navport.columns.get_level_values(1) == \"LOGRETURNS\"].fillna(0)"
   ]
  },
  {
   "cell_type": "code",
   "execution_count": 11,
   "metadata": {
    "ExecuteTime": {
     "end_time": "2018-12-28T07:35:50.270524Z",
     "start_time": "2018-12-28T07:35:50.266534Z"
    }
   },
   "outputs": [],
   "source": [
    "dailyclreturns_navport.columns = dailyclreturns_navport.columns.droplevel(0)"
   ]
  },
  {
   "cell_type": "code",
   "execution_count": 12,
   "metadata": {
    "ExecuteTime": {
     "end_time": "2018-12-28T07:35:50.381226Z",
     "start_time": "2018-12-28T07:35:50.274520Z"
    }
   },
   "outputs": [],
   "source": [
    "groupReturns = cu.calcGroupReturns(\"2018-01-01\", dailyclreturns_navport, [\"LOGRETURNS\"])\n",
    "groupReturns['TYPE']=\"PORTFOLIO\"\n",
    "groupReturns['ASONDATE']=\"2018-01-01\""
   ]
  },
  {
   "cell_type": "code",
   "execution_count": 13,
   "metadata": {
    "ExecuteTime": {
     "end_time": "2018-12-28T07:35:50.413142Z",
     "start_time": "2018-12-28T07:35:50.385217Z"
    }
   },
   "outputs": [],
   "source": [
    "db.insertDataToMongo(\"groupreturns\", groupReturns.reset_index(), \"2018-05-01\")"
   ]
  },
  {
   "cell_type": "code",
   "execution_count": 14,
   "metadata": {
    "ExecuteTime": {
     "end_time": "2018-12-28T07:35:52.266200Z",
     "start_time": "2018-12-28T07:35:52.226271Z"
    }
   },
   "outputs": [],
   "source": [
    "db.insertDataToOracle(\"groupreturns\",groupReturns.reset_index(),type=\"PORTFOLIO\")"
   ]
  },
  {
   "cell_type": "code",
   "execution_count": 16,
   "metadata": {
    "ExecuteTime": {
     "end_time": "2018-12-28T07:36:36.198271Z",
     "start_time": "2018-12-28T07:36:27.775470Z"
    }
   },
   "outputs": [],
   "source": [
    "import pyfolio as pyf"
   ]
  },
  {
   "cell_type": "code",
   "execution_count": 17,
   "metadata": {
    "ExecuteTime": {
     "end_time": "2018-12-28T07:36:36.295013Z",
     "start_time": "2018-12-28T07:36:36.200267Z"
    }
   },
   "outputs": [
    {
     "name": "stderr",
     "output_type": "stream",
     "text": [
      "c:\\users\\mukesh\\appdata\\local\\programs\\python\\python37\\lib\\site-packages\\empyrical\\stats.py:1511: RuntimeWarning: invalid value encountered in double_scalars\n",
      "  np.abs(np.percentile(returns, 5))\n"
     ]
    }
   ],
   "source": [
    "dailyclreturns_navport.columns = dailyclreturns_navport.columns.droplevel(0)\n",
    "groupRatio = dailyclreturns_navport.apply(lambda x: pyf.timeseries.perf_stats(x))\n",
    "db.insertDataToMongo(\"groupratio_navport\",groupRatio)"
   ]
  },
  {
   "cell_type": "code",
   "execution_count": null,
   "metadata": {},
   "outputs": [],
   "source": []
  }
 ],
 "metadata": {
  "kernelspec": {
   "display_name": "Python 3",
   "language": "python",
   "name": "python3"
  },
  "language_info": {
   "codemirror_mode": {
    "name": "ipython",
    "version": 3
   },
   "file_extension": ".py",
   "mimetype": "text/x-python",
   "name": "python",
   "nbconvert_exporter": "python",
   "pygments_lexer": "ipython3",
   "version": "3.7.0"
  },
  "toc": {
   "base_numbering": 1,
   "nav_menu": {},
   "number_sections": true,
   "sideBar": true,
   "skip_h1_title": false,
   "title_cell": "Table of Contents",
   "title_sidebar": "Contents",
   "toc_cell": false,
   "toc_position": {},
   "toc_section_display": true,
   "toc_window_display": false
  }
 },
 "nbformat": 4,
 "nbformat_minor": 2
}
