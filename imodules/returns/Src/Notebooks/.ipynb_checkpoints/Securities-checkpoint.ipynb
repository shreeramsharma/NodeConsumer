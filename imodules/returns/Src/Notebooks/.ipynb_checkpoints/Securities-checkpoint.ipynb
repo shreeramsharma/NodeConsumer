{
 "cells": [
  {
   "cell_type": "code",
   "execution_count": null,
   "metadata": {
    "ExecuteTime": {
     "end_time": "2019-01-22T10:12:16.001097Z",
     "start_time": "2019-01-22T10:12:11.218283Z"
    }
   },
   "outputs": [
    {
     "name": "stdout",
     "output_type": "stream",
     "text": [
      "192.168.1.213:27017\n"
     ]
    }
   ],
   "source": [
    "# from pymongo import MongoClient\n",
    "import numpy as np\n",
    "import pandas as pd\n",
    "import datetime\n",
    "%load_ext line_profiler\n",
    "pd.options.mode.chained_assignment = None\n",
    "from datetime import timedelta\n",
    "import sys\n",
    "sys.path.insert(0, 'E:/Credence/Projects/Ideal6-python-worker/iModules/returns/Src')\n",
    "import dbUnit as db\n",
    "import computeUnit as cu"
   ]
  },
  {
   "cell_type": "code",
   "execution_count": 2,
   "metadata": {
    "ExecuteTime": {
     "end_time": "2019-01-22T10:12:16.965492Z",
     "start_time": "2019-01-22T10:12:16.005808Z"
    }
   },
   "outputs": [
    {
     "name": "stdout",
     "output_type": "stream",
     "text": [
      "notEmpty\n"
     ]
    },
    {
     "ename": "Exception",
     "evalue": "No data found for sec_ca_daily inside oracle for 03/02/2017",
     "output_type": "error",
     "traceback": [
      "\u001b[1;31m---------------------------------------------------------------------------\u001b[0m",
      "\u001b[1;31mException\u001b[0m                                 Traceback (most recent call last)",
      "\u001b[1;32m<ipython-input-2-4086d3dab588>\u001b[0m in \u001b[0;36m<module>\u001b[1;34m()\u001b[0m\n\u001b[0;32m      6\u001b[0m     \u001b[0mhistData\u001b[0m \u001b[1;33m=\u001b[0m \u001b[0mhistData\u001b[0m\u001b[1;33m[\u001b[0m\u001b[0mhistData\u001b[0m\u001b[1;33m[\u001b[0m\u001b[1;34m'BC_TO_DATE'\u001b[0m\u001b[1;33m]\u001b[0m\u001b[1;33m!=\u001b[0m\u001b[1;34m\"1/1/2018\"\u001b[0m\u001b[1;33m]\u001b[0m\u001b[1;33m\u001b[0m\u001b[0m\n\u001b[0;32m      7\u001b[0m     \u001b[1;31m# get daily record\u001b[0m\u001b[1;33m\u001b[0m\u001b[1;33m\u001b[0m\u001b[0m\n\u001b[1;32m----> 8\u001b[1;33m     \u001b[0mdailyData\u001b[0m \u001b[1;33m=\u001b[0m \u001b[0mdb\u001b[0m\u001b[1;33m.\u001b[0m\u001b[0mgetDataFromOracle\u001b[0m\u001b[1;33m(\u001b[0m\u001b[1;34m\"sec_ca_daily\"\u001b[0m\u001b[1;33m,\u001b[0m\u001b[1;34m\"03/02/2017\"\u001b[0m\u001b[1;33m)\u001b[0m\u001b[1;33m\u001b[0m\u001b[0m\n\u001b[0m\u001b[0;32m      9\u001b[0m     dailyData = dailyData.fillna({\n\u001b[0;32m     10\u001b[0m         \u001b[1;34m\"BC_TO_DATE\"\u001b[0m \u001b[1;33m:\u001b[0m \u001b[0mdailyData\u001b[0m\u001b[1;33m[\u001b[0m\u001b[1;34m\"BSE_NSE_EX_DATE\"\u001b[0m\u001b[1;33m]\u001b[0m\u001b[1;33m\u001b[0m\u001b[0m\n",
      "\u001b[1;32mE:/Credence/Projects/Ideal6-python-worker/iModules/returns/Src\\dbUnit.py\u001b[0m in \u001b[0;36mgetDataFromOracle\u001b[1;34m(option, date)\u001b[0m\n\u001b[0;32m    105\u001b[0m     \u001b[0mrows\u001b[0m \u001b[1;33m=\u001b[0m \u001b[0mcur\u001b[0m\u001b[1;33m.\u001b[0m\u001b[0mfetchall\u001b[0m\u001b[1;33m(\u001b[0m\u001b[1;33m)\u001b[0m\u001b[1;33m\u001b[0m\u001b[0m\n\u001b[0;32m    106\u001b[0m     \u001b[1;32mif\u001b[0m \u001b[0mlen\u001b[0m\u001b[1;33m(\u001b[0m\u001b[0mrows\u001b[0m\u001b[1;33m)\u001b[0m \u001b[1;33m==\u001b[0m \u001b[1;36m0\u001b[0m\u001b[1;33m:\u001b[0m\u001b[1;33m\u001b[0m\u001b[0m\n\u001b[1;32m--> 107\u001b[1;33m         \u001b[1;32mraise\u001b[0m \u001b[0mException\u001b[0m\u001b[1;33m(\u001b[0m\u001b[1;34m\"No data found for {} inside oracle for {}\"\u001b[0m\u001b[1;33m.\u001b[0m\u001b[0mformat\u001b[0m\u001b[1;33m(\u001b[0m\u001b[0moption\u001b[0m\u001b[1;33m,\u001b[0m \u001b[0mdate\u001b[0m\u001b[1;33m)\u001b[0m\u001b[1;33m)\u001b[0m\u001b[1;33m\u001b[0m\u001b[0m\n\u001b[0m\u001b[0;32m    108\u001b[0m     \u001b[1;32mif\u001b[0m \u001b[1;34m\"trindex\"\u001b[0m \u001b[1;32min\u001b[0m \u001b[0moption\u001b[0m\u001b[1;33m:\u001b[0m\u001b[1;33m\u001b[0m\u001b[0m\n\u001b[0;32m    109\u001b[0m         \u001b[1;32mreturn\u001b[0m \u001b[0mpd\u001b[0m\u001b[1;33m.\u001b[0m\u001b[0mDataFrame\u001b[0m\u001b[1;33m(\u001b[0m\u001b[0mrows\u001b[0m\u001b[1;33m,\u001b[0m \u001b[0mcolumns\u001b[0m\u001b[1;33m=\u001b[0m\u001b[0mcolNames\u001b[0m\u001b[1;33m)\u001b[0m\u001b[1;33m.\u001b[0m\u001b[0mrename\u001b[0m\u001b[1;33m(\u001b[0m\u001b[0mcolumns\u001b[0m\u001b[1;33m=\u001b[0m\u001b[1;33m{\u001b[0m\u001b[1;34m\"INDEX_CODE\"\u001b[0m\u001b[1;33m:\u001b[0m \u001b[1;34m\"BENCHMARK\"\u001b[0m\u001b[1;33m,\u001b[0m \u001b[1;34m\"INDEX_DATE\"\u001b[0m\u001b[1;33m:\u001b[0m \u001b[1;34m\"ASONDATE\"\u001b[0m\u001b[1;33m,\u001b[0m \u001b[1;34m\"TRINDEX_VALUE\"\u001b[0m\u001b[1;33m:\u001b[0m \u001b[1;34m\"VALUE\"\u001b[0m\u001b[1;33m}\u001b[0m\u001b[1;33m)\u001b[0m\u001b[1;33m\u001b[0m\u001b[0m\n",
      "\u001b[1;31mException\u001b[0m: No data found for sec_ca_daily inside oracle for 03/02/2017"
     ]
    }
   ],
   "source": [
    "# For CaData\n",
    "histData = db.getDataFromMongo(\"rawdatacadata_securities\")\n",
    "if not histData.empty:\n",
    "    print(\"notEmpty\")\n",
    "    # drop a day records\n",
    "    histData = histData[histData['BC_TO_DATE']!=\"1/1/2018\"]\n",
    "    # get daily record\n",
    "    dailyData = db.getDataFromOracle(\"sec_ca_daily\",\"03/02/2017\")\n",
    "    dailyData = dailyData.fillna({\n",
    "        \"BC_TO_DATE\" : dailyData[\"BSE_NSE_EX_DATE\"]\n",
    "    })\n",
    "    dailyData.fillna(0,inplace=True)\n",
    "    dailyData['BC_TO_DATE'] = pd.to_datetime(dailyData['BC_TO_DATE'],format='%d/%m/%Y')\n",
    "    caData = histData.append(dailyData,ignore_index=True)\n",
    "else:\n",
    "    print(\"Empty\")\n",
    "#     histData = db.getDataFromOracle(\"sec_ca_all\")\n",
    "    caData = pd.read_csv('../Src/excel/input/priceData/CA_DATA_11.csv')\n",
    "    caData = caData.fillna({\n",
    "        \"BC_TO_DATE\" : caData[\"BSE_NSE_EX_DATE\"]\n",
    "    })\n",
    "    caData.fillna(0,inplace=True)\n",
    "    caData = caData[caData['BC_TO_DATE']!=0]\n",
    "    caData['BC_TO_DATE'] = pd.to_datetime(caData['BC_TO_DATE'],format='%d/%m/%Y')\n",
    "    # Save all historical data into Mongo\n",
    "db.insertDataToMongo(\"rawdatacadata_securities\",caData)"
   ]
  },
  {
   "cell_type": "code",
   "execution_count": null,
   "metadata": {
    "ExecuteTime": {
     "end_time": "2019-01-21T10:47:01.030479Z",
     "start_time": "2019-01-21T10:47:00.420Z"
    }
   },
   "outputs": [],
   "source": [
    "# For prices\n",
    "histData = db.getDataFromMongo(\"rawdatareturns_securities\")\n",
    "if not histData.empty:\n",
    "    print(\"notEmpty\")\n",
    "    # drop a day records\n",
    "    \n",
    "    histData = histData.set_index('MTMDATE').stack().reset_index().rename(columns={0:\"MTMPRICE\",\"level_1\":\"ISIN\"})\n",
    "    histData = histData[histData['MTMDATE']!=\"03-01-2017\"]\n",
    "    # get daily record\n",
    "    dailyData = db.getDataFromOracle(\"sec_price_daily\",\"03/02/2017\")\n",
    "#     dailyData['MTMDATE'] = pd.to_datetime(dailyData['MTMDATE'],format='%d-%m-%Y')\n",
    "    price = histData.append(dailyData,ignore_index=True)\n",
    "else:\n",
    "    print(\"Empty\")\n",
    "#     histData = db.getDataFromOracle(\"sec_price_all\")\n",
    "    priceJanJune17 = pd.read_csv('../Src/excel/input/priceData/Price Data Jan to Jun 17.csv')\n",
    "    priceJulDec17 = pd.read_csv('../Src/excel/input/priceData/Price Data Jul to Dec 17.csv')\n",
    "    price = priceJanJune17.append(priceJulDec17)\n",
    "    # Save all historical data into Mongo.\n",
    "    \n",
    "price[price['ISIN']!=0]\n",
    "price['MTMPRICE'] = price['MTMPRICE'].astype(float)\n",
    "price = price.pivot_table(index='MTMDATE',columns='ISIN',values='MTMPRICE').reset_index()\n",
    "db.insertDataToMongo(\"rawdatareturns_securities\",price)\n",
    "\n",
    "price=price.set_index('MTMDATE').stack().reset_index().rename(columns={0:\"MTMPRICE\",\"level_1\":\"ISIN\"})"
   ]
  },
  {
   "cell_type": "code",
   "execution_count": null,
   "metadata": {
    "ExecuteTime": {
     "end_time": "2019-01-21T10:47:01.031476Z",
     "start_time": "2019-01-21T10:47:00.587Z"
    },
    "scrolled": true
   },
   "outputs": [],
   "source": [
    "rawPrices, dividend, splitRatio = cu.xformation(caData,price)"
   ]
  },
  {
   "cell_type": "code",
   "execution_count": 9,
   "metadata": {
    "ExecuteTime": {
     "end_time": "2019-01-21T10:51:35.207970Z",
     "start_time": "2019-01-21T10:51:35.198957Z"
    }
   },
   "outputs": [
    {
     "ename": "NameError",
     "evalue": "name 'rawPrices' is not defined",
     "output_type": "error",
     "traceback": [
      "\u001b[1;31m---------------------------------------------------------------------------\u001b[0m",
      "\u001b[1;31mNameError\u001b[0m                                 Traceback (most recent call last)",
      "\u001b[1;32m<ipython-input-9-ce519c0efac8>\u001b[0m in \u001b[0;36m<module>\u001b[1;34m()\u001b[0m\n\u001b[1;32m----> 1\u001b[1;33m \u001b[0madjPrice\u001b[0m \u001b[1;33m=\u001b[0m \u001b[0mcu\u001b[0m\u001b[1;33m.\u001b[0m\u001b[0mcalcAdjustedPrices\u001b[0m\u001b[1;33m(\u001b[0m\u001b[0mrawPrices\u001b[0m\u001b[1;33m,\u001b[0m\u001b[0mdividend\u001b[0m\u001b[1;33m,\u001b[0m\u001b[0msplitRatio\u001b[0m\u001b[1;33m)\u001b[0m\u001b[1;33m.\u001b[0m\u001b[0msort_index\u001b[0m\u001b[1;33m(\u001b[0m\u001b[1;33m)\u001b[0m\u001b[1;33m\u001b[0m\u001b[0m\n\u001b[0m\u001b[0;32m      2\u001b[0m \u001b[0mdb\u001b[0m\u001b[1;33m.\u001b[0m\u001b[0minsertDataToMongo\u001b[0m\u001b[1;33m(\u001b[0m\u001b[1;34m\"dailyadjclose_securities\"\u001b[0m\u001b[1;33m,\u001b[0m\u001b[0madjPrice\u001b[0m\u001b[1;33m.\u001b[0m\u001b[0mreset_index\u001b[0m\u001b[1;33m(\u001b[0m\u001b[1;33m)\u001b[0m\u001b[1;33m)\u001b[0m\u001b[1;33m\u001b[0m\u001b[0m\n",
      "\u001b[1;31mNameError\u001b[0m: name 'rawPrices' is not defined"
     ]
    }
   ],
   "source": [
    "adjPrice = cu.calcAdjustedPrices(rawPrices,dividend,splitRatio).sort_index()\n",
    "db.insertDataToMongo(\"dailyadjclose_securities\",adjPrice.reset_index())"
   ]
  },
  {
   "cell_type": "code",
   "execution_count": null,
   "metadata": {
    "ExecuteTime": {
     "end_time": "2019-01-21T10:47:01.033470Z",
     "start_time": "2019-01-21T10:47:00.893Z"
    }
   },
   "outputs": [],
   "source": [
    "logReturns = np.log(adjPrice.pct_change() + 1).replace([np.inf, -np.inf], np.nan).fillna(0)\n",
    "db.insertDataToMongo(\"dailyreturns_securities\",logReturns.reset_index())"
   ]
  },
  {
   "cell_type": "code",
   "execution_count": 6,
   "metadata": {
    "ExecuteTime": {
     "end_time": "2019-01-21T10:47:01.408994Z",
     "start_time": "2019-01-21T10:47:01.399068Z"
    }
   },
   "outputs": [
    {
     "ename": "NameError",
     "evalue": "name 'adjPrice' is not defined",
     "output_type": "error",
     "traceback": [
      "\u001b[1;31m---------------------------------------------------------------------------\u001b[0m",
      "\u001b[1;31mNameError\u001b[0m                                 Traceback (most recent call last)",
      "\u001b[1;32m<ipython-input-6-f9335340269a>\u001b[0m in \u001b[0;36m<module>\u001b[1;34m()\u001b[0m\n\u001b[1;32m----> 1\u001b[1;33m \u001b[0madjPrice\u001b[0m \u001b[1;33m=\u001b[0m \u001b[0madjPrice\u001b[0m\u001b[1;33m.\u001b[0m\u001b[0mstack\u001b[0m\u001b[1;33m(\u001b[0m\u001b[1;33m)\u001b[0m\u001b[1;33m.\u001b[0m\u001b[0mreset_index\u001b[0m\u001b[1;33m(\u001b[0m\u001b[1;33m)\u001b[0m\u001b[1;33m.\u001b[0m\u001b[0mrename\u001b[0m\u001b[1;33m(\u001b[0m\u001b[0mcolumns\u001b[0m\u001b[1;33m=\u001b[0m\u001b[1;33m{\u001b[0m\u001b[1;34m'Date'\u001b[0m\u001b[1;33m:\u001b[0m\u001b[1;34m\"ASONDATE\"\u001b[0m\u001b[1;33m,\u001b[0m\u001b[1;34m\"ISIN\"\u001b[0m\u001b[1;33m:\u001b[0m\u001b[1;34m\"SECURITY\"\u001b[0m\u001b[1;33m,\u001b[0m\u001b[1;36m0\u001b[0m\u001b[1;33m:\u001b[0m\u001b[1;34m\"ADJPRICES\"\u001b[0m\u001b[1;33m}\u001b[0m\u001b[1;33m)\u001b[0m\u001b[1;33m\u001b[0m\u001b[0m\n\u001b[0m\u001b[0;32m      2\u001b[0m \u001b[0mlogReturns\u001b[0m \u001b[1;33m=\u001b[0m \u001b[0mlogReturns\u001b[0m\u001b[1;33m.\u001b[0m\u001b[0mstack\u001b[0m\u001b[1;33m(\u001b[0m\u001b[1;33m)\u001b[0m\u001b[1;33m.\u001b[0m\u001b[0mreset_index\u001b[0m\u001b[1;33m(\u001b[0m\u001b[1;33m)\u001b[0m\u001b[1;33m.\u001b[0m\u001b[0mrename\u001b[0m\u001b[1;33m(\u001b[0m\u001b[0mcolumns\u001b[0m\u001b[1;33m=\u001b[0m\u001b[1;33m{\u001b[0m\u001b[1;34m'Date'\u001b[0m\u001b[1;33m:\u001b[0m\u001b[1;34m\"ASONDATE\"\u001b[0m\u001b[1;33m,\u001b[0m\u001b[1;34m\"ISIN\"\u001b[0m\u001b[1;33m:\u001b[0m\u001b[1;34m\"SECURITY\"\u001b[0m\u001b[1;33m,\u001b[0m\u001b[1;36m0\u001b[0m\u001b[1;33m:\u001b[0m\u001b[1;34m\"LOGRETURNS\"\u001b[0m\u001b[1;33m}\u001b[0m\u001b[1;33m)\u001b[0m\u001b[1;33m\u001b[0m\u001b[0m\n\u001b[0;32m      3\u001b[0m \u001b[1;33m\u001b[0m\u001b[0m\n\u001b[0;32m      4\u001b[0m \u001b[0mdailyclreturns_securities\u001b[0m \u001b[1;33m=\u001b[0m \u001b[0madjPrice\u001b[0m\u001b[1;33m.\u001b[0m\u001b[0mmerge\u001b[0m\u001b[1;33m(\u001b[0m\u001b[0mlogReturns\u001b[0m\u001b[1;33m,\u001b[0m\u001b[0mon\u001b[0m\u001b[1;33m=\u001b[0m\u001b[1;33m[\u001b[0m\u001b[1;34m'ASONDATE'\u001b[0m\u001b[1;33m,\u001b[0m\u001b[1;34m'SECURITY'\u001b[0m\u001b[1;33m]\u001b[0m\u001b[1;33m)\u001b[0m\u001b[1;33m\u001b[0m\u001b[0m\n\u001b[0;32m      5\u001b[0m \u001b[0mdailyclreturns_securities\u001b[0m \u001b[1;33m=\u001b[0m \u001b[0mdailyclreturns_securities\u001b[0m\u001b[1;33m.\u001b[0m\u001b[0mset_index\u001b[0m\u001b[1;33m(\u001b[0m\u001b[1;33m[\u001b[0m\u001b[1;34m'ASONDATE'\u001b[0m\u001b[1;33m,\u001b[0m\u001b[1;34m'SECURITY'\u001b[0m\u001b[1;33m]\u001b[0m\u001b[1;33m)\u001b[0m\u001b[1;33m.\u001b[0m\u001b[0mstack\u001b[0m\u001b[1;33m(\u001b[0m\u001b[1;33m)\u001b[0m\u001b[1;33m.\u001b[0m\u001b[0mreset_index\u001b[0m\u001b[1;33m(\u001b[0m\u001b[1;33m)\u001b[0m\u001b[1;33m.\u001b[0m\u001b[0mrename\u001b[0m\u001b[1;33m(\u001b[0m\u001b[0mcolumns\u001b[0m\u001b[1;33m=\u001b[0m\u001b[1;33m{\u001b[0m\u001b[1;34m\"level_2\"\u001b[0m\u001b[1;33m:\u001b[0m\u001b[1;34m\"OPERATION\"\u001b[0m\u001b[1;33m,\u001b[0m\u001b[1;36m0\u001b[0m\u001b[1;33m:\u001b[0m\u001b[1;34m\"VALUE\"\u001b[0m\u001b[1;33m}\u001b[0m\u001b[1;33m)\u001b[0m\u001b[1;33m\u001b[0m\u001b[0m\n",
      "\u001b[1;31mNameError\u001b[0m: name 'adjPrice' is not defined"
     ]
    }
   ],
   "source": [
    "adjPrice = adjPrice.stack().reset_index().rename(columns={'Date':\"ASONDATE\",\"ISIN\":\"SECURITY\",0:\"ADJPRICES\"})\n",
    "logReturns = logReturns.stack().reset_index().rename(columns={'Date':\"ASONDATE\",\"ISIN\":\"SECURITY\",0:\"LOGRETURNS\"})\n",
    "\n",
    "dailyclreturns_securities = adjPrice.merge(logReturns,on=['ASONDATE','SECURITY'])\n",
    "dailyclreturns_securities = dailyclreturns_securities.set_index(['ASONDATE','SECURITY']).stack().reset_index().rename(columns={\"level_2\":\"OPERATION\",0:\"VALUE\"})"
   ]
  },
  {
   "cell_type": "code",
   "execution_count": 7,
   "metadata": {
    "ExecuteTime": {
     "end_time": "2019-01-21T10:47:01.570212Z",
     "start_time": "2019-01-21T10:47:01.567184Z"
    }
   },
   "outputs": [],
   "source": [
    "# db.insertDataToMongo(\"dailyclreturns_securities\",dailyclreturns_securities)"
   ]
  },
  {
   "cell_type": "code",
   "execution_count": 8,
   "metadata": {
    "ExecuteTime": {
     "end_time": "2019-01-21T10:47:02.337204Z",
     "start_time": "2019-01-21T10:47:02.329184Z"
    }
   },
   "outputs": [
    {
     "ename": "NameError",
     "evalue": "name 'dailyclreturns_securities' is not defined",
     "output_type": "error",
     "traceback": [
      "\u001b[1;31m---------------------------------------------------------------------------\u001b[0m",
      "\u001b[1;31mNameError\u001b[0m                                 Traceback (most recent call last)",
      "\u001b[1;32m<ipython-input-8-1aede2582112>\u001b[0m in \u001b[0;36m<module>\u001b[1;34m()\u001b[0m\n\u001b[1;32m----> 1\u001b[1;33m \u001b[0mdailyclreturns_securities\u001b[0m \u001b[1;33m=\u001b[0m \u001b[0mdailyclreturns_securities\u001b[0m\u001b[1;33m.\u001b[0m\u001b[0mpivot_table\u001b[0m\u001b[1;33m(\u001b[0m\u001b[0mindex\u001b[0m\u001b[1;33m=\u001b[0m\u001b[1;34m'ASONDATE'\u001b[0m\u001b[1;33m,\u001b[0m\u001b[0mcolumns\u001b[0m\u001b[1;33m=\u001b[0m\u001b[1;33m[\u001b[0m\u001b[1;34m\"OPERATION\"\u001b[0m\u001b[1;33m,\u001b[0m\u001b[1;34m\"SECURITY\"\u001b[0m\u001b[1;33m]\u001b[0m\u001b[1;33m)\u001b[0m\u001b[1;33m\u001b[0m\u001b[0m\n\u001b[0m\u001b[0;32m      2\u001b[0m \u001b[0mdailyclreturns_securities\u001b[0m \u001b[1;33m=\u001b[0m \u001b[0mdailyclreturns_securities\u001b[0m\u001b[1;33m.\u001b[0m\u001b[0miloc\u001b[0m\u001b[1;33m[\u001b[0m\u001b[1;33m:\u001b[0m\u001b[1;33m,\u001b[0m \u001b[0mdailyclreturns_securities\u001b[0m\u001b[1;33m.\u001b[0m\u001b[0mcolumns\u001b[0m\u001b[1;33m.\u001b[0m\u001b[0mget_level_values\u001b[0m\u001b[1;33m(\u001b[0m\u001b[1;36m1\u001b[0m\u001b[1;33m)\u001b[0m\u001b[1;33m==\u001b[0m\u001b[1;34m'LOGRETURNS'\u001b[0m\u001b[1;33m]\u001b[0m\u001b[1;33m.\u001b[0m\u001b[0mfillna\u001b[0m\u001b[1;33m(\u001b[0m\u001b[1;36m0\u001b[0m\u001b[1;33m)\u001b[0m\u001b[1;33m\u001b[0m\u001b[0m\n",
      "\u001b[1;31mNameError\u001b[0m: name 'dailyclreturns_securities' is not defined"
     ]
    }
   ],
   "source": [
    "dailyclreturns_securities = dailyclreturns_securities.pivot_table(index='ASONDATE',columns=[\"OPERATION\",\"SECURITY\"])\n",
    "dailyclreturns_securities = dailyclreturns_securities.iloc[:, dailyclreturns_securities.columns.get_level_values(1)=='LOGRETURNS'].fillna(0)"
   ]
  },
  {
   "cell_type": "code",
   "execution_count": 12,
   "metadata": {
    "ExecuteTime": {
     "end_time": "2019-01-22T10:11:27.002054Z",
     "start_time": "2019-01-22T10:11:26.992291Z"
    }
   },
   "outputs": [
    {
     "ename": "NameError",
     "evalue": "name 'dailyclreturns_securities' is not defined",
     "output_type": "error",
     "traceback": [
      "\u001b[1;31m---------------------------------------------------------------------------\u001b[0m",
      "\u001b[1;31mNameError\u001b[0m                                 Traceback (most recent call last)",
      "\u001b[1;32m<ipython-input-12-d05826e65210>\u001b[0m in \u001b[0;36m<module>\u001b[1;34m()\u001b[0m\n\u001b[1;32m----> 1\u001b[1;33m \u001b[0mdailyclreturns_securities\u001b[0m\u001b[1;33m.\u001b[0m\u001b[0mcolumns\u001b[0m \u001b[1;33m=\u001b[0m \u001b[0mdailyclreturns_securities\u001b[0m\u001b[1;33m.\u001b[0m\u001b[0mcolumns\u001b[0m\u001b[1;33m.\u001b[0m\u001b[0mdroplevel\u001b[0m\u001b[1;33m(\u001b[0m\u001b[1;36m0\u001b[0m\u001b[1;33m)\u001b[0m\u001b[1;33m\u001b[0m\u001b[0m\n\u001b[0m",
      "\u001b[1;31mNameError\u001b[0m: name 'dailyclreturns_securities' is not defined"
     ]
    }
   ],
   "source": [
    "dailyclreturns_securities.columns = dailyclreturns_securities.columns.droplevel(0)"
   ]
  },
  {
   "cell_type": "code",
   "execution_count": 11,
   "metadata": {
    "ExecuteTime": {
     "end_time": "2018-12-27T09:57:31.487771Z",
     "start_time": "2018-12-27T09:57:30.464017Z"
    }
   },
   "outputs": [],
   "source": [
    "groupReturns = cu.calcGroupReturns(\"2018-01-01\",dailyclreturns_securities,[\"LOGRETURNS\"])\n",
    "groupReturns['TYPE']=\"SECURITIES\"\n",
    "groupReturns['ASONDATE']=\"2018-01-01\""
   ]
  },
  {
   "cell_type": "code",
   "execution_count": 12,
   "metadata": {
    "ExecuteTime": {
     "end_time": "2018-12-27T09:57:55.202104Z",
     "start_time": "2018-12-27T09:57:31.493753Z"
    }
   },
   "outputs": [],
   "source": [
    "db.insertDataToMongo(\"groupreturns\",groupReturns.reset_index(),\"2018-01-01\")"
   ]
  },
  {
   "cell_type": "code",
   "execution_count": 13,
   "metadata": {
    "ExecuteTime": {
     "end_time": "2018-12-27T09:57:55.213901Z",
     "start_time": "2018-12-27T09:57:55.205919Z"
    }
   },
   "outputs": [],
   "source": [
    "# import pyfolio as pf\n",
    "\n",
    "# dailyclreturns_securities.columns =dailyclreturns_securities.columns.droplevel()\n",
    "\n",
    "# dailyclreturns_securities\n",
    "\n",
    "# pf.create_full_tear_sheet(dailyclreturns_securities[\"US5486611073\"])"
   ]
  },
  {
   "cell_type": "code",
   "execution_count": 14,
   "metadata": {
    "ExecuteTime": {
     "end_time": "2018-12-27T09:57:55.655946Z",
     "start_time": "2018-12-27T09:57:55.219941Z"
    }
   },
   "outputs": [],
   "source": [
    "db.insertDataToOracle(\"groupreturns\",groupReturns.reset_index(),type=\"SECURITIES\")"
   ]
  },
  {
   "cell_type": "code",
   "execution_count": 19,
   "metadata": {
    "ExecuteTime": {
     "end_time": "2018-12-27T10:00:00.642857Z",
     "start_time": "2018-12-27T10:00:00.637836Z"
    }
   },
   "outputs": [],
   "source": [
    "import pyfolio as pyf"
   ]
  },
  {
   "cell_type": "code",
   "execution_count": 20,
   "metadata": {
    "ExecuteTime": {
     "end_time": "2018-12-27T10:00:02.101926Z",
     "start_time": "2018-12-27T10:00:02.096733Z"
    }
   },
   "outputs": [],
   "source": [
    "dailyclreturns_securities.columns = dailyclreturns_securities.columns.droplevel(0)\n",
    "groupRatio = dailyclreturns_securities.apply(lambda x: pyf.timeseries.perf_stats(x))\n",
    "db.insertDataToMongo(\"groupratio_securities\",groupRatio)"
   ]
  },
  {
   "cell_type": "code",
   "execution_count": 72,
   "metadata": {
    "ExecuteTime": {
     "end_time": "2018-12-28T07:33:17.785331Z",
     "start_time": "2018-12-28T07:33:17.782339Z"
    }
   },
   "outputs": [],
   "source": [
    "# pyf.timeseries.perf_stats(dailyclreturns_securities['US70450Y1038'])\n",
    "# pyf.create_returns_tear_sheet(dailyclreturns_securities['US70450Y1038'])\n",
    "# pyf.create_full_tear_sheet(dailyclreturns_securities['US70450Y1038'])"
   ]
  }
 ],
 "metadata": {
  "kernelspec": {
   "display_name": "Python 3",
   "language": "python",
   "name": "python3"
  },
  "language_info": {
   "codemirror_mode": {
    "name": "ipython",
    "version": 3
   },
   "file_extension": ".py",
   "mimetype": "text/x-python",
   "name": "python",
   "nbconvert_exporter": "python",
   "pygments_lexer": "ipython3",
   "version": "3.7.4"
  },
  "toc": {
   "base_numbering": 1,
   "nav_menu": {},
   "number_sections": true,
   "sideBar": true,
   "skip_h1_title": false,
   "title_cell": "Table of Contents",
   "title_sidebar": "Contents",
   "toc_cell": false,
   "toc_position": {},
   "toc_section_display": true,
   "toc_window_display": false
  }
 },
 "nbformat": 4,
 "nbformat_minor": 2
}
