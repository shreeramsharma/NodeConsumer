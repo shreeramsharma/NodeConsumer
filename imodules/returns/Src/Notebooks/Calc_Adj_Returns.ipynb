{
 "cells": [
  {
   "cell_type": "code",
   "execution_count": 1,
   "metadata": {
    "ExecuteTime": {
     "end_time": "2018-12-11T06:00:05.024342Z",
     "start_time": "2018-12-11T06:00:04.187176Z"
    }
   },
   "outputs": [],
   "source": [
    "from pymongo import MongoClient\n",
    "import numpy as np\n",
    "import pandas as pd\n",
    "import json\n",
    "# %load_ext line_profiler"
   ]
  },
  {
   "cell_type": "code",
   "execution_count": 2,
   "metadata": {
    "ExecuteTime": {
     "end_time": "2018-12-11T06:00:05.031352Z",
     "start_time": "2018-12-11T06:00:05.026363Z"
    }
   },
   "outputs": [],
   "source": [
    "client = MongoClient('localhost')\n",
    "db = client.Returns_WealthNFunds"
   ]
  },
  {
   "cell_type": "code",
   "execution_count": 3,
   "metadata": {
    "ExecuteTime": {
     "end_time": "2018-12-11T06:00:07.334004Z",
     "start_time": "2018-12-11T06:00:07.330015Z"
    }
   },
   "outputs": [],
   "source": [
    "def insertMongo(collectionName,data):\n",
    "    db.get_collection(collectionName).drop()\n",
    "    db.get_collection(collectionName).insert_many(json.loads(data.reset_index().to_json(orient='records',date_format='iso')))\n",
    "\n",
    "def readMongo(collectionName):\n",
    "    data  = pd.DataFrame(list(db.get_collection(collectionName).find()))\n",
    "#     data[colDate] = pd.to_datetime(data[colDate])\n",
    "#     data.set_index(colDate,inplace=True)\n",
    "    return data"
   ]
  },
  {
   "cell_type": "code",
   "execution_count": 4,
   "metadata": {
    "ExecuteTime": {
     "end_time": "2018-12-11T06:00:15.682243Z",
     "start_time": "2018-12-11T06:00:08.595774Z"
    }
   },
   "outputs": [],
   "source": [
    "rawPrices = readMongo('rawPrices').set_index('Date').drop(columns=['_id'])\n",
    "dividend = readMongo('dividend').set_index('Date').drop(columns=['_id'])\n",
    "splitRatio = readMongo('splitRatio').set_index('Date').drop(columns=['_id'])"
   ]
  },
  {
   "cell_type": "code",
   "execution_count": 106,
   "metadata": {
    "ExecuteTime": {
     "end_time": "2018-11-21T11:49:24.873139Z",
     "start_time": "2018-11-21T11:49:24.870199Z"
    }
   },
   "outputs": [],
   "source": [
    "# rawPrices=pd.read_csv('excel/output/rawPrices.csv',index_col='Date')\n",
    "# dividend=pd.read_csv('excel/output/dividend.csv',index_col='Date')\n",
    "# splitRatio=pd.read_csv('excel/output/splitRatio.csv',index_col='Date')"
   ]
  },
  {
   "cell_type": "code",
   "execution_count": 8,
   "metadata": {
    "ExecuteTime": {
     "end_time": "2018-12-11T06:02:39.465554Z",
     "start_time": "2018-12-11T06:02:39.460566Z"
    }
   },
   "outputs": [],
   "source": [
    "def calcAdjustedPrices(rawPrices,dividend,splitRatio):\n",
    "    rawPrices.sort_index(ascending=False, inplace=True)\n",
    "    dividend.sort_index(ascending=False, inplace=True)\n",
    "    splitRatio.sort_index(ascending=False, inplace=True)\n",
    "\n",
    "    pivot_adj_price_df = pd.DataFrame(index=rawPrices.index,data = np.zeros(rawPrices.shape),columns=rawPrices.columns)\n",
    "    pivot_adj_price_df.iloc[0] = round(rawPrices.iloc[0],4)\n",
    "\n",
    "    for i in range(1,len(rawPrices)):\n",
    "        pivot_adj_price_df.iloc[i] = (pivot_adj_price_df.iloc[i - 1].values *\n",
    "                       (((rawPrices.iloc[i].values * splitRatio.iloc[i - 1].values) - dividend.iloc[i - 1].values) / rawPrices.iloc[i - 1].values))\n",
    "\n",
    "#     adjPrice = pivot_adj_price_df.stack().reset_index().rename(columns={0:'adjPrice','level_1':'ISIN'})\n",
    "\n",
    "    return pivot_adj_price_df"
   ]
  },
  {
   "cell_type": "code",
   "execution_count": 9,
   "metadata": {
    "ExecuteTime": {
     "end_time": "2018-12-11T06:02:45.044517Z",
     "start_time": "2018-12-11T06:02:41.915781Z"
    }
   },
   "outputs": [],
   "source": [
    "pivotAdjPriceDf = calcAdjustedPrices(rawPrices,dividend,splitRatio)\n",
    "insertMongo(\"adjustedPrice\", pivotAdjPriceDf)"
   ]
  },
  {
   "cell_type": "code",
   "execution_count": 38,
   "metadata": {
    "ExecuteTime": {
     "end_time": "2018-11-21T06:44:53.912611Z",
     "start_time": "2018-11-21T06:44:51.544702Z"
    }
   },
   "outputs": [],
   "source": [
    "pivotAdjPriceDf.to_csv('excel/output/pivotAdjustedPrices.csv')\n",
    "adjPrice.to_csv('excel/output/adjustedPrices.csv')"
   ]
  },
  {
   "cell_type": "code",
   "execution_count": null,
   "metadata": {
    "ExecuteTime": {
     "end_time": "2018-11-21T06:47:51.851761Z",
     "start_time": "2018-11-21T06:47:50.254020Z"
    }
   },
   "outputs": [],
   "source": [
    "# with pd.option_context('display.max_rows',None):\n",
    "#     print(adjPrice.pivot_table(index='Date',columns='ISIN',values='adjPrice'))"
   ]
  },
  {
   "cell_type": "code",
   "execution_count": null,
   "metadata": {
    "ExecuteTime": {
     "end_time": "2018-11-20T10:07:10.186027Z",
     "start_time": "2018-11-20T10:07:10.182002Z"
    }
   },
   "outputs": [],
   "source": [
    "# TEST CASES\n",
    "testISIN = 'INE042A01014'\n",
    "pd.DataFrame(data = {'adj':adjPriceDf[testISIN],'raw':rawPrices[testISIN],'dividend':dividend[testISIN],'split':splitRatio[testISIN]}).to_csv('excel/testcases/test_{}.csv'.format(testISIN))"
   ]
  }
 ],
 "metadata": {
  "kernelspec": {
   "display_name": "Python 3",
   "language": "python",
   "name": "python3"
  },
  "language_info": {
   "codemirror_mode": {
    "name": "ipython",
    "version": 3
   },
   "file_extension": ".py",
   "mimetype": "text/x-python",
   "name": "python",
   "nbconvert_exporter": "python",
   "pygments_lexer": "ipython3",
   "version": "3.7.2"
  },
  "toc": {
   "base_numbering": 1,
   "nav_menu": {},
   "number_sections": true,
   "sideBar": true,
   "skip_h1_title": false,
   "title_cell": "Table of Contents",
   "title_sidebar": "Contents",
   "toc_cell": false,
   "toc_position": {},
   "toc_section_display": true,
   "toc_window_display": false
  }
 },
 "nbformat": 4,
 "nbformat_minor": 2
}
